{
 "cells": [
  {
   "cell_type": "markdown",
   "metadata": {
    "vscode": {
     "languageId": "plaintext"
    }
   },
   "source": [
    "# GNNs"
   ]
  },
  {
   "cell_type": "markdown",
   "metadata": {},
   "source": [
    "## mass into account"
   ]
  },
  {
   "cell_type": "code",
   "execution_count": null,
   "metadata": {},
   "outputs": [],
   "source": [
    "import torch\n",
    "import torch.nn.functional as F\n",
    "from torch_geometric.nn import GCNConv\n",
    "from torch_geometric.data import Data\n",
    "from torch_geometric.nn import radius_graph\n",
    "from torch_geometric.loader import DataLoader\n",
    "from torch_geometric.data import Data\n",
    "from datagen import generate_dataset\n",
    "from tqdm import tqdm\n",
    "\n",
    "\n",
    "def fully_connected(input_dim, hidden_dim, output_dim, num_layers):\n",
    "    layers = []\n",
    "    # Add hidden layers\n",
    "    for _ in range(num_layers):\n",
    "        layers.append(torch.nn.Linear(input_dim, hidden_dim))\n",
    "        layers.append(torch.nn.ReLU())\n",
    "        input_dim = hidden_dim\n",
    "    # Add output layer\n",
    "    layers.append(torch.nn.Linear(hidden_dim, output_dim))\n",
    "    return torch.nn.Sequential(*layers)\n",
    "\n",
    "# Function to create edge weights based on mass difference\n",
    "def create_edge_weights_based_on_mass(data):\n",
    "    row, col = data.edge_index  # Get indices of connected nodes\n",
    "    # Get masses for each node in the connection\n",
    "    pos_row = data.x[row][:, :3]\n",
    "    pos_col = data.x[col][:, :3]\n",
    "    distance = torch.norm(pos_row - pos_col, dim=1)  # Calculate distance between nodes\n",
    "    data.edge_weight = 1 / distance  # Assign edge weight based on inverse of distance\n",
    "    \n",
    "    return data\n",
    "\n",
    "class ParticleGNN(torch.nn.Module):\n",
    "    def __init__(self, input_dim, fc_dim, fc_layers, gnn_dim, message_passing_steps, output_dim):\n",
    "        super(ParticleGNN, self).__init__()\n",
    "        # Encoder for initial node features\n",
    "        self.encoder = fully_connected(input_dim, fc_dim, gnn_dim, fc_layers)\n",
    "        \n",
    "        # GCN layers for message passing\n",
    "        self.gnns = []\n",
    "        for i in range(message_passing_steps):\n",
    "            gnn = GCNConv(gnn_dim, gnn_dim)\n",
    "            setattr(self, f'gnn_{i}', gnn)\n",
    "            self.gnns.append(gnn)\n",
    "        \n",
    "        # Decoder to transform final node features to output\n",
    "        self.decoder = fully_connected(gnn_dim, fc_dim, output_dim, fc_layers)\n",
    "\n",
    "    def forward(self, data):\n",
    "        x, edge_index, edge_weight = data.x, data.edge_index, data.edge_weight\n",
    "        x = self.encoder(x)\n",
    "        \n",
    "        for gnn in self.gnns:\n",
    "            x = F.relu(gnn(x, edge_index, edge_weight=edge_weight))\n",
    "        \n",
    "        x = self.decoder(x)\n",
    "        return x\n",
    "\n",
    "\n",
    "\n",
    "# Function to convert particles to a torch_geometric Data object\n",
    "def transform_particles_to_graph_with_radius_and_mass_edge_weights(features, positions, radius):\n",
    "    # Extract features for each particle: [x, y, z, vx, vy, vz, mass]\n",
    "\n",
    "    \n",
    "    # Create edges based on radius\n",
    "    edge_index = radius_graph(positions, r=radius)\n",
    "    # for every node, connect it to top 2 biggest nodes\n",
    "\n",
    "    biggest_nodes_index = torch.argsort(features[:, -1], descending=True)[:2]\n",
    "    for i in range(features.shape[0]):\n",
    "        if i not in biggest_nodes_index:\n",
    "            edge_index = torch.cat((edge_index, torch.tensor([[i, biggest_nodes_index[0]], [i, biggest_nodes_index[1]]], dtype=torch.long)), 1)\n",
    "            edge_index = torch.cat((edge_index, torch.tensor([[biggest_nodes_index[0], i], [biggest_nodes_index[1], i]], dtype=torch.long)), 1)\n",
    "\n",
    "\n",
    "\n",
    "    \n",
    "    # Create data object\n",
    "    graph_data = Data(x=features, edge_index=edge_index)\n",
    "    \n",
    "    # Add edge weights based on mass\n",
    "    graph_data = create_edge_weights_based_on_mass(graph_data)\n",
    "    return graph_data\n",
    "\n",
    "\n",
    "\n",
    "  \n"
   ]
  },
  {
   "cell_type": "code",
   "execution_count": 54,
   "metadata": {},
   "outputs": [],
   "source": [
    "def euclidean_distance(a, b):\n",
    "    return torch.sqrt(torch.sum((a - b)**2, dim=-1) + 1e-12)\n",
    "def mean_distance(a, b):\n",
    "    return torch.mean(euclidean_distance(a, b))"
   ]
  },
  {
   "cell_type": "code",
   "execution_count": 55,
   "metadata": {},
   "outputs": [],
   "source": [
    "import torch\n",
    "def generate_graph_dataset(data, radius):\n",
    "    graphs = []\n",
    "    for i in range(len(data)):\n",
    "        masses = torch.tensor(data[i]['masses']).unsqueeze(-1)\n",
    "        positions = torch.tensor(data[i]['pos'])\n",
    "        velocities = torch.tensor(data[i]['vel'])\n",
    "        Gs = torch.ones_like(masses) \n",
    "        softening = torch.ones_like(masses) * 0.1\n",
    "        features = torch.cat([positions, velocities, Gs, softening, masses], dim=-1)\n",
    "        graph_data = transform_particles_to_graph_with_radius_and_mass_edge_weights(features, positions, radius)\n",
    "        graph_data.y = torch.tensor(data[i]['acc'])\n",
    "        graphs.append(graph_data)\n",
    "    return graphs"
   ]
  },
  {
   "cell_type": "code",
   "execution_count": 56,
   "metadata": {},
   "outputs": [],
   "source": [
    "# Initialize model and optimizer\n",
    "model = ParticleGNN(input_dim=9, fc_dim=128, fc_layers=1, gnn_dim=128, message_passing_steps=5, output_dim=3)\n",
    "optimizer = torch.optim.Adam(model.parameters(), lr=0.001)\n",
    "device = torch.device('cuda' if torch.cuda.is_available() else 'cpu')\n",
    "model = model.to(device)"
   ]
  },
  {
   "cell_type": "code",
   "execution_count": 57,
   "metadata": {},
   "outputs": [
    {
     "name": "stdout",
     "output_type": "stream",
     "text": [
      "--- Round 0 ---\n",
      "Generating dataset with 25 scenes...\n"
     ]
    },
    {
     "name": "stderr",
     "output_type": "stream",
     "text": [
      "100%|██████████| 25/25 [07:52<00:00, 18.90s/it]\n"
     ]
    },
    {
     "name": "stdout",
     "output_type": "stream",
     "text": [
      "Epoch 1, Loss: 2.5632526874542236\n",
      "Epoch 2, Loss: 2.428107261657715\n",
      "Epoch 3, Loss: 2.373164415359497\n",
      "Epoch 4, Loss: 2.3450422286987305\n",
      "--- Round 1 ---\n",
      "Generating dataset with 25 scenes...\n"
     ]
    },
    {
     "name": "stderr",
     "output_type": "stream",
     "text": [
      "100%|██████████| 25/25 [08:02<00:00, 19.29s/it]\n"
     ]
    },
    {
     "name": "stdout",
     "output_type": "stream",
     "text": [
      "Epoch 1, Loss: 2.265080690383911\n",
      "Epoch 2, Loss: 2.167938709259033\n",
      "Epoch 3, Loss: 2.134875774383545\n",
      "Epoch 4, Loss: 2.1150715351104736\n",
      "--- Round 2 ---\n",
      "Generating dataset with 25 scenes...\n"
     ]
    },
    {
     "name": "stderr",
     "output_type": "stream",
     "text": [
      "100%|██████████| 25/25 [08:08<00:00, 19.55s/it]\n"
     ]
    },
    {
     "name": "stdout",
     "output_type": "stream",
     "text": [
      "Epoch 1, Loss: 3.04636549949646\n",
      "Epoch 2, Loss: 2.944793701171875\n",
      "Epoch 3, Loss: 2.907914638519287\n",
      "Epoch 4, Loss: 2.8868069648742676\n",
      "--- Round 3 ---\n",
      "Generating dataset with 25 scenes...\n"
     ]
    },
    {
     "name": "stderr",
     "output_type": "stream",
     "text": [
      "100%|██████████| 25/25 [08:02<00:00, 19.32s/it]\n"
     ]
    },
    {
     "name": "stdout",
     "output_type": "stream",
     "text": [
      "Epoch 1, Loss: 2.735196590423584\n",
      "Epoch 2, Loss: 2.6247127056121826\n",
      "Epoch 3, Loss: 2.5868544578552246\n",
      "Epoch 4, Loss: 2.564666271209717\n",
      "--- Round 4 ---\n",
      "Generating dataset with 25 scenes...\n"
     ]
    },
    {
     "name": "stderr",
     "output_type": "stream",
     "text": [
      "100%|██████████| 25/25 [08:05<00:00, 19.43s/it]\n"
     ]
    },
    {
     "name": "stdout",
     "output_type": "stream",
     "text": [
      "Epoch 1, Loss: 2.3206770420074463\n",
      "Epoch 2, Loss: 2.233513593673706\n",
      "Epoch 3, Loss: 2.1996114253997803\n",
      "Epoch 4, Loss: 2.182072639465332\n",
      "--- Round 5 ---\n",
      "Generating dataset with 25 scenes...\n"
     ]
    },
    {
     "name": "stderr",
     "output_type": "stream",
     "text": [
      " 80%|████████  | 20/25 [06:35<01:38, 19.75s/it]\n"
     ]
    },
    {
     "ename": "KeyboardInterrupt",
     "evalue": "",
     "output_type": "error",
     "traceback": [
      "\u001b[1;31m---------------------------------------------------------------------------\u001b[0m",
      "\u001b[1;31mKeyboardInterrupt\u001b[0m                         Traceback (most recent call last)",
      "Cell \u001b[1;32mIn[57], line 12\u001b[0m\n\u001b[0;32m     10\u001b[0m \u001b[38;5;28;01mfor\u001b[39;00m r \u001b[38;5;129;01min\u001b[39;00m \u001b[38;5;28mrange\u001b[39m(ROUNDS):\n\u001b[0;32m     11\u001b[0m     \u001b[38;5;28mprint\u001b[39m(\u001b[38;5;124mf\u001b[39m\u001b[38;5;124m'\u001b[39m\u001b[38;5;124m--- Round \u001b[39m\u001b[38;5;132;01m{\u001b[39;00mr\u001b[38;5;132;01m}\u001b[39;00m\u001b[38;5;124m ---\u001b[39m\u001b[38;5;124m'\u001b[39m)\n\u001b[1;32m---> 12\u001b[0m     data \u001b[38;5;241m=\u001b[39m \u001b[43mgenerate_dataset\u001b[49m\u001b[43m(\u001b[49m\u001b[43mn_scenes\u001b[49m\u001b[38;5;241;43m=\u001b[39;49m\u001b[43mSCENES\u001b[49m\u001b[43m,\u001b[49m\u001b[43mwindow_size\u001b[49m\u001b[38;5;241;43m=\u001b[39;49m\u001b[43mWINDOW_SIZE\u001b[49m\u001b[43m)\u001b[49m\n\u001b[0;32m     13\u001b[0m     graphs \u001b[38;5;241m=\u001b[39m generate_graph_dataset(data, RADIUS)\n\u001b[0;32m     14\u001b[0m     dataloader \u001b[38;5;241m=\u001b[39m DataLoader(graphs, batch_size\u001b[38;5;241m=\u001b[39m\u001b[38;5;241m1\u001b[39m)\n",
      "File \u001b[1;32mc:\\Users\\vramo\\proyectos\\nbody-deep-sim\\datagen.py:81\u001b[0m, in \u001b[0;36mgenerate_dataset\u001b[1;34m(n_scenes, window_size, shuffle)\u001b[0m\n\u001b[0;32m     79\u001b[0m \u001b[38;5;28mprint\u001b[39m(\u001b[38;5;124mf\u001b[39m\u001b[38;5;124m'\u001b[39m\u001b[38;5;124mGenerating dataset with \u001b[39m\u001b[38;5;132;01m{\u001b[39;00mn_scenes\u001b[38;5;132;01m}\u001b[39;00m\u001b[38;5;124m scenes...\u001b[39m\u001b[38;5;124m'\u001b[39m)\n\u001b[0;32m     80\u001b[0m \u001b[38;5;28;01mfor\u001b[39;00m _ \u001b[38;5;129;01min\u001b[39;00m tqdm\u001b[38;5;241m.\u001b[39mtqdm(\u001b[38;5;28mrange\u001b[39m(n_scenes)):\n\u001b[1;32m---> 81\u001b[0m     scene \u001b[38;5;241m=\u001b[39m \u001b[43mgenerate_scene_2gals\u001b[49m\u001b[43m(\u001b[49m\u001b[43m)\u001b[49m\n\u001b[0;32m     82\u001b[0m     types\u001b[38;5;241m=\u001b[39m np\u001b[38;5;241m.\u001b[39marray(scene[\u001b[38;5;124m'\u001b[39m\u001b[38;5;124mtypes\u001b[39m\u001b[38;5;124m'\u001b[39m])\n\u001b[0;32m     83\u001b[0m     bh_index \u001b[38;5;241m=\u001b[39m np\u001b[38;5;241m.\u001b[39mwhere(types \u001b[38;5;241m==\u001b[39m \u001b[38;5;124m\"\u001b[39m\u001b[38;5;124mblack hole\u001b[39m\u001b[38;5;124m\"\u001b[39m)[\u001b[38;5;241m0\u001b[39m]\n",
      "File \u001b[1;32mc:\\Users\\vramo\\proyectos\\nbody-deep-sim\\datagen.py:36\u001b[0m, in \u001b[0;36mgenerate_scene_2gals\u001b[1;34m()\u001b[0m\n\u001b[0;32m     33\u001b[0m particles \u001b[38;5;241m=\u001b[39m particles1 \u001b[38;5;241m+\u001b[39m particles2\n\u001b[0;32m     34\u001b[0m sim \u001b[38;5;241m=\u001b[39m NBodySimulation(particles, G, softening, dt)\n\u001b[1;32m---> 36\u001b[0m pos, vel, acc, KE, PE, _, masses, types \u001b[38;5;241m=\u001b[39m \u001b[43msim\u001b[49m\u001b[38;5;241;43m.\u001b[39;49m\u001b[43mrun\u001b[49m\u001b[43m(\u001b[49m\u001b[43mt_end\u001b[49m\u001b[38;5;241;43m=\u001b[39;49m\u001b[43mt_end\u001b[49m\u001b[43m,\u001b[49m\u001b[43m \u001b[49m\u001b[43msave_states\u001b[49m\u001b[38;5;241;43m=\u001b[39;49m\u001b[38;5;28;43;01mTrue\u001b[39;49;00m\u001b[43m)\u001b[49m\n\u001b[0;32m     38\u001b[0m \u001b[38;5;66;03m# Convert all arrays to lists\u001b[39;00m\n\u001b[0;32m     39\u001b[0m pos \u001b[38;5;241m=\u001b[39m np\u001b[38;5;241m.\u001b[39marray(pos)\u001b[38;5;241m.\u001b[39mtranspose(\u001b[38;5;241m2\u001b[39m, \u001b[38;5;241m0\u001b[39m, \u001b[38;5;241m1\u001b[39m)\n",
      "File \u001b[1;32mc:\\Users\\vramo\\proyectos\\nbody-deep-sim\\sim.py:100\u001b[0m, in \u001b[0;36mNBodySimulation.run\u001b[1;34m(self, t_end, save_states)\u001b[0m\n\u001b[0;32m     97\u001b[0m     p\u001b[38;5;241m.\u001b[39mvelocity \u001b[38;5;241m+\u001b[39m\u001b[38;5;241m=\u001b[39m p\u001b[38;5;241m.\u001b[39macceleration \u001b[38;5;241m*\u001b[39m \u001b[38;5;28mself\u001b[39m\u001b[38;5;241m.\u001b[39mdt \u001b[38;5;241m/\u001b[39m \u001b[38;5;241m2.0\u001b[39m\n\u001b[0;32m     98\u001b[0m     p\u001b[38;5;241m.\u001b[39mposition \u001b[38;5;241m+\u001b[39m\u001b[38;5;241m=\u001b[39m p\u001b[38;5;241m.\u001b[39mvelocity \u001b[38;5;241m*\u001b[39m \u001b[38;5;28mself\u001b[39m\u001b[38;5;241m.\u001b[39mdt\n\u001b[1;32m--> 100\u001b[0m \u001b[38;5;28;43mself\u001b[39;49m\u001b[38;5;241;43m.\u001b[39;49m\u001b[43mget_accelerations\u001b[49m\u001b[43m(\u001b[49m\u001b[43m)\u001b[49m\n\u001b[0;32m    102\u001b[0m \u001b[38;5;28;01mfor\u001b[39;00m p \u001b[38;5;129;01min\u001b[39;00m \u001b[38;5;28mself\u001b[39m\u001b[38;5;241m.\u001b[39mparticles:\n\u001b[0;32m    103\u001b[0m     p\u001b[38;5;241m.\u001b[39mvelocity \u001b[38;5;241m+\u001b[39m\u001b[38;5;241m=\u001b[39m p\u001b[38;5;241m.\u001b[39macceleration \u001b[38;5;241m*\u001b[39m \u001b[38;5;28mself\u001b[39m\u001b[38;5;241m.\u001b[39mdt \u001b[38;5;241m/\u001b[39m \u001b[38;5;241m2.0\u001b[39m\n",
      "File \u001b[1;32mc:\\Users\\vramo\\proyectos\\nbody-deep-sim\\sim.py:47\u001b[0m, in \u001b[0;36mNBodySimulation.get_accelerations\u001b[1;34m(self)\u001b[0m\n\u001b[0;32m     44\u001b[0m ay \u001b[38;5;241m=\u001b[39m \u001b[38;5;28mself\u001b[39m\u001b[38;5;241m.\u001b[39mG \u001b[38;5;241m*\u001b[39m (dy \u001b[38;5;241m*\u001b[39m inv_r3) \u001b[38;5;241m@\u001b[39m masses\n\u001b[0;32m     45\u001b[0m az \u001b[38;5;241m=\u001b[39m \u001b[38;5;28mself\u001b[39m\u001b[38;5;241m.\u001b[39mG \u001b[38;5;241m*\u001b[39m (dz \u001b[38;5;241m*\u001b[39m inv_r3) \u001b[38;5;241m@\u001b[39m masses\n\u001b[1;32m---> 47\u001b[0m accelerations \u001b[38;5;241m=\u001b[39m \u001b[43mnp\u001b[49m\u001b[38;5;241;43m.\u001b[39;49m\u001b[43mhstack\u001b[49m\u001b[43m(\u001b[49m\u001b[43m(\u001b[49m\u001b[43max\u001b[49m\u001b[43m,\u001b[49m\u001b[43m \u001b[49m\u001b[43may\u001b[49m\u001b[43m,\u001b[49m\u001b[43m \u001b[49m\u001b[43maz\u001b[49m\u001b[43m)\u001b[49m\u001b[43m)\u001b[49m\n\u001b[0;32m     48\u001b[0m \u001b[38;5;28;01mfor\u001b[39;00m i, p \u001b[38;5;129;01min\u001b[39;00m \u001b[38;5;28menumerate\u001b[39m(\u001b[38;5;28mself\u001b[39m\u001b[38;5;241m.\u001b[39mparticles):\n\u001b[0;32m     49\u001b[0m     p\u001b[38;5;241m.\u001b[39macceleration \u001b[38;5;241m=\u001b[39m accelerations[i]\n",
      "File \u001b[1;32mc:\\Users\\vramo\\miniconda3\\envs\\torch_env\\lib\\site-packages\\numpy\\core\\shape_base.py:215\u001b[0m, in \u001b[0;36m_vhstack_dispatcher\u001b[1;34m(tup, dtype, casting)\u001b[0m\n\u001b[0;32m    209\u001b[0m         \u001b[38;5;28;01mraise\u001b[39;00m \u001b[38;5;167;01mTypeError\u001b[39;00m(\u001b[38;5;124m'\u001b[39m\u001b[38;5;124marrays to stack must be passed as a \u001b[39m\u001b[38;5;124m\"\u001b[39m\u001b[38;5;124msequence\u001b[39m\u001b[38;5;124m\"\u001b[39m\u001b[38;5;124m type \u001b[39m\u001b[38;5;124m'\u001b[39m\n\u001b[0;32m    210\u001b[0m                         \u001b[38;5;124m'\u001b[39m\u001b[38;5;124msuch as list or tuple.\u001b[39m\u001b[38;5;124m'\u001b[39m)\n\u001b[0;32m    212\u001b[0m     \u001b[38;5;28;01mreturn\u001b[39;00m \u001b[38;5;28mtuple\u001b[39m(arrays)\n\u001b[1;32m--> 215\u001b[0m \u001b[38;5;28;01mdef\u001b[39;00m \u001b[38;5;21m_vhstack_dispatcher\u001b[39m(tup, \u001b[38;5;241m*\u001b[39m, dtype\u001b[38;5;241m=\u001b[39m\u001b[38;5;28;01mNone\u001b[39;00m, casting\u001b[38;5;241m=\u001b[39m\u001b[38;5;28;01mNone\u001b[39;00m):\n\u001b[0;32m    216\u001b[0m     \u001b[38;5;28;01mreturn\u001b[39;00m _arrays_for_stack_dispatcher(tup)\n\u001b[0;32m    219\u001b[0m \u001b[38;5;129m@array_function_dispatch\u001b[39m(_vhstack_dispatcher)\n\u001b[0;32m    220\u001b[0m \u001b[38;5;28;01mdef\u001b[39;00m \u001b[38;5;21mvstack\u001b[39m(tup, \u001b[38;5;241m*\u001b[39m, dtype\u001b[38;5;241m=\u001b[39m\u001b[38;5;28;01mNone\u001b[39;00m, casting\u001b[38;5;241m=\u001b[39m\u001b[38;5;124m\"\u001b[39m\u001b[38;5;124msame_kind\u001b[39m\u001b[38;5;124m\"\u001b[39m):\n",
      "\u001b[1;31mKeyboardInterrupt\u001b[0m: "
     ]
    }
   ],
   "source": [
    "\n",
    "ROUNDS = 50\n",
    "EPOCHS = 4\n",
    "SCENES = 25\n",
    "WINDOW_SIZE = 0\n",
    "RADIUS = 2.0\n",
    "\n",
    "\n",
    "# Training loop\n",
    "model.train()\n",
    "for r in range(ROUNDS):\n",
    "    print(f'--- Round {r} ---')\n",
    "    data = generate_dataset(n_scenes=SCENES,window_size=WINDOW_SIZE)\n",
    "    graphs = generate_graph_dataset(data, RADIUS)\n",
    "    dataloader = DataLoader(graphs, batch_size=1)\n",
    "    for epoch in range(EPOCHS):\n",
    "        epoch_losses = []\n",
    "        for data in dataloader:\n",
    "            data = data.to(device)\n",
    "            optimizer.zero_grad()\n",
    "            out = model(data)\n",
    "            loss = mean_distance(out, data.y)\n",
    "            loss.backward()\n",
    "            optimizer.step()\n",
    "            epoch_losses.append(loss.item())\n",
    "        print(f'Epoch {epoch+1}, Loss: {torch.tensor(epoch_losses).mean()}')\n",
    "    del data, graphs, dataloader\n",
    "    torch.cuda.empty_cache()\n",
    "    torch.save(model.state_dict(), f'./models/particle_gnn_{r}.pth')\n",
    "    \n",
    "\n",
    "\n",
    "\n",
    "\n",
    "\n"
   ]
  }
 ],
 "metadata": {
  "kernelspec": {
   "display_name": "torch_env",
   "language": "python",
   "name": "python3"
  },
  "language_info": {
   "codemirror_mode": {
    "name": "ipython",
    "version": 3
   },
   "file_extension": ".py",
   "mimetype": "text/x-python",
   "name": "python",
   "nbconvert_exporter": "python",
   "pygments_lexer": "ipython3",
   "version": "3.10.15"
  }
 },
 "nbformat": 4,
 "nbformat_minor": 2
}
