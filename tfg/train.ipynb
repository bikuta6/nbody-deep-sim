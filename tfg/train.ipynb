{
 "cells": [
  {
   "cell_type": "code",
   "execution_count": 1,
   "metadata": {},
   "outputs": [],
   "source": [
    "from gnn import GraphModel\n",
    "from trainer import Trainer\n",
    "from torch.optim import Adam"
   ]
  },
  {
   "cell_type": "code",
   "execution_count": 2,
   "metadata": {},
   "outputs": [
    {
     "name": "stdout",
     "output_type": "stream",
     "text": [
      "GraphModel(\n",
      "  (node_encoder): MLP(7, 64, 128, 128)\n",
      "  (edge_encoder): MLP(2, 128)\n",
      "  (gnns): ModuleList(\n",
      "    (0-1): 2 x GENConv(128, 128, aggr=sum)\n",
      "  )\n",
      "  (output): Sequential(\n",
      "    (0): Linear(in_features=256, out_features=128, bias=True)\n",
      "    (1): Tanh()\n",
      "    (2): Linear(in_features=128, out_features=64, bias=True)\n",
      "    (3): Tanh()\n",
      "    (4): Linear(in_features=64, out_features=3, bias=True)\n",
      "  )\n",
      ")\n"
     ]
    }
   ],
   "source": [
    "model = GraphModel(input_dim=7, # 3 (pos) + 1 (mass) + 3 (vel) + 3 * previous positions\n",
    "                  node_encoder_dims=[64, 128],\n",
    "                  edge_encoder_dims=[128],\n",
    "                  encoder_dropout=0.0,\n",
    "                  gnn_dim=128,\n",
    "                  message_passing_steps=2,\n",
    "                  aggr='sum',\n",
    "                  output_hiddens=[128, 64],\n",
    "                  device='cuda',\n",
    "                  dt=0.1,\n",
    "                  radius=0.5)\n",
    "print(model)"
   ]
  },
  {
   "cell_type": "code",
   "execution_count": 3,
   "metadata": {},
   "outputs": [],
   "source": [
    "optimizer = Adam(model.parameters(), lr=0.001, weight_decay=0.0005)"
   ]
  },
  {
   "cell_type": "code",
   "execution_count": 4,
   "metadata": {},
   "outputs": [],
   "source": [
    "trainer = Trainer(model, optimizer=optimizer, edge_attr=True, acc_weight=1, force_weight=0.0, neighbor_weight=0.0, energy_weight=0.0, device='cuda', dt=0.1)"
   ]
  },
  {
   "cell_type": "code",
   "execution_count": null,
   "metadata": {},
   "outputs": [
    {
     "name": "stderr",
     "output_type": "stream",
     "text": [
      "  0%|          | 0/1000 [00:00<?, ?it/s]"
     ]
    }
   ],
   "source": [
    "trainer.train(runs=1000, batch_size=64, type='disk', num_scenes=20, epochs=1, previous_pos=0, save_every=25)"
   ]
  },
  {
   "cell_type": "code",
   "execution_count": null,
   "metadata": {},
   "outputs": [],
   "source": []
  }
 ],
 "metadata": {
  "kernelspec": {
   "display_name": "pytorch",
   "language": "python",
   "name": "python3"
  },
  "language_info": {
   "codemirror_mode": {
    "name": "ipython",
    "version": 3
   },
   "file_extension": ".py",
   "mimetype": "text/x-python",
   "name": "python",
   "nbconvert_exporter": "python",
   "pygments_lexer": "ipython3",
   "version": "3.10.16"
  }
 },
 "nbformat": 4,
 "nbformat_minor": 2
}
