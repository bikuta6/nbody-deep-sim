{
 "cells": [
  {
   "cell_type": "code",
   "execution_count": 1,
   "metadata": {},
   "outputs": [],
   "source": [
    "from gnn import GraphModel\n",
    "from trainer import Trainer\n",
    "from torch.optim import Adam"
   ]
  },
  {
   "cell_type": "code",
   "execution_count": 2,
   "metadata": {},
   "outputs": [
    {
     "name": "stdout",
     "output_type": "stream",
     "text": [
      "GraphModel(\n",
      "  (node_encoder): MLP(7, 128, 256, 256)\n",
      "  (edge_encoder): Identity()\n",
      "  (output): Sequential(\n",
      "    (0): Linear(in_features=256, out_features=128, bias=True)\n",
      "    (1): ReLU()\n",
      "    (2): Linear(in_features=128, out_features=64, bias=True)\n",
      "    (3): ReLU()\n",
      "    (4): Linear(in_features=64, out_features=3, bias=True)\n",
      "  )\n",
      ")\n"
     ]
    }
   ],
   "source": [
    "model = GraphModel(input_dim=7, # 3 (pos) + 1 (mass) + 3 (vel) + 3 * previous positions\n",
    "                  node_encoder_dims=[128, 256],\n",
    "                  edge_encoder_dims=None,\n",
    "                  encoder_dropout=0.0,\n",
    "                  gnn_dim=256,\n",
    "                  message_passing_steps=2,\n",
    "                  aggr='sum',\n",
    "                  output_hiddens=[128, 64],\n",
    "                  device='cuda',\n",
    "                  radius=0.5)\n",
    "print(model)"
   ]
  },
  {
   "cell_type": "code",
   "execution_count": 3,
   "metadata": {},
   "outputs": [],
   "source": [
    "optimizer = Adam(model.parameters(), lr=0.001)"
   ]
  },
  {
   "cell_type": "code",
   "execution_count": 4,
   "metadata": {},
   "outputs": [],
   "source": [
    "trainer = Trainer(model, optimizer=optimizer, edge_attr=False, acc_weight=1, force_weight=0.0, neighbor_weight=0.0, energy_weight=0.0, device='cuda', dt=0.1)"
   ]
  },
  {
   "cell_type": "code",
   "execution_count": null,
   "metadata": {},
   "outputs": [
    {
     "name": "stdout",
     "output_type": "stream",
     "text": [
      "Loaded model model_50.pt\n"
     ]
    },
    {
     "name": "stderr",
     "output_type": "stream",
     "text": [
      "  0%|          | 1/1000 [01:04<17:51:30, 64.35s/it, Run 1: Loss: 1.9454986965580352, MSE Loss: 1.9454986965580352]"
     ]
    }
   ],
   "source": [
    "trainer.train(runs=1000, batch_size=128, type='disk', num_scenes=20, epochs=1, previous_pos=0, save_every=50, model_path='./models20250211112855')"
   ]
  },
  {
   "cell_type": "code",
   "execution_count": null,
   "metadata": {},
   "outputs": [],
   "source": []
  }
 ],
 "metadata": {
  "kernelspec": {
   "display_name": "pytorch",
   "language": "python",
   "name": "python3"
  },
  "language_info": {
   "codemirror_mode": {
    "name": "ipython",
    "version": 3
   },
   "file_extension": ".py",
   "mimetype": "text/x-python",
   "name": "python",
   "nbconvert_exporter": "python",
   "pygments_lexer": "ipython3",
   "version": "3.10.16"
  }
 },
 "nbformat": 4,
 "nbformat_minor": 2
}
