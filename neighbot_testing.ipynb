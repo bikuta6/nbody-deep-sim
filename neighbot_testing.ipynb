{
 "cells": [
  {
   "cell_type": "code",
   "execution_count": 19,
   "metadata": {},
   "outputs": [],
   "source": [
    "import torch\n",
    "import open3d.ml.torch as ml3d\n",
    "from kwisatzHaderach import *\n",
    "\n",
    "# Define input positions and features\n",
    "inp_positions = torch.randn([20, 3]) * 0.1\n",
    "inp_features = torch.randn([20, 4])* 0.1\n",
    "out_positions = torch.randn([20, 3])* 0.1\n",
    "\n",
    "# Function definition\n",
    "def window_poly6(r_sqr):\n",
    "    return torch.clamp((1 - r_sqr) ** 3, 0, 1)\n",
    "\n",
    "\n",
    "model = KwisatzHaderach(particle_radius=0.001)\n"
   ]
  },
  {
   "cell_type": "code",
   "execution_count": 26,
   "metadata": {},
   "outputs": [
    {
     "name": "stdout",
     "output_type": "stream",
     "text": [
      "computing loss\n",
      "torch.Size([20, 3]) torch.Size([20, 3])\n",
      "euclidean_distance shape torch.Size([20])\n",
      "importance shape torch.Size([0])\n",
      "tensor([]) tensor([])\n",
      "importance is 0\n"
     ]
    },
    {
     "ename": "RuntimeError",
     "evalue": "The size of tensor a (0) must match the size of tensor b (20) at non-singleton dimension 0",
     "output_type": "error",
     "traceback": [
      "\u001b[0;31m---------------------------------------------------------------------------\u001b[0m",
      "\u001b[0;31mRuntimeError\u001b[0m                              Traceback (most recent call last)",
      "Cell \u001b[0;32mIn[26], line 22\u001b[0m\n\u001b[1;32m     20\u001b[0m \u001b[38;5;66;03m# test the model\u001b[39;00m\n\u001b[1;32m     21\u001b[0m pr_positions, _ \u001b[38;5;241m=\u001b[39m model(inp_positions, inp_features)\n\u001b[0;32m---> 22\u001b[0m loss, euclidean_distances \u001b[38;5;241m=\u001b[39m \u001b[43mloss_fn\u001b[49m\u001b[43m(\u001b[49m\u001b[43mpr_positions\u001b[49m\u001b[43m,\u001b[49m\u001b[43m \u001b[49m\u001b[43mout_positions\u001b[49m\u001b[43m,\u001b[49m\u001b[43m \u001b[49m\u001b[43mmodel\u001b[49m\u001b[38;5;241;43m.\u001b[39;49m\u001b[43mnum_neighbors\u001b[49m\u001b[43m)\u001b[49m\n",
      "Cell \u001b[0;32mIn[26], line 16\u001b[0m, in \u001b[0;36mloss_fn\u001b[0;34m(pr_pos, gt_pos, num_fluid_neighbors)\u001b[0m\n\u001b[1;32m     14\u001b[0m \u001b[38;5;28;01mif\u001b[39;00m importance\u001b[38;5;241m.\u001b[39msize()[\u001b[38;5;241m0\u001b[39m] \u001b[38;5;241m==\u001b[39m \u001b[38;5;241m0\u001b[39m:\n\u001b[1;32m     15\u001b[0m     \u001b[38;5;28mprint\u001b[39m(\u001b[38;5;124m\"\u001b[39m\u001b[38;5;124mimportance is 0\u001b[39m\u001b[38;5;124m\"\u001b[39m)\n\u001b[0;32m---> 16\u001b[0m \u001b[38;5;28;01mreturn\u001b[39;00m torch\u001b[38;5;241m.\u001b[39mmean(\u001b[43mimportance\u001b[49m\u001b[43m \u001b[49m\u001b[38;5;241;43m*\u001b[39;49m\n\u001b[1;32m     17\u001b[0m \u001b[43m                    \u001b[49m\u001b[43meuclidean_distances\u001b[49m\u001b[38;5;241;43m*\u001b[39;49m\u001b[38;5;241;43m*\u001b[39;49m\u001b[43mgamma\u001b[49m), torch\u001b[38;5;241m.\u001b[39mmean(euclidean_distances)\n",
      "\u001b[0;31mRuntimeError\u001b[0m: The size of tensor a (0) must match the size of tensor b (20) at non-singleton dimension 0"
     ]
    }
   ],
   "source": [
    "def euclidean_distance(a, b):\n",
    "    print(a.shape, b.shape)\n",
    "    return torch.linalg.norm(a - b, axis=-1)\n",
    "\n",
    "def loss_fn(pr_pos, gt_pos, num_fluid_neighbors):\n",
    "    print(\"computing loss\")\n",
    "    gamma = 0.5\n",
    "    neighbor_scale = 1 / 50\n",
    "    importance = torch.exp(-neighbor_scale * num_fluid_neighbors)\n",
    "    euclidean_distances = euclidean_distance(pr_pos, gt_pos)\n",
    "    print(\"euclidean_distance shape\", euclidean_distances.shape)\n",
    "    print(\"importance shape\", importance.shape)\n",
    "    print(importance, num_fluid_neighbors)\n",
    "    if importance.size()[0] == 0:\n",
    "        print(\"importance is 0\")\n",
    "    return torch.mean(importance *\n",
    "                        euclidean_distances**gamma), torch.mean(euclidean_distances)\n",
    "\n",
    "\n",
    "# test the model\n",
    "pr_positions, _ = model(inp_positions, inp_features)\n",
    "loss, euclidean_distances = loss_fn(pr_positions, out_positions, model.num_neighbors)\n",
    "\n",
    "\n"
   ]
  },
  {
   "cell_type": "code",
   "execution_count": null,
   "metadata": {},
   "outputs": [],
   "source": []
  }
 ],
 "metadata": {
  "kernelspec": {
   "display_name": "Python 3",
   "language": "python",
   "name": "python3"
  },
  "language_info": {
   "codemirror_mode": {
    "name": "ipython",
    "version": 3
   },
   "file_extension": ".py",
   "mimetype": "text/x-python",
   "name": "python",
   "nbconvert_exporter": "python",
   "pygments_lexer": "ipython3",
   "version": "3.10.15"
  }
 },
 "nbformat": 4,
 "nbformat_minor": 2
}
