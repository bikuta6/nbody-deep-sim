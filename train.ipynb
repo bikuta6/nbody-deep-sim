{
 "cells": [
  {
   "cell_type": "code",
   "execution_count": 1,
   "metadata": {},
   "outputs": [
    {
     "name": "stderr",
     "output_type": "stream",
     "text": [
      "/opt/miniconda3/envs/open3d/lib/python3.10/site-packages/tqdm/auto.py:21: TqdmWarning: IProgress not found. Please update jupyter and ipywidgets. See https://ipywidgets.readthedocs.io/en/stable/user_install.html\n",
      "  from .autonotebook import tqdm as notebook_tqdm\n"
     ]
    }
   ],
   "source": [
    "import torch\n",
    "from kwisatzHaderach import KwisatzHaderach\n",
    "import json\n",
    "import os\n",
    "import tqdm\n",
    "import numpy as np\n",
    "from datagen import generate_dataset, generate_dataset_memory, generate_dataset_memory_bh"
   ]
  },
  {
   "cell_type": "code",
   "execution_count": 2,
   "metadata": {},
   "outputs": [],
   "source": [
    "def euclidean_distance(a, b):\n",
    "    return torch.sqrt(torch.sum((a - b)**2, dim=-1) + 1e-12)\n",
    "\n",
    "def loss_fn(pr_acc, gt_acc, num_neighbors):\n",
    "    gamma = 0.5\n",
    "    neighbor_scale = 1/100\n",
    "    importance = torch.exp(neighbor_scale * num_neighbors) # removed minus sign to give more importance to particles with more neighbors\n",
    "    importance = importance / torch.max(importance)\n",
    "    euclidean_distances = euclidean_distance(pr_acc, gt_acc)\n",
    "    if importance.size()[0] == 0:\n",
    "        importance = 1.0\n",
    "    return torch.mean(importance *\n",
    "                        euclidean_distances**gamma), torch.mean(euclidean_distances)"
   ]
  },
  {
   "cell_type": "code",
   "execution_count": 3,
   "metadata": {},
   "outputs": [],
   "source": [
    "def get_new_pos_vel(acc, pos, vel, dt=0.01):\n",
    "    new_vel = vel + acc * dt\n",
    "    new_pos = pos + new_vel * dt\n",
    "    return new_pos, new_vel"
   ]
  },
  {
   "cell_type": "code",
   "execution_count": 4,
   "metadata": {},
   "outputs": [],
   "source": [
    "def train_epoch(model, file, batch_size, loss_fn, optimizer, device):\n",
    "\n",
    "    model.train()\n",
    "    with open(file) as f:\n",
    "        data = json.load(f)\n",
    "\n",
    "    num_batches = len(data) // batch_size\n",
    "    all_losses = []\n",
    "    all_dists = []\n",
    "    for i in tqdm.tqdm(range(num_batches)):\n",
    "        batch = data[i*batch_size:(i+1)*batch_size]\n",
    "        m = torch.tensor([b['masses'] for b in batch], dtype=torch.float32).to(device)\n",
    "        pos0 = torch.tensor([b['pos'] for b in batch], dtype=torch.float32).to(device)\n",
    "        vel0 = torch.tensor([b['vel'] for b in batch], dtype=torch.float32).to(device)\n",
    "        pos1 = torch.tensor([b['pos_next1'] for b in batch], dtype=torch.float32).to(device)\n",
    "        pos2 = torch.tensor([b['pos_next2'] for b in batch], dtype=torch.float32).to(device)\n",
    "\n",
    "        optimizer.zero_grad()\n",
    "        losses = []\n",
    "        for j in range(len(batch)):\n",
    "            l = 0\n",
    "            sample_masses = m[j].unsqueeze(1)\n",
    "            sample_pos0 = pos0[j]\n",
    "            sample_vel0 = vel0[j]\n",
    "            sample_pos1 = pos1[j]\n",
    "            sample_pos2 = pos2[j]\n",
    "\n",
    "            pr_pos1, pr_vel1 = model(sample_pos0, sample_vel0, sample_masses)\n",
    "\n",
    "            loss1, dists1 = loss_fn(pr_pos1, sample_pos1, model.num_neighbors)\n",
    "\n",
    "            all_dists.append(dists1.item()*0.5)\n",
    "\n",
    "            l += 0.5*loss1\n",
    "\n",
    "            pr_pos2, pr_vel2 = model(pr_pos1, pr_vel1, sample_masses)\n",
    "\n",
    "            loss2, dists2 = loss_fn(pr_pos2, sample_pos2, model.num_neighbors)\n",
    "\n",
    "            all_dists.append(dists2.item()*0.5)\n",
    "\n",
    "            l += 0.5*loss2\n",
    "\n",
    "\n",
    "            losses.append(l)\n",
    "\n",
    "        total_loss = sum(losses) / len(batch)\n",
    "        all_losses.append(total_loss.item())\n",
    "        total_loss.backward()\n",
    "\n",
    "        optimizer.step()\n",
    "\n",
    "    print(f'Train Loss: {sum(all_losses)/len(all_losses)}, Train L2: {sum(all_dists)/len(all_dists)}')\n",
    "\n",
    "def train_epoch_memory(model, data, batch_size, loss_fn, optimizer, device, use_custom_loss=False):\n",
    "\n",
    "    model.train()\n",
    "\n",
    "    num_batches = len(data) // batch_size\n",
    "    all_losses = []\n",
    "    all_dists = []\n",
    "    for i in tqdm.tqdm(range(num_batches)):\n",
    "        batch = data[i*batch_size:(i+1)*batch_size]\n",
    "        m = torch.tensor([b['masses'] for b in batch], dtype=torch.float32).to(device)\n",
    "        pos0 = torch.tensor([b['pos'] for b in batch], dtype=torch.float32).to(device)\n",
    "        vel0 = torch.tensor([b['vel'] for b in batch], dtype=torch.float32).to(device)\n",
    "        acc0 = torch.tensor([b['acc'] for b in batch], dtype=torch.float32).to(device)\n",
    "        #acc1 = torch.tensor([b['acc_next1'] for b in batch], dtype=torch.float32).to(device)\n",
    "        #acc2 = torch.tensor([b['acc_next2'] for b in batch], dtype=torch.float32).to(device)\n",
    "\n",
    "        optimizer.zero_grad()\n",
    "        losses = []\n",
    "        for j in range(len(batch)):\n",
    "            l = 0\n",
    "            sample_masses = m[j].unsqueeze(1)\n",
    "            sample_pos0 = pos0[j]\n",
    "            sample_vel0 = vel0[j]\n",
    "            sample_acc0 = acc0[j]\n",
    "            #sample_acc1 = acc1[j]\n",
    "            #sample_acc2 = acc2[j]\n",
    "\n",
    "            pr_acc0 = model(sample_pos0, sample_vel0, sample_masses)\n",
    "\n",
    "            if use_custom_loss:\n",
    "                loss0, dists0 = loss_fn(pr_acc0, sample_acc0, model.num_neighbors)\n",
    "            else:\n",
    "                loss0 = torch.mean(euclidean_distance(pr_acc0, sample_acc0))\n",
    "                dists0 = loss0\n",
    "\n",
    "            all_dists.append(dists0)\n",
    "\n",
    "            l += loss0 \n",
    "\n",
    "            #pr_pos1, pr_vel1 = get_new_pos_vel(pr_acc0, sample_pos0, sample_vel0)\n",
    "\n",
    "            #pr_acc1 = model(pr_pos1, pr_vel1, sample_masses)\n",
    "\n",
    "            #loss1, dists1 = loss_fn(pr_acc1, sample_acc1, model.num_neighbors)\n",
    "\n",
    "            #all_dists.append(dists1.item())\n",
    "\n",
    "            #l += loss1 * 0.3\n",
    "\n",
    "            #pr_pos2, pr_vel2 = get_new_pos_vel(pr_acc1, pr_pos1, pr_vel1)\n",
    "\n",
    "            #pr_acc2 = model(pr_pos2, pr_vel2, sample_masses)\n",
    "\n",
    "            #loss2, dists2 = loss_fn(pr_acc2, sample_acc2, model.num_neighbors)\n",
    "\n",
    "            #all_dists.append(dists2.item())\n",
    "\n",
    "            #l += loss2 * 0.2\n",
    "\n",
    "            losses.append(l)\n",
    "\n",
    "        total_loss = 128 * sum(losses) / len(batch)\n",
    "        all_losses.append(total_loss.item())\n",
    "        total_loss.backward()\n",
    "\n",
    "        optimizer.step()\n",
    "\n",
    "    print(f'Train Loss: {sum(all_losses)/len(all_losses)}, Train L2: {sum(all_dists)/len(all_dists)}')\n",
    "\n",
    "def train_epoch_memory_black_hole_info(model, data, batch_size, loss_fn, optimizer, device,use_custom_loss=False):\n",
    "    \n",
    "        model.train()\n",
    "    \n",
    "        num_batches = len(data) // batch_size\n",
    "        all_losses = []\n",
    "        all_dists = []\n",
    "        for i in tqdm.tqdm(range(num_batches)):\n",
    "            batch = data[i*batch_size:(i+1)*batch_size]\n",
    "            m = torch.tensor([b['masses'] for b in batch], dtype=torch.float32).to(device)\n",
    "            pos0 = torch.tensor([b['pos'] for b in batch], dtype=torch.float32).to(device)\n",
    "            vel0 = torch.tensor([b['vel'] for b in batch], dtype=torch.float32).to(device)\n",
    "            acc0 = torch.tensor([b['acc'] for b in batch], dtype=torch.float32).to(device)\n",
    "            acc1 = torch.tensor([b['acc_next1'] for b in batch], dtype=torch.float32).to(device)\n",
    "            #acc2 = torch.tensor([b['acc_next2'] for b in batch], dtype=torch.float32).to(device)\n",
    "            black_hole_indexes = torch.tensor(np.array([b['bh_index'] for b in batch]), dtype=torch.long)\n",
    "    \n",
    "            optimizer.zero_grad()\n",
    "            losses = []\n",
    "            for j in range(len(batch)):\n",
    "                l = 0\n",
    "                sample_masses = m[j].unsqueeze(1)\n",
    "                sample_pos0 = pos0[j]\n",
    "                sample_vel0 = vel0[j]\n",
    "                sample_acc0 = acc0[j]\n",
    "                sample_acc1 = acc1[j]\n",
    "                sample_pos0_bh = sample_pos0[black_hole_indexes[j]]\n",
    "                sample_vel0_bh = sample_vel0[black_hole_indexes[j]]\n",
    "                sample_masses_bh = sample_masses[black_hole_indexes[j]]\n",
    "    \n",
    "                pr_acc0 = model(sample_pos0, sample_vel0, sample_masses, sample_pos0_bh, sample_vel0_bh, sample_masses_bh)\n",
    "\n",
    "                if use_custom_loss:\n",
    "    \n",
    "                    loss0, dists0 = loss_fn(pr_acc0, sample_acc0, model.num_neighbors)\n",
    "\n",
    "                else:\n",
    "                    loss0 = torch.mean(euclidean_distance(pr_acc0, sample_acc0))\n",
    "                    dists0 = loss0\n",
    "    \n",
    "                all_dists.append(dists0.item())\n",
    "    \n",
    "                l += loss0 * 0.5\n",
    "    \n",
    "                pr_pos1, pr_vel1 = get_new_pos_vel(pr_acc0, sample_pos0, sample_vel0)\n",
    "    \n",
    "                pr_acc1 = model(pr_pos1, pr_vel1, sample_masses, pr_pos1[black_hole_indexes[j]], pr_vel1[black_hole_indexes[j]], sample_masses[black_hole_indexes[j]])\n",
    "\n",
    "                if use_custom_loss:\n",
    "                    loss1, dists1 = loss_fn(pr_acc1, sample_acc1, model.num_neighbors)\n",
    "\n",
    "                else:\n",
    "                    loss1 = torch.mean(euclidean_distance(pr_acc1, sample_acc1))\n",
    "                    dists1 = loss1\n",
    "    \n",
    "                all_dists.append(dists1.item())\n",
    "    \n",
    "                l += loss1 * 0.5\n",
    "    \n",
    "                #pr_pos2, pr_vel2 = get_new_pos_vel(pr_acc1,\n",
    "\n",
    "                #pr_acc2 = model(pr_pos2, pr_vel2, sample_masses)\n",
    "\n",
    "                #loss2, dists2 = loss_fn(pr_acc2, sample_acc2, model.num_neighbors)\n",
    "\n",
    "                #all_dists.append(dists2.item())\n",
    "\n",
    "                #l += loss2 * 0.2\n",
    "\n",
    "                losses.append(l)\n",
    "\n",
    "            total_loss = sum(losses) / len(batch)\n",
    "            all_losses.append(total_loss.item())\n",
    "            total_loss.backward()\n",
    "\n",
    "            optimizer.step()\n",
    "\n",
    "        print(f'Train Loss: {sum(all_losses)/len(all_losses)}, Train L2: {sum(all_dists)/len(all_dists)}')\n",
    "\n",
    "        \n",
    "\n",
    "def val(model, val_dir, batch_size, loss_fn, device):\n",
    "    files = os.listdir(val_dir)\n",
    "\n",
    "    model.eval()\n",
    "    with torch.no_grad():\n",
    "        all_losses = []\n",
    "        all_dists = []\n",
    "        for file in files:\n",
    "            with open(os.path.join(val_dir, file)) as f:\n",
    "                data = json.load(f)\n",
    "            m = [b['masses'] for b in data]\n",
    "            pos0 = [b['pos'] for b in data]\n",
    "            vel0 = [b['vel'] for b in data]\n",
    "            pos1 = [b['pos_next1'] for b in data]\n",
    "            pos2 = [b['pos_next2'] for b in data]\n",
    "\n",
    "            loss = 0\n",
    "            for j in range(len(data)):\n",
    "                sample_masses = torch.tensor(m[j], dtype=torch.float32).unsqueeze(1).to(device)\n",
    "                sample_pos0 = torch.tensor(pos0[j], dtype=torch.float32).to(device)\n",
    "                sample_vel0 = torch.tensor(vel0[j], dtype=torch.float32).to(device)\n",
    "                sample_pos1 = torch.tensor(pos1[j], dtype=torch.float32).to(device)\n",
    "                sample_pos2 = torch.tensor(pos2[j], dtype=torch.float32).to(device)\n",
    "\n",
    "\n",
    "                pr_pos1, pr_vel1 = model(sample_pos0, sample_vel0, sample_masses)\n",
    "\n",
    "                loss1, dist1 = loss_fn(pr_pos1, sample_pos1, model.num_neighbors)\n",
    "                loss += 0.5*loss1\n",
    "\n",
    "                all_dists.append(dist1.item())\n",
    "\n",
    "\n",
    "                pr_pos2, _ = model(pr_pos1, pr_vel1, sample_masses)\n",
    "                loss2, dist2 = loss_fn(pr_pos2, sample_pos2, model.num_neighbors)\n",
    "                loss += 0.5*loss2\n",
    "\n",
    "                all_dists.append(dist2.item())\n",
    "\n",
    "\n",
    "            loss = loss / len(data)\n",
    "            all_losses.append(loss.item())\n",
    "\n",
    "            # clear memory\n",
    "            del sample_masses\n",
    "            del sample_pos0\n",
    "            del sample_vel0\n",
    "            del sample_pos1\n",
    "            del sample_pos2\n",
    "            del pr_pos1\n",
    "            del pr_vel1\n",
    "            del pr_pos2\n",
    "            torch.cuda.empty_cache()\n",
    "            \n",
    "\n",
    "\n",
    "        print(f'Val Loss: {sum(all_losses)/len(all_losses)}, Val L2: {sum(all_dists)/len(all_dists)}')\n",
    "\n",
    "\n",
    "            "
   ]
  },
  {
   "cell_type": "code",
   "execution_count": 5,
   "metadata": {},
   "outputs": [],
   "source": [
    "def train(model, train_dir, val_dir, batch_size, loss_fn, optimizer, num_epochs, weights_dir=None, device='cuda', eval=True):\n",
    "\n",
    "    model.to(device)\n",
    "\n",
    "    if weights_dir is not None:\n",
    "        weight_paths = os.listdir(weights_dir)\n",
    "        weight_paths.sort()\n",
    "        try:\n",
    "            model.load_state_dict(torch.load(os.path.join(weights_dir, weight_paths[-1])))\n",
    "            last_model = int(weight_paths[-1].split('_')[1].split('.')[0])\n",
    "            last_model += 1\n",
    "        except:\n",
    "            last_model = 0\n",
    "    \n",
    "    train_files = os.listdir(train_dir)\n",
    "    for epoch in range(num_epochs):\n",
    "        print(f'Epoch {epoch}')\n",
    "        for t_file in train_files:\n",
    "            full_path = os.path.join(train_dir, t_file)\n",
    "            train_epoch(model, full_path, batch_size, loss_fn, optimizer, device)\n",
    "\n",
    "        if eval:\n",
    "            val(model, val_dir, batch_size, loss_fn, device)\n",
    "\n",
    "    torch.save(model.state_dict(), f'./models/model_{last_model}.pt')\n",
    "\n",
    "    return model\n",
    "\n",
    "def train_memory(model, train_data, val_dir, batch_size, loss_fn, optimizer, num_epochs, weights_dir=None, device='cuda', eval=True, use_custom_loss=False):\n",
    "    \n",
    "        model.to(device)\n",
    "    \n",
    "        if weights_dir is not None:\n",
    "            weight_paths = os.listdir(weights_dir)\n",
    "            weight_paths.sort(key=lambda x: int(x.split('_')[1].split('.')[0]))\n",
    "            try:\n",
    "                model.load_state_dict(torch.load(os.path.join(weights_dir, weight_paths[-1])))\n",
    "                print(f'Loaded weights from {weight_paths[-1]}')\n",
    "                last_model = int(weight_paths[-1].split('_')[1].split('.')[0])\n",
    "                last_model += 1\n",
    "            except:\n",
    "                last_model = 0\n",
    "        \n",
    "        for epoch in range(num_epochs):\n",
    "            print(f'Epoch {epoch}')\n",
    "            train_epoch_memory(model, train_data, batch_size, loss_fn, optimizer, device, use_custom_loss)\n",
    "    \n",
    "            if eval:\n",
    "                val(model, val_dir, batch_size, loss_fn, device)\n",
    "    \n",
    "        torch.save(model.state_dict(), f'./models/model_{last_model}.pt')\n",
    "    \n",
    "        return model\n",
    "\n",
    "def train_memory_black_hole_info(model, train_data, val_dir, batch_size, loss_fn, optimizer, num_epochs, weights_dir=None, device='cuda', eval=True, use_custom_loss=False):\n",
    "        \n",
    "            model.to(device)\n",
    "        \n",
    "            if weights_dir is not None:\n",
    "                weight_paths = os.listdir(weights_dir)\n",
    "                weight_paths.sort(key=lambda x: int(x.split('_')[1].split('.')[0]))\n",
    "                try:\n",
    "                    model.load_state_dict(torch.load(os.path.join(weights_dir, weight_paths[-1])))\n",
    "                    print(f'Loaded weights from {weight_paths[-1]}')\n",
    "                    last_model = int(weight_paths[-1].split('_')[1].split('.')[0])\n",
    "                    last_model += 1\n",
    "                except:\n",
    "                    last_model = 0\n",
    "            \n",
    "            for epoch in range(num_epochs):\n",
    "                print(f'Epoch {epoch}')\n",
    "                train_epoch_memory_black_hole_info(model, train_data, batch_size, loss_fn, optimizer, device, use_custom_loss)\n",
    "        \n",
    "                if eval:\n",
    "                    val(model, val_dir, batch_size, loss_fn, device)\n",
    "        \n",
    "            torch.save(model.state_dict(), f'./modelsbh/model_{last_model}.pt')\n",
    "        \n",
    "            return model"
   ]
  },
  {
   "cell_type": "code",
   "execution_count": 7,
   "metadata": {},
   "outputs": [
    {
     "name": "stdout",
     "output_type": "stream",
     "text": [
      "Adjusting learning rate of group 0 to 1.0000e-02.\n",
      "Generating dataset with 2 scenes...\n"
     ]
    },
    {
     "name": "stderr",
     "output_type": "stream",
     "text": [
      "100%|██████████| 2/2 [00:25<00:00, 12.70s/it]\n"
     ]
    },
    {
     "name": "stdout",
     "output_type": "stream",
     "text": [
      "Epoch 0\n"
     ]
    },
    {
     "name": "stderr",
     "output_type": "stream",
     "text": [
      "100%|██████████| 125/125 [01:55<00:00,  1.09it/s]\n"
     ]
    },
    {
     "name": "stdout",
     "output_type": "stream",
     "text": [
      "Train Loss: 12.99312296295166, Train L2: 895.5973510742188\n",
      "Adjusting learning rate of group 0 to 7.0000e-03.\n",
      "Generating dataset with 2 scenes...\n"
     ]
    },
    {
     "name": "stderr",
     "output_type": "stream",
     "text": [
      "100%|██████████| 2/2 [00:26<00:00, 13.02s/it]\n"
     ]
    },
    {
     "name": "stdout",
     "output_type": "stream",
     "text": [
      "Loaded weights from model_0.pt\n",
      "Epoch 0\n"
     ]
    },
    {
     "name": "stderr",
     "output_type": "stream",
     "text": [
      "100%|██████████| 125/125 [01:47<00:00,  1.17it/s]\n"
     ]
    },
    {
     "name": "stdout",
     "output_type": "stream",
     "text": [
      "Train Loss: 10.77434513092041, Train L2: 2.9191479682922363\n",
      "Generating dataset with 2 scenes...\n"
     ]
    },
    {
     "name": "stderr",
     "output_type": "stream",
     "text": [
      "100%|██████████| 2/2 [00:26<00:00, 13.19s/it]\n"
     ]
    },
    {
     "name": "stdout",
     "output_type": "stream",
     "text": [
      "Loaded weights from model_1.pt\n",
      "Epoch 0\n"
     ]
    },
    {
     "name": "stderr",
     "output_type": "stream",
     "text": [
      "100%|██████████| 125/125 [02:05<00:00,  1.00s/it]\n"
     ]
    },
    {
     "name": "stdout",
     "output_type": "stream",
     "text": [
      "Train Loss: 8.72150765991211, Train L2: 4.118039131164551\n",
      "Generating dataset with 2 scenes...\n"
     ]
    },
    {
     "name": "stderr",
     "output_type": "stream",
     "text": [
      "100%|██████████| 2/2 [00:26<00:00, 13.02s/it]\n"
     ]
    },
    {
     "name": "stdout",
     "output_type": "stream",
     "text": [
      "Loaded weights from model_2.pt\n",
      "Epoch 0\n"
     ]
    },
    {
     "name": "stderr",
     "output_type": "stream",
     "text": [
      "100%|██████████| 125/125 [02:10<00:00,  1.05s/it]\n"
     ]
    },
    {
     "name": "stdout",
     "output_type": "stream",
     "text": [
      "Train Loss: 8.358292507171631, Train L2: 4.102955341339111\n",
      "Generating dataset with 2 scenes...\n"
     ]
    },
    {
     "name": "stderr",
     "output_type": "stream",
     "text": [
      "100%|██████████| 2/2 [00:26<00:00, 13.12s/it]\n"
     ]
    },
    {
     "name": "stdout",
     "output_type": "stream",
     "text": [
      "Loaded weights from model_3.pt\n",
      "Epoch 0\n"
     ]
    },
    {
     "name": "stderr",
     "output_type": "stream",
     "text": [
      "100%|██████████| 125/125 [02:08<00:00,  1.03s/it]\n"
     ]
    },
    {
     "name": "stdout",
     "output_type": "stream",
     "text": [
      "Train Loss: 10.180093845367432, Train L2: 4.6953043937683105\n",
      "Generating dataset with 2 scenes...\n"
     ]
    },
    {
     "name": "stderr",
     "output_type": "stream",
     "text": [
      "100%|██████████| 2/2 [00:27<00:00, 13.80s/it]\n"
     ]
    },
    {
     "name": "stdout",
     "output_type": "stream",
     "text": [
      "Loaded weights from model_4.pt\n",
      "Epoch 0\n"
     ]
    },
    {
     "name": "stderr",
     "output_type": "stream",
     "text": [
      "100%|██████████| 125/125 [01:44<00:00,  1.20it/s]\n"
     ]
    },
    {
     "name": "stdout",
     "output_type": "stream",
     "text": [
      "Train Loss: 11.061240169525146, Train L2: 2.7201366424560547\n",
      "Adjusting learning rate of group 0 to 4.9000e-03.\n",
      "Generating dataset with 2 scenes...\n"
     ]
    },
    {
     "name": "stderr",
     "output_type": "stream",
     "text": [
      "100%|██████████| 2/2 [00:25<00:00, 12.83s/it]\n"
     ]
    },
    {
     "name": "stdout",
     "output_type": "stream",
     "text": [
      "Loaded weights from model_5.pt\n",
      "Epoch 0\n"
     ]
    },
    {
     "name": "stderr",
     "output_type": "stream",
     "text": [
      "100%|██████████| 125/125 [01:48<00:00,  1.15it/s]\n"
     ]
    },
    {
     "name": "stdout",
     "output_type": "stream",
     "text": [
      "Train Loss: 9.346398872375488, Train L2: 2.762451171875\n",
      "Generating dataset with 2 scenes...\n"
     ]
    },
    {
     "name": "stderr",
     "output_type": "stream",
     "text": [
      "100%|██████████| 2/2 [00:25<00:00, 12.95s/it]\n"
     ]
    },
    {
     "name": "stdout",
     "output_type": "stream",
     "text": [
      "Loaded weights from model_6.pt\n",
      "Epoch 0\n"
     ]
    },
    {
     "name": "stderr",
     "output_type": "stream",
     "text": [
      "100%|██████████| 125/125 [01:54<00:00,  1.09it/s]\n"
     ]
    },
    {
     "name": "stdout",
     "output_type": "stream",
     "text": [
      "Train Loss: 9.209357730865479, Train L2: 2.613548755645752\n",
      "Generating dataset with 2 scenes...\n"
     ]
    },
    {
     "name": "stderr",
     "output_type": "stream",
     "text": [
      "100%|██████████| 2/2 [00:26<00:00, 13.20s/it]\n"
     ]
    },
    {
     "name": "stdout",
     "output_type": "stream",
     "text": [
      "Loaded weights from model_7.pt\n",
      "Epoch 0\n"
     ]
    },
    {
     "name": "stderr",
     "output_type": "stream",
     "text": [
      "100%|██████████| 125/125 [02:23<00:00,  1.14s/it]\n"
     ]
    },
    {
     "name": "stdout",
     "output_type": "stream",
     "text": [
      "Train Loss: 6.286519239425659, Train L2: 3.806878089904785\n",
      "Generating dataset with 2 scenes...\n"
     ]
    },
    {
     "name": "stderr",
     "output_type": "stream",
     "text": [
      "100%|██████████| 2/2 [00:26<00:00, 13.26s/it]\n"
     ]
    },
    {
     "name": "stdout",
     "output_type": "stream",
     "text": [
      "Loaded weights from model_8.pt\n",
      "Epoch 0\n"
     ]
    },
    {
     "name": "stderr",
     "output_type": "stream",
     "text": [
      "100%|██████████| 125/125 [01:49<00:00,  1.15it/s]\n"
     ]
    },
    {
     "name": "stdout",
     "output_type": "stream",
     "text": [
      "Train Loss: 9.675443399429321, Train L2: 2.19943904876709\n",
      "Generating dataset with 2 scenes...\n"
     ]
    },
    {
     "name": "stderr",
     "output_type": "stream",
     "text": [
      "100%|██████████| 2/2 [00:25<00:00, 12.51s/it]\n"
     ]
    },
    {
     "name": "stdout",
     "output_type": "stream",
     "text": [
      "Loaded weights from model_9.pt\n",
      "Epoch 0\n"
     ]
    },
    {
     "name": "stderr",
     "output_type": "stream",
     "text": [
      "100%|██████████| 125/125 [01:43<00:00,  1.21it/s]\n"
     ]
    },
    {
     "name": "stdout",
     "output_type": "stream",
     "text": [
      "Train Loss: 9.729029230117797, Train L2: 1.9369064569473267\n",
      "Adjusting learning rate of group 0 to 3.4300e-03.\n",
      "Generating dataset with 2 scenes...\n"
     ]
    },
    {
     "name": "stderr",
     "output_type": "stream",
     "text": [
      "100%|██████████| 2/2 [00:24<00:00, 12.48s/it]\n"
     ]
    },
    {
     "name": "stdout",
     "output_type": "stream",
     "text": [
      "Loaded weights from model_10.pt\n",
      "Epoch 0\n"
     ]
    },
    {
     "name": "stderr",
     "output_type": "stream",
     "text": [
      "100%|██████████| 125/125 [01:46<00:00,  1.18it/s]\n"
     ]
    },
    {
     "name": "stdout",
     "output_type": "stream",
     "text": [
      "Train Loss: 9.66268892288208, Train L2: 2.3451273441314697\n",
      "Generating dataset with 2 scenes...\n"
     ]
    },
    {
     "name": "stderr",
     "output_type": "stream",
     "text": [
      "100%|██████████| 2/2 [00:25<00:00, 12.68s/it]\n"
     ]
    },
    {
     "name": "stdout",
     "output_type": "stream",
     "text": [
      "Loaded weights from model_11.pt\n",
      "Epoch 0\n"
     ]
    },
    {
     "name": "stderr",
     "output_type": "stream",
     "text": [
      "100%|██████████| 125/125 [01:50<00:00,  1.13it/s]\n"
     ]
    },
    {
     "name": "stdout",
     "output_type": "stream",
     "text": [
      "Train Loss: 8.222564723968507, Train L2: 1.9699162244796753\n",
      "Generating dataset with 2 scenes...\n"
     ]
    },
    {
     "name": "stderr",
     "output_type": "stream",
     "text": [
      "100%|██████████| 2/2 [00:25<00:00, 12.83s/it]\n"
     ]
    },
    {
     "name": "stdout",
     "output_type": "stream",
     "text": [
      "Loaded weights from model_12.pt\n",
      "Epoch 0\n"
     ]
    },
    {
     "name": "stderr",
     "output_type": "stream",
     "text": [
      "100%|██████████| 125/125 [02:00<00:00,  1.03it/s]\n"
     ]
    },
    {
     "name": "stdout",
     "output_type": "stream",
     "text": [
      "Train Loss: 8.076228811264038, Train L2: 3.0113697052001953\n",
      "Generating dataset with 2 scenes...\n"
     ]
    },
    {
     "name": "stderr",
     "output_type": "stream",
     "text": [
      "100%|██████████| 2/2 [00:25<00:00, 12.99s/it]\n"
     ]
    },
    {
     "name": "stdout",
     "output_type": "stream",
     "text": [
      "Loaded weights from model_13.pt\n",
      "Epoch 0\n"
     ]
    },
    {
     "name": "stderr",
     "output_type": "stream",
     "text": [
      "100%|██████████| 125/125 [01:46<00:00,  1.17it/s]\n"
     ]
    },
    {
     "name": "stdout",
     "output_type": "stream",
     "text": [
      "Train Loss: 10.39714260482788, Train L2: 2.239941358566284\n",
      "Generating dataset with 2 scenes...\n"
     ]
    },
    {
     "name": "stderr",
     "output_type": "stream",
     "text": [
      "100%|██████████| 2/2 [00:27<00:00, 13.62s/it]\n"
     ]
    },
    {
     "name": "stdout",
     "output_type": "stream",
     "text": [
      "Loaded weights from model_14.pt\n",
      "Epoch 0\n"
     ]
    },
    {
     "name": "stderr",
     "output_type": "stream",
     "text": [
      "100%|██████████| 125/125 [01:55<00:00,  1.08it/s]\n"
     ]
    },
    {
     "name": "stdout",
     "output_type": "stream",
     "text": [
      "Train Loss: 8.030325267791747, Train L2: 2.651132106781006\n",
      "Adjusting learning rate of group 0 to 2.4010e-03.\n",
      "Generating dataset with 2 scenes...\n"
     ]
    },
    {
     "name": "stderr",
     "output_type": "stream",
     "text": [
      "100%|██████████| 2/2 [00:24<00:00, 12.45s/it]\n"
     ]
    },
    {
     "name": "stdout",
     "output_type": "stream",
     "text": [
      "Loaded weights from model_15.pt\n",
      "Epoch 0\n"
     ]
    },
    {
     "name": "stderr",
     "output_type": "stream",
     "text": [
      "100%|██████████| 125/125 [01:56<00:00,  1.07it/s]\n"
     ]
    },
    {
     "name": "stdout",
     "output_type": "stream",
     "text": [
      "Train Loss: 7.530250862121582, Train L2: 1.77272629737854\n",
      "Generating dataset with 2 scenes...\n"
     ]
    },
    {
     "name": "stderr",
     "output_type": "stream",
     "text": [
      "100%|██████████| 2/2 [00:25<00:00, 12.81s/it]\n"
     ]
    },
    {
     "name": "stdout",
     "output_type": "stream",
     "text": [
      "Loaded weights from model_16.pt\n",
      "Epoch 0\n"
     ]
    },
    {
     "name": "stderr",
     "output_type": "stream",
     "text": [
      "100%|██████████| 125/125 [01:52<00:00,  1.11it/s]\n"
     ]
    },
    {
     "name": "stdout",
     "output_type": "stream",
     "text": [
      "Train Loss: 8.414287223815919, Train L2: 2.382615566253662\n",
      "Generating dataset with 2 scenes...\n"
     ]
    },
    {
     "name": "stderr",
     "output_type": "stream",
     "text": [
      "100%|██████████| 2/2 [00:26<00:00, 13.37s/it]\n"
     ]
    },
    {
     "name": "stdout",
     "output_type": "stream",
     "text": [
      "Loaded weights from model_17.pt\n",
      "Epoch 0\n"
     ]
    },
    {
     "name": "stderr",
     "output_type": "stream",
     "text": [
      "100%|██████████| 125/125 [02:00<00:00,  1.04it/s]\n"
     ]
    },
    {
     "name": "stdout",
     "output_type": "stream",
     "text": [
      "Train Loss: 8.023587375640869, Train L2: 2.6674954891204834\n",
      "Generating dataset with 2 scenes...\n"
     ]
    },
    {
     "name": "stderr",
     "output_type": "stream",
     "text": [
      "100%|██████████| 2/2 [00:24<00:00, 12.29s/it]\n"
     ]
    },
    {
     "name": "stdout",
     "output_type": "stream",
     "text": [
      "Loaded weights from model_18.pt\n",
      "Epoch 0\n"
     ]
    },
    {
     "name": "stderr",
     "output_type": "stream",
     "text": [
      "100%|██████████| 125/125 [01:50<00:00,  1.14it/s]\n"
     ]
    },
    {
     "name": "stdout",
     "output_type": "stream",
     "text": [
      "Train Loss: 8.04315986251831, Train L2: 1.8228856325149536\n",
      "Generating dataset with 2 scenes...\n"
     ]
    },
    {
     "name": "stderr",
     "output_type": "stream",
     "text": [
      "100%|██████████| 2/2 [00:25<00:00, 12.67s/it]\n"
     ]
    },
    {
     "name": "stdout",
     "output_type": "stream",
     "text": [
      "Loaded weights from model_19.pt\n",
      "Epoch 0\n"
     ]
    },
    {
     "name": "stderr",
     "output_type": "stream",
     "text": [
      "100%|██████████| 125/125 [01:41<00:00,  1.23it/s]\n"
     ]
    },
    {
     "name": "stdout",
     "output_type": "stream",
     "text": [
      "Train Loss: 10.733504608154297, Train L2: 1.7445303201675415\n",
      "Adjusting learning rate of group 0 to 1.6807e-03.\n",
      "Generating dataset with 2 scenes...\n"
     ]
    },
    {
     "name": "stderr",
     "output_type": "stream",
     "text": [
      "100%|██████████| 2/2 [00:28<00:00, 14.23s/it]\n"
     ]
    },
    {
     "name": "stdout",
     "output_type": "stream",
     "text": [
      "Loaded weights from model_20.pt\n",
      "Epoch 0\n"
     ]
    },
    {
     "name": "stderr",
     "output_type": "stream",
     "text": [
      "100%|██████████| 125/125 [01:55<00:00,  1.08it/s]\n"
     ]
    },
    {
     "name": "stdout",
     "output_type": "stream",
     "text": [
      "Train Loss: 8.138146560668945, Train L2: 2.3792786598205566\n",
      "Generating dataset with 2 scenes...\n"
     ]
    },
    {
     "name": "stderr",
     "output_type": "stream",
     "text": [
      "100%|██████████| 2/2 [00:26<00:00, 13.20s/it]\n"
     ]
    },
    {
     "name": "stdout",
     "output_type": "stream",
     "text": [
      "Loaded weights from model_21.pt\n",
      "Epoch 0\n"
     ]
    },
    {
     "name": "stderr",
     "output_type": "stream",
     "text": [
      "100%|██████████| 125/125 [02:03<00:00,  1.01it/s]\n"
     ]
    },
    {
     "name": "stdout",
     "output_type": "stream",
     "text": [
      "Train Loss: 6.982952257156372, Train L2: 1.9964630603790283\n",
      "Generating dataset with 2 scenes...\n"
     ]
    },
    {
     "name": "stderr",
     "output_type": "stream",
     "text": [
      "100%|██████████| 2/2 [00:25<00:00, 12.98s/it]\n"
     ]
    },
    {
     "name": "stdout",
     "output_type": "stream",
     "text": [
      "Loaded weights from model_22.pt\n",
      "Epoch 0\n"
     ]
    },
    {
     "name": "stderr",
     "output_type": "stream",
     "text": [
      "100%|██████████| 125/125 [01:48<00:00,  1.15it/s]\n"
     ]
    },
    {
     "name": "stdout",
     "output_type": "stream",
     "text": [
      "Train Loss: 7.845343364715577, Train L2: 1.8220278024673462\n",
      "Generating dataset with 2 scenes...\n"
     ]
    },
    {
     "name": "stderr",
     "output_type": "stream",
     "text": [
      "100%|██████████| 2/2 [00:25<00:00, 12.52s/it]\n"
     ]
    },
    {
     "name": "stdout",
     "output_type": "stream",
     "text": [
      "Loaded weights from model_23.pt\n",
      "Epoch 0\n"
     ]
    },
    {
     "name": "stderr",
     "output_type": "stream",
     "text": [
      "100%|██████████| 125/125 [01:55<00:00,  1.09it/s]\n"
     ]
    },
    {
     "name": "stdout",
     "output_type": "stream",
     "text": [
      "Train Loss: 7.777977603912354, Train L2: 1.9789986610412598\n",
      "Generating dataset with 2 scenes...\n"
     ]
    },
    {
     "name": "stderr",
     "output_type": "stream",
     "text": [
      "100%|██████████| 2/2 [00:25<00:00, 13.00s/it]\n"
     ]
    },
    {
     "name": "stdout",
     "output_type": "stream",
     "text": [
      "Loaded weights from model_24.pt\n",
      "Epoch 0\n"
     ]
    },
    {
     "name": "stderr",
     "output_type": "stream",
     "text": [
      "100%|██████████| 125/125 [01:59<00:00,  1.04it/s]\n"
     ]
    },
    {
     "name": "stdout",
     "output_type": "stream",
     "text": [
      "Train Loss: 9.248685935974121, Train L2: 2.409541130065918\n",
      "Adjusting learning rate of group 0 to 1.1765e-03.\n",
      "Generating dataset with 2 scenes...\n"
     ]
    },
    {
     "name": "stderr",
     "output_type": "stream",
     "text": [
      " 50%|█████     | 1/2 [00:24<00:24, 24.60s/it]\n"
     ]
    },
    {
     "ename": "KeyboardInterrupt",
     "evalue": "",
     "output_type": "error",
     "traceback": [
      "\u001b[0;31m---------------------------------------------------------------------------\u001b[0m",
      "\u001b[0;31mKeyboardInterrupt\u001b[0m                         Traceback (most recent call last)",
      "Cell \u001b[0;32mIn[7], line 22\u001b[0m\n\u001b[1;32m     19\u001b[0m \u001b[38;5;28;01mfor\u001b[39;00m file \u001b[38;5;129;01min\u001b[39;00m files:\n\u001b[1;32m     20\u001b[0m     os\u001b[38;5;241m.\u001b[39mremove(os\u001b[38;5;241m.\u001b[39mpath\u001b[38;5;241m.\u001b[39mjoin(\u001b[38;5;124m'\u001b[39m\u001b[38;5;124m./train\u001b[39m\u001b[38;5;124m'\u001b[39m, file))\n\u001b[0;32m---> 22\u001b[0m dataset \u001b[38;5;241m=\u001b[39m \u001b[43mgenerate_dataset_memory\u001b[49m\u001b[43m(\u001b[49m\u001b[38;5;241;43m2\u001b[39;49m\u001b[43m)\u001b[49m\n\u001b[1;32m     25\u001b[0m model \u001b[38;5;241m=\u001b[39m train_memory(model, dataset, \u001b[38;5;124m'\u001b[39m\u001b[38;5;124m./val\u001b[39m\u001b[38;5;124m'\u001b[39m, \u001b[38;5;241m16\u001b[39m, loss_fn, optimizer, \u001b[38;5;241m1\u001b[39m, \u001b[38;5;124m'\u001b[39m\u001b[38;5;124m./models\u001b[39m\u001b[38;5;124m'\u001b[39m, device\u001b[38;5;241m=\u001b[39m\u001b[38;5;124m'\u001b[39m\u001b[38;5;124mcpu\u001b[39m\u001b[38;5;124m'\u001b[39m, \u001b[38;5;28meval\u001b[39m\u001b[38;5;241m=\u001b[39m\u001b[38;5;28;01mFalse\u001b[39;00m, use_custom_loss\u001b[38;5;241m=\u001b[39m\u001b[38;5;28;01mTrue\u001b[39;00m)\n\u001b[1;32m     26\u001b[0m \u001b[38;5;28;01mdel\u001b[39;00m dataset\n",
      "File \u001b[0;32m~/python_projects/nbody/nbody-deep-sim/datagen.py:171\u001b[0m, in \u001b[0;36mgenerate_dataset_memory\u001b[0;34m(n_scenes, shuffle)\u001b[0m\n\u001b[1;32m    169\u001b[0m \u001b[38;5;28mprint\u001b[39m(\u001b[38;5;124mf\u001b[39m\u001b[38;5;124m'\u001b[39m\u001b[38;5;124mGenerating dataset with \u001b[39m\u001b[38;5;132;01m{\u001b[39;00mn_scenes\u001b[38;5;132;01m}\u001b[39;00m\u001b[38;5;124m scenes...\u001b[39m\u001b[38;5;124m'\u001b[39m)\n\u001b[1;32m    170\u001b[0m \u001b[38;5;28;01mfor\u001b[39;00m _ \u001b[38;5;129;01min\u001b[39;00m tqdm\u001b[38;5;241m.\u001b[39mtqdm(\u001b[38;5;28mrange\u001b[39m(n_scenes)):\n\u001b[0;32m--> 171\u001b[0m     scene \u001b[38;5;241m=\u001b[39m \u001b[43mgenerate_scene_2gals_memory\u001b[49m\u001b[43m(\u001b[49m\u001b[43m)\u001b[49m\n\u001b[1;32m    172\u001b[0m     frames \u001b[38;5;241m=\u001b[39m scene[\u001b[38;5;124m'\u001b[39m\u001b[38;5;124mframes\u001b[39m\u001b[38;5;124m'\u001b[39m]\n\u001b[1;32m    173\u001b[0m     masses \u001b[38;5;241m=\u001b[39m scene[\u001b[38;5;124m'\u001b[39m\u001b[38;5;124mmasses\u001b[39m\u001b[38;5;124m'\u001b[39m]\n",
      "File \u001b[0;32m~/python_projects/nbody/nbody-deep-sim/datagen.py:88\u001b[0m, in \u001b[0;36mgenerate_scene_2gals_memory\u001b[0;34m()\u001b[0m\n\u001b[1;32m     85\u001b[0m particles \u001b[38;5;241m=\u001b[39m particles1 \u001b[38;5;241m+\u001b[39m particles2\n\u001b[1;32m     86\u001b[0m sim \u001b[38;5;241m=\u001b[39m NBodySimulation(particles, G, softening, dt)\n\u001b[0;32m---> 88\u001b[0m pos, vel, acc, KE, PE, _, masses, types \u001b[38;5;241m=\u001b[39m \u001b[43msim\u001b[49m\u001b[38;5;241;43m.\u001b[39;49m\u001b[43mrun\u001b[49m\u001b[43m(\u001b[49m\u001b[43mt_end\u001b[49m\u001b[38;5;241;43m=\u001b[39;49m\u001b[43mt_end\u001b[49m\u001b[43m,\u001b[49m\u001b[43m \u001b[49m\u001b[43msave_states\u001b[49m\u001b[38;5;241;43m=\u001b[39;49m\u001b[38;5;28;43;01mTrue\u001b[39;49;00m\u001b[43m)\u001b[49m\n\u001b[1;32m     90\u001b[0m \u001b[38;5;66;03m# Convert all arrays to lists\u001b[39;00m\n\u001b[1;32m     91\u001b[0m pos \u001b[38;5;241m=\u001b[39m np\u001b[38;5;241m.\u001b[39marray(pos)\u001b[38;5;241m.\u001b[39mtranspose(\u001b[38;5;241m2\u001b[39m, \u001b[38;5;241m0\u001b[39m, \u001b[38;5;241m1\u001b[39m)\n",
      "File \u001b[0;32m~/python_projects/nbody/nbody-deep-sim/sim.py:98\u001b[0m, in \u001b[0;36mNBodySimulation.run\u001b[0;34m(self, t_end, save_states)\u001b[0m\n\u001b[1;32m     95\u001b[0m     p\u001b[38;5;241m.\u001b[39mvelocity \u001b[38;5;241m+\u001b[39m\u001b[38;5;241m=\u001b[39m p\u001b[38;5;241m.\u001b[39macceleration \u001b[38;5;241m*\u001b[39m \u001b[38;5;28mself\u001b[39m\u001b[38;5;241m.\u001b[39mdt \u001b[38;5;241m/\u001b[39m \u001b[38;5;241m2.0\u001b[39m\n\u001b[1;32m     96\u001b[0m     p\u001b[38;5;241m.\u001b[39mposition \u001b[38;5;241m+\u001b[39m\u001b[38;5;241m=\u001b[39m p\u001b[38;5;241m.\u001b[39mvelocity \u001b[38;5;241m*\u001b[39m \u001b[38;5;28mself\u001b[39m\u001b[38;5;241m.\u001b[39mdt\n\u001b[0;32m---> 98\u001b[0m \u001b[38;5;28;43mself\u001b[39;49m\u001b[38;5;241;43m.\u001b[39;49m\u001b[43mget_accelerations\u001b[49m\u001b[43m(\u001b[49m\u001b[43m)\u001b[49m\n\u001b[1;32m    100\u001b[0m \u001b[38;5;28;01mfor\u001b[39;00m p \u001b[38;5;129;01min\u001b[39;00m \u001b[38;5;28mself\u001b[39m\u001b[38;5;241m.\u001b[39mparticles:\n\u001b[1;32m    101\u001b[0m     p\u001b[38;5;241m.\u001b[39mvelocity \u001b[38;5;241m+\u001b[39m\u001b[38;5;241m=\u001b[39m p\u001b[38;5;241m.\u001b[39macceleration \u001b[38;5;241m*\u001b[39m \u001b[38;5;28mself\u001b[39m\u001b[38;5;241m.\u001b[39mdt \u001b[38;5;241m/\u001b[39m \u001b[38;5;241m2.0\u001b[39m\n",
      "File \u001b[0;32m~/python_projects/nbody/nbody-deep-sim/sim.py:45\u001b[0m, in \u001b[0;36mNBodySimulation.get_accelerations\u001b[0;34m(self)\u001b[0m\n\u001b[1;32m     42\u001b[0m ay \u001b[38;5;241m=\u001b[39m \u001b[38;5;28mself\u001b[39m\u001b[38;5;241m.\u001b[39mG \u001b[38;5;241m*\u001b[39m (dy \u001b[38;5;241m*\u001b[39m inv_r3) \u001b[38;5;241m@\u001b[39m masses\n\u001b[1;32m     43\u001b[0m az \u001b[38;5;241m=\u001b[39m \u001b[38;5;28mself\u001b[39m\u001b[38;5;241m.\u001b[39mG \u001b[38;5;241m*\u001b[39m (dz \u001b[38;5;241m*\u001b[39m inv_r3) \u001b[38;5;241m@\u001b[39m masses\n\u001b[0;32m---> 45\u001b[0m accelerations \u001b[38;5;241m=\u001b[39m \u001b[43mnp\u001b[49m\u001b[38;5;241;43m.\u001b[39;49m\u001b[43mhstack\u001b[49m\u001b[43m(\u001b[49m\u001b[43m(\u001b[49m\u001b[43max\u001b[49m\u001b[43m,\u001b[49m\u001b[43m \u001b[49m\u001b[43may\u001b[49m\u001b[43m,\u001b[49m\u001b[43m \u001b[49m\u001b[43maz\u001b[49m\u001b[43m)\u001b[49m\u001b[43m)\u001b[49m\n\u001b[1;32m     46\u001b[0m \u001b[38;5;28;01mfor\u001b[39;00m i, p \u001b[38;5;129;01min\u001b[39;00m \u001b[38;5;28menumerate\u001b[39m(\u001b[38;5;28mself\u001b[39m\u001b[38;5;241m.\u001b[39mparticles):\n\u001b[1;32m     47\u001b[0m     p\u001b[38;5;241m.\u001b[39macceleration \u001b[38;5;241m=\u001b[39m accelerations[i]\n",
      "File \u001b[0;32m/opt/miniconda3/envs/open3d/lib/python3.10/site-packages/numpy/core/shape_base.py:215\u001b[0m, in \u001b[0;36m_vhstack_dispatcher\u001b[0;34m(tup, dtype, casting)\u001b[0m\n\u001b[1;32m    209\u001b[0m         \u001b[38;5;28;01mraise\u001b[39;00m \u001b[38;5;167;01mTypeError\u001b[39;00m(\u001b[38;5;124m'\u001b[39m\u001b[38;5;124marrays to stack must be passed as a \u001b[39m\u001b[38;5;124m\"\u001b[39m\u001b[38;5;124msequence\u001b[39m\u001b[38;5;124m\"\u001b[39m\u001b[38;5;124m type \u001b[39m\u001b[38;5;124m'\u001b[39m\n\u001b[1;32m    210\u001b[0m                         \u001b[38;5;124m'\u001b[39m\u001b[38;5;124msuch as list or tuple.\u001b[39m\u001b[38;5;124m'\u001b[39m)\n\u001b[1;32m    212\u001b[0m     \u001b[38;5;28;01mreturn\u001b[39;00m \u001b[38;5;28mtuple\u001b[39m(arrays)\n\u001b[0;32m--> 215\u001b[0m \u001b[38;5;28;01mdef\u001b[39;00m \u001b[38;5;21m_vhstack_dispatcher\u001b[39m(tup, \u001b[38;5;241m*\u001b[39m, dtype\u001b[38;5;241m=\u001b[39m\u001b[38;5;28;01mNone\u001b[39;00m, casting\u001b[38;5;241m=\u001b[39m\u001b[38;5;28;01mNone\u001b[39;00m):\n\u001b[1;32m    216\u001b[0m     \u001b[38;5;28;01mreturn\u001b[39;00m _arrays_for_stack_dispatcher(tup)\n\u001b[1;32m    219\u001b[0m \u001b[38;5;129m@array_function_dispatch\u001b[39m(_vhstack_dispatcher)\n\u001b[1;32m    220\u001b[0m \u001b[38;5;28;01mdef\u001b[39;00m \u001b[38;5;21mvstack\u001b[39m(tup, \u001b[38;5;241m*\u001b[39m, dtype\u001b[38;5;241m=\u001b[39m\u001b[38;5;28;01mNone\u001b[39;00m, casting\u001b[38;5;241m=\u001b[39m\u001b[38;5;124m\"\u001b[39m\u001b[38;5;124msame_kind\u001b[39m\u001b[38;5;124m\"\u001b[39m):\n",
      "\u001b[0;31mKeyboardInterrupt\u001b[0m: "
     ]
    }
   ],
   "source": [
    "\n",
    "model_files = os.listdir('./models/')\n",
    "model_files.sort(key=lambda x: int(x.split('_')[1].split('.')[0]))\n",
    "try:\n",
    "    last_model_id = model_files[-1].split('_')[1].split('.')[0]\n",
    "except IndexError:\n",
    "    last_model_id = -1\n",
    "last_model_id = int(last_model_id)\n",
    "\n",
    "model = KwisatzHaderach(activation=True, layer_channels=[32, 64, 64, 3], calc_neighbors=True)\n",
    "\n",
    "\n",
    "\n",
    "optimizer = torch.optim.Adam(model.parameters(), lr=1e-2)\n",
    "scheduler = torch.optim.lr_scheduler.ExponentialLR(optimizer, 0.7, verbose=True)\n",
    "\n",
    "for i in range(40):\n",
    "    # remove all files from train directory\n",
    "    files = os.listdir('./train')\n",
    "    for file in files:\n",
    "        os.remove(os.path.join('./train', file))\n",
    "    \n",
    "    dataset = generate_dataset_memory(2)\n",
    "\n",
    "    \n",
    "    model = train_memory(model, dataset, './val', 16, loss_fn, optimizer, 1, './models', device='cpu', eval=False, use_custom_loss=True)\n",
    "    del dataset\n",
    "    last_model_id += 1\n",
    "    torch.save(model.state_dict(), f'./models/model_{last_model_id}.pt')\n",
    "\n",
    "    if i % 5 == 0:\n",
    "        scheduler.step()\n",
    "\n"
   ]
  },
  {
   "cell_type": "code",
   "execution_count": 39,
   "metadata": {},
   "outputs": [],
   "source": [
    "from kwisatzHaderach_bh import KwisatzHaderachBH"
   ]
  },
  {
   "cell_type": "code",
   "execution_count": 40,
   "metadata": {},
   "outputs": [
    {
     "name": "stdout",
     "output_type": "stream",
     "text": [
      "Adjusting learning rate of group 0 to 1.0000e-02.\n",
      "Generating dataset with 2 scenes...\n"
     ]
    },
    {
     "name": "stderr",
     "output_type": "stream",
     "text": [
      "100%|██████████| 2/2 [00:35<00:00, 17.78s/it]\n"
     ]
    },
    {
     "name": "stdout",
     "output_type": "stream",
     "text": [
      "Epoch 0\n"
     ]
    },
    {
     "name": "stderr",
     "output_type": "stream",
     "text": [
      "100%|██████████| 124/124 [09:32<00:00,  4.61s/it]\n"
     ]
    },
    {
     "name": "stdout",
     "output_type": "stream",
     "text": [
      "Train Loss: 36337.63641502972, Train L2: 36337.63685174124\n",
      "Adjusting learning rate of group 0 to 7.0000e-03.\n",
      "Generating dataset with 2 scenes...\n"
     ]
    },
    {
     "name": "stderr",
     "output_type": "stream",
     "text": [
      "100%|██████████| 2/2 [00:27<00:00, 13.50s/it]\n"
     ]
    },
    {
     "name": "stdout",
     "output_type": "stream",
     "text": [
      "Loaded weights from model_0.pt\n",
      "Epoch 0\n"
     ]
    },
    {
     "name": "stderr",
     "output_type": "stream",
     "text": [
      "100%|██████████| 124/124 [10:03<00:00,  4.87s/it]\n"
     ]
    },
    {
     "name": "stdout",
     "output_type": "stream",
     "text": [
      "Train Loss: 3.3436206175434973, Train L2: 3.343620580320637\n",
      "Generating dataset with 2 scenes...\n"
     ]
    },
    {
     "name": "stderr",
     "output_type": "stream",
     "text": [
      "100%|██████████| 2/2 [00:34<00:00, 17.38s/it]\n"
     ]
    },
    {
     "name": "stdout",
     "output_type": "stream",
     "text": [
      "Loaded weights from model_1.pt\n",
      "Epoch 0\n"
     ]
    },
    {
     "name": "stderr",
     "output_type": "stream",
     "text": [
      "100%|██████████| 124/124 [09:36<00:00,  4.65s/it]\n"
     ]
    },
    {
     "name": "stdout",
     "output_type": "stream",
     "text": [
      "Train Loss: 3.364552910289457, Train L2: 3.3645528859248564\n",
      "Generating dataset with 2 scenes...\n"
     ]
    },
    {
     "name": "stderr",
     "output_type": "stream",
     "text": [
      "100%|██████████| 2/2 [00:34<00:00, 17.03s/it]\n"
     ]
    },
    {
     "name": "stdout",
     "output_type": "stream",
     "text": [
      "Loaded weights from model_2.pt\n",
      "Epoch 0\n"
     ]
    },
    {
     "name": "stderr",
     "output_type": "stream",
     "text": [
      "100%|██████████| 124/124 [09:49<00:00,  4.75s/it]\n"
     ]
    },
    {
     "name": "stdout",
     "output_type": "stream",
     "text": [
      "Train Loss: 2.7546715986344124, Train L2: 2.754671580248302\n",
      "Generating dataset with 2 scenes...\n"
     ]
    },
    {
     "name": "stderr",
     "output_type": "stream",
     "text": [
      "100%|██████████| 2/2 [00:34<00:00, 17.38s/it]\n"
     ]
    },
    {
     "name": "stdout",
     "output_type": "stream",
     "text": [
      "Loaded weights from model_3.pt\n",
      "Epoch 0\n"
     ]
    },
    {
     "name": "stderr",
     "output_type": "stream",
     "text": [
      "100%|██████████| 124/124 [09:40<00:00,  4.68s/it]\n"
     ]
    },
    {
     "name": "stdout",
     "output_type": "stream",
     "text": [
      "Train Loss: 2.3741487841452322, Train L2: 2.3741488050699475\n",
      "Generating dataset with 2 scenes...\n"
     ]
    },
    {
     "name": "stderr",
     "output_type": "stream",
     "text": [
      "100%|██████████| 2/2 [00:24<00:00, 12.07s/it]\n"
     ]
    },
    {
     "name": "stdout",
     "output_type": "stream",
     "text": [
      "Loaded weights from model_4.pt\n",
      "Epoch 0\n"
     ]
    },
    {
     "name": "stderr",
     "output_type": "stream",
     "text": [
      "100%|██████████| 124/124 [09:33<00:00,  4.62s/it]\n"
     ]
    },
    {
     "name": "stdout",
     "output_type": "stream",
     "text": [
      "Train Loss: 2.3355996589506827, Train L2: 2.3355996712231106\n",
      "Adjusting learning rate of group 0 to 4.9000e-03.\n",
      "Generating dataset with 2 scenes...\n"
     ]
    },
    {
     "name": "stderr",
     "output_type": "stream",
     "text": [
      "100%|██████████| 2/2 [00:26<00:00, 13.13s/it]\n"
     ]
    },
    {
     "name": "stdout",
     "output_type": "stream",
     "text": [
      "Loaded weights from model_5.pt\n",
      "Epoch 0\n"
     ]
    },
    {
     "name": "stderr",
     "output_type": "stream",
     "text": [
      "100%|██████████| 124/124 [09:12<00:00,  4.46s/it]\n"
     ]
    },
    {
     "name": "stdout",
     "output_type": "stream",
     "text": [
      "Train Loss: 2.854159482063786, Train L2: 2.854159466471643\n",
      "Generating dataset with 2 scenes...\n"
     ]
    },
    {
     "name": "stderr",
     "output_type": "stream",
     "text": [
      "100%|██████████| 2/2 [00:25<00:00, 12.68s/it]\n"
     ]
    },
    {
     "name": "stdout",
     "output_type": "stream",
     "text": [
      "Loaded weights from model_6.pt\n",
      "Epoch 0\n"
     ]
    },
    {
     "name": "stderr",
     "output_type": "stream",
     "text": [
      "100%|██████████| 124/124 [09:16<00:00,  4.49s/it]\n"
     ]
    },
    {
     "name": "stdout",
     "output_type": "stream",
     "text": [
      "Train Loss: 2.4385847785780506, Train L2: 2.4385847684686945\n",
      "Generating dataset with 2 scenes...\n"
     ]
    },
    {
     "name": "stderr",
     "output_type": "stream",
     "text": [
      "100%|██████████| 2/2 [00:24<00:00, 12.03s/it]\n"
     ]
    },
    {
     "name": "stdout",
     "output_type": "stream",
     "text": [
      "Loaded weights from model_7.pt\n",
      "Epoch 0\n"
     ]
    },
    {
     "name": "stderr",
     "output_type": "stream",
     "text": [
      "  6%|▌         | 7/124 [00:33<09:21,  4.80s/it]\n"
     ]
    },
    {
     "ename": "KeyboardInterrupt",
     "evalue": "",
     "output_type": "error",
     "traceback": [
      "\u001b[0;31m---------------------------------------------------------------------------\u001b[0m",
      "\u001b[0;31mKeyboardInterrupt\u001b[0m                         Traceback (most recent call last)",
      "Cell \u001b[0;32mIn[40], line 25\u001b[0m\n\u001b[1;32m     20\u001b[0m     os\u001b[38;5;241m.\u001b[39mremove(os\u001b[38;5;241m.\u001b[39mpath\u001b[38;5;241m.\u001b[39mjoin(\u001b[38;5;124m'\u001b[39m\u001b[38;5;124m./train\u001b[39m\u001b[38;5;124m'\u001b[39m, file))\n\u001b[1;32m     22\u001b[0m dataset \u001b[38;5;241m=\u001b[39m generate_dataset_memory_bh(\u001b[38;5;241m2\u001b[39m, window_size\u001b[38;5;241m=\u001b[39m\u001b[38;5;241m2\u001b[39m)\n\u001b[0;32m---> 25\u001b[0m model \u001b[38;5;241m=\u001b[39m \u001b[43mtrain_memory_black_hole_info\u001b[49m\u001b[43m(\u001b[49m\u001b[43mmodel\u001b[49m\u001b[43m,\u001b[49m\u001b[43m \u001b[49m\u001b[43mdataset\u001b[49m\u001b[43m,\u001b[49m\u001b[43m \u001b[49m\u001b[38;5;124;43m'\u001b[39;49m\u001b[38;5;124;43m./val\u001b[39;49m\u001b[38;5;124;43m'\u001b[39;49m\u001b[43m,\u001b[49m\u001b[43m \u001b[49m\u001b[38;5;241;43m16\u001b[39;49m\u001b[43m,\u001b[49m\u001b[43m \u001b[49m\u001b[43mloss_fn\u001b[49m\u001b[43m,\u001b[49m\u001b[43m \u001b[49m\u001b[43moptimizer\u001b[49m\u001b[43m,\u001b[49m\u001b[43m \u001b[49m\u001b[38;5;241;43m1\u001b[39;49m\u001b[43m,\u001b[49m\u001b[43m \u001b[49m\u001b[38;5;124;43m'\u001b[39;49m\u001b[38;5;124;43m./modelsbh\u001b[39;49m\u001b[38;5;124;43m'\u001b[39;49m\u001b[43m,\u001b[49m\u001b[43m \u001b[49m\u001b[43mdevice\u001b[49m\u001b[38;5;241;43m=\u001b[39;49m\u001b[38;5;124;43m'\u001b[39;49m\u001b[38;5;124;43mcpu\u001b[39;49m\u001b[38;5;124;43m'\u001b[39;49m\u001b[43m,\u001b[49m\u001b[43m \u001b[49m\u001b[38;5;28;43meval\u001b[39;49m\u001b[38;5;241;43m=\u001b[39;49m\u001b[38;5;28;43;01mFalse\u001b[39;49;00m\u001b[43m,\u001b[49m\u001b[43m \u001b[49m\u001b[43muse_custom_loss\u001b[49m\u001b[38;5;241;43m=\u001b[39;49m\u001b[38;5;28;43;01mFalse\u001b[39;49;00m\u001b[43m)\u001b[49m\n\u001b[1;32m     26\u001b[0m \u001b[38;5;28;01mdel\u001b[39;00m dataset\n\u001b[1;32m     27\u001b[0m last_model_id \u001b[38;5;241m+\u001b[39m\u001b[38;5;241m=\u001b[39m \u001b[38;5;241m1\u001b[39m\n",
      "Cell \u001b[0;32mIn[37], line 72\u001b[0m, in \u001b[0;36mtrain_memory_black_hole_info\u001b[0;34m(model, train_data, val_dir, batch_size, loss_fn, optimizer, num_epochs, weights_dir, device, eval, use_custom_loss)\u001b[0m\n\u001b[1;32m     70\u001b[0m \u001b[38;5;28;01mfor\u001b[39;00m epoch \u001b[38;5;129;01min\u001b[39;00m \u001b[38;5;28mrange\u001b[39m(num_epochs):\n\u001b[1;32m     71\u001b[0m     \u001b[38;5;28mprint\u001b[39m(\u001b[38;5;124mf\u001b[39m\u001b[38;5;124m'\u001b[39m\u001b[38;5;124mEpoch \u001b[39m\u001b[38;5;132;01m{\u001b[39;00mepoch\u001b[38;5;132;01m}\u001b[39;00m\u001b[38;5;124m'\u001b[39m)\n\u001b[0;32m---> 72\u001b[0m     \u001b[43mtrain_epoch_memory_black_hole_info\u001b[49m\u001b[43m(\u001b[49m\u001b[43mmodel\u001b[49m\u001b[43m,\u001b[49m\u001b[43m \u001b[49m\u001b[43mtrain_data\u001b[49m\u001b[43m,\u001b[49m\u001b[43m \u001b[49m\u001b[43mbatch_size\u001b[49m\u001b[43m,\u001b[49m\u001b[43m \u001b[49m\u001b[43mloss_fn\u001b[49m\u001b[43m,\u001b[49m\u001b[43m \u001b[49m\u001b[43moptimizer\u001b[49m\u001b[43m,\u001b[49m\u001b[43m \u001b[49m\u001b[43mdevice\u001b[49m\u001b[43m,\u001b[49m\u001b[43m \u001b[49m\u001b[43muse_custom_loss\u001b[49m\u001b[43m)\u001b[49m\n\u001b[1;32m     74\u001b[0m     \u001b[38;5;28;01mif\u001b[39;00m \u001b[38;5;28meval\u001b[39m:\n\u001b[1;32m     75\u001b[0m         val(model, val_dir, batch_size, loss_fn, device)\n",
      "Cell \u001b[0;32mIn[36], line 197\u001b[0m, in \u001b[0;36mtrain_epoch_memory_black_hole_info\u001b[0;34m(model, data, batch_size, loss_fn, optimizer, device, use_custom_loss)\u001b[0m\n\u001b[1;32m    195\u001b[0m     total_loss \u001b[38;5;241m=\u001b[39m \u001b[38;5;28msum\u001b[39m(losses) \u001b[38;5;241m/\u001b[39m \u001b[38;5;28mlen\u001b[39m(batch)\n\u001b[1;32m    196\u001b[0m     all_losses\u001b[38;5;241m.\u001b[39mappend(total_loss\u001b[38;5;241m.\u001b[39mitem())\n\u001b[0;32m--> 197\u001b[0m     \u001b[43mtotal_loss\u001b[49m\u001b[38;5;241;43m.\u001b[39;49m\u001b[43mbackward\u001b[49m\u001b[43m(\u001b[49m\u001b[43m)\u001b[49m\n\u001b[1;32m    199\u001b[0m     optimizer\u001b[38;5;241m.\u001b[39mstep()\n\u001b[1;32m    201\u001b[0m \u001b[38;5;28mprint\u001b[39m(\u001b[38;5;124mf\u001b[39m\u001b[38;5;124m'\u001b[39m\u001b[38;5;124mTrain Loss: \u001b[39m\u001b[38;5;132;01m{\u001b[39;00m\u001b[38;5;28msum\u001b[39m(all_losses)\u001b[38;5;241m/\u001b[39m\u001b[38;5;28mlen\u001b[39m(all_losses)\u001b[38;5;132;01m}\u001b[39;00m\u001b[38;5;124m, Train L2: \u001b[39m\u001b[38;5;132;01m{\u001b[39;00m\u001b[38;5;28msum\u001b[39m(all_dists)\u001b[38;5;241m/\u001b[39m\u001b[38;5;28mlen\u001b[39m(all_dists)\u001b[38;5;132;01m}\u001b[39;00m\u001b[38;5;124m'\u001b[39m)\n",
      "File \u001b[0;32m/opt/miniconda3/envs/open3d/lib/python3.10/site-packages/torch/_tensor.py:488\u001b[0m, in \u001b[0;36mTensor.backward\u001b[0;34m(self, gradient, retain_graph, create_graph, inputs)\u001b[0m\n\u001b[1;32m    478\u001b[0m \u001b[38;5;28;01mif\u001b[39;00m has_torch_function_unary(\u001b[38;5;28mself\u001b[39m):\n\u001b[1;32m    479\u001b[0m     \u001b[38;5;28;01mreturn\u001b[39;00m handle_torch_function(\n\u001b[1;32m    480\u001b[0m         Tensor\u001b[38;5;241m.\u001b[39mbackward,\n\u001b[1;32m    481\u001b[0m         (\u001b[38;5;28mself\u001b[39m,),\n\u001b[0;32m   (...)\u001b[0m\n\u001b[1;32m    486\u001b[0m         inputs\u001b[38;5;241m=\u001b[39minputs,\n\u001b[1;32m    487\u001b[0m     )\n\u001b[0;32m--> 488\u001b[0m \u001b[43mtorch\u001b[49m\u001b[38;5;241;43m.\u001b[39;49m\u001b[43mautograd\u001b[49m\u001b[38;5;241;43m.\u001b[39;49m\u001b[43mbackward\u001b[49m\u001b[43m(\u001b[49m\n\u001b[1;32m    489\u001b[0m \u001b[43m    \u001b[49m\u001b[38;5;28;43mself\u001b[39;49m\u001b[43m,\u001b[49m\u001b[43m \u001b[49m\u001b[43mgradient\u001b[49m\u001b[43m,\u001b[49m\u001b[43m \u001b[49m\u001b[43mretain_graph\u001b[49m\u001b[43m,\u001b[49m\u001b[43m \u001b[49m\u001b[43mcreate_graph\u001b[49m\u001b[43m,\u001b[49m\u001b[43m \u001b[49m\u001b[43minputs\u001b[49m\u001b[38;5;241;43m=\u001b[39;49m\u001b[43minputs\u001b[49m\n\u001b[1;32m    490\u001b[0m \u001b[43m\u001b[49m\u001b[43m)\u001b[49m\n",
      "File \u001b[0;32m/opt/miniconda3/envs/open3d/lib/python3.10/site-packages/torch/autograd/__init__.py:197\u001b[0m, in \u001b[0;36mbackward\u001b[0;34m(tensors, grad_tensors, retain_graph, create_graph, grad_variables, inputs)\u001b[0m\n\u001b[1;32m    192\u001b[0m     retain_graph \u001b[38;5;241m=\u001b[39m create_graph\n\u001b[1;32m    194\u001b[0m \u001b[38;5;66;03m# The reason we repeat same the comment below is that\u001b[39;00m\n\u001b[1;32m    195\u001b[0m \u001b[38;5;66;03m# some Python versions print out the first line of a multi-line function\u001b[39;00m\n\u001b[1;32m    196\u001b[0m \u001b[38;5;66;03m# calls in the traceback and some print out the last line\u001b[39;00m\n\u001b[0;32m--> 197\u001b[0m \u001b[43mVariable\u001b[49m\u001b[38;5;241;43m.\u001b[39;49m\u001b[43m_execution_engine\u001b[49m\u001b[38;5;241;43m.\u001b[39;49m\u001b[43mrun_backward\u001b[49m\u001b[43m(\u001b[49m\u001b[43m  \u001b[49m\u001b[38;5;66;43;03m# Calls into the C++ engine to run the backward pass\u001b[39;49;00m\n\u001b[1;32m    198\u001b[0m \u001b[43m    \u001b[49m\u001b[43mtensors\u001b[49m\u001b[43m,\u001b[49m\u001b[43m \u001b[49m\u001b[43mgrad_tensors_\u001b[49m\u001b[43m,\u001b[49m\u001b[43m \u001b[49m\u001b[43mretain_graph\u001b[49m\u001b[43m,\u001b[49m\u001b[43m \u001b[49m\u001b[43mcreate_graph\u001b[49m\u001b[43m,\u001b[49m\u001b[43m \u001b[49m\u001b[43minputs\u001b[49m\u001b[43m,\u001b[49m\n\u001b[1;32m    199\u001b[0m \u001b[43m    \u001b[49m\u001b[43mallow_unreachable\u001b[49m\u001b[38;5;241;43m=\u001b[39;49m\u001b[38;5;28;43;01mTrue\u001b[39;49;00m\u001b[43m,\u001b[49m\u001b[43m \u001b[49m\u001b[43maccumulate_grad\u001b[49m\u001b[38;5;241;43m=\u001b[39;49m\u001b[38;5;28;43;01mTrue\u001b[39;49;00m\u001b[43m)\u001b[49m\n",
      "\u001b[0;31mKeyboardInterrupt\u001b[0m: "
     ]
    }
   ],
   "source": [
    "'''\n",
    "model_files = os.listdir('./modelsbh/')\n",
    "model_files.sort(key=lambda x: int(x.split('_')[1].split('.')[0]))\n",
    "try:\n",
    "    last_model_id = model_files[-1].split('_')[1].split('.')[0]\n",
    "except IndexError:\n",
    "    last_model_id = -1\n",
    "last_model_id = int(last_model_id)\n",
    "\n",
    "model = KwisatzHaderachBH(activation=True, layer_channels=[64, 64, 32, 3], calc_neighbors=False)\n",
    "\n",
    "\n",
    "\n",
    "optimizer = torch.optim.Adam(model.parameters(), lr=1e-2)\n",
    "scheduler = torch.optim.lr_scheduler.ExponentialLR(optimizer, 0.7, verbose=True)\n",
    "\n",
    "for i in range(40):\n",
    "    # remove all files from train directory\n",
    "    files = os.listdir('./train')\n",
    "    for file in files:\n",
    "        os.remove(os.path.join('./train', file))\n",
    "    \n",
    "    dataset = generate_dataset_memory_bh(2, window_size=2)\n",
    "\n",
    "    \n",
    "    model = train_memory_black_hole_info(model, dataset, './val', 16, loss_fn, optimizer, 1, './modelsbh', device='cpu', eval=False, use_custom_loss=False)\n",
    "    del dataset\n",
    "    last_model_id += 1\n",
    "    torch.save(model.state_dict(), f'./modelsbh/model_{last_model_id}.pt')\n",
    "\n",
    "    if i % 5 == 0:\n",
    "        scheduler.step()\n",
    "       ''' "
   ]
  },
  {
   "cell_type": "code",
   "execution_count": null,
   "metadata": {},
   "outputs": [],
   "source": []
  }
 ],
 "metadata": {
  "kernelspec": {
   "display_name": "open3d",
   "language": "python",
   "name": "python3"
  },
  "language_info": {
   "codemirror_mode": {
    "name": "ipython",
    "version": 3
   },
   "file_extension": ".py",
   "mimetype": "text/x-python",
   "name": "python",
   "nbconvert_exporter": "python",
   "pygments_lexer": "ipython3",
   "version": "3.10.15"
  }
 },
 "nbformat": 4,
 "nbformat_minor": 2
}
