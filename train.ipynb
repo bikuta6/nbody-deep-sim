{
 "cells": [
  {
   "cell_type": "code",
   "execution_count": 1,
   "metadata": {},
   "outputs": [
    {
     "name": "stdout",
     "output_type": "stream",
     "text": [
      "Jupyter environment detected. Enabling Open3D WebVisualizer.\n",
      "[Open3D INFO] WebRTC GUI backend enabled.\n",
      "[Open3D INFO] WebRTCWindowSystem: HTTP handshake server disabled.\n"
     ]
    }
   ],
   "source": [
    "import torch\n",
    "from kwisatzHaderach import KwisatzHaderach\n",
    "import json\n",
    "import os\n",
    "import tqdm\n",
    "import numpy as np\n",
    "from datagen import generate_dataset, generate_dataset_memory, generate_dataset_memory_bh"
   ]
  },
  {
   "cell_type": "code",
   "execution_count": 2,
   "metadata": {},
   "outputs": [
    {
     "data": {
      "text/plain": [
       "'\\ndef loss_fn(pr_acc, gt_acc, num_neighbors):\\n    gamma = 0.5\\n    neighbor_scale = 1/100\\n    importance = torch.exp(neighbor_scale * num_neighbors) # removed minus sign to give more importance to particles with more neighbors\\n    importance = importance / torch.max(importance)\\n    euclidean_distances = euclidean_distance(pr_acc, gt_acc)\\n    if importance.size()[0] == 0:\\n        importance = 1.0\\n    return torch.mean(importance *\\n                        euclidean_distances**gamma), torch.mean(euclidean_distances)\\n'"
      ]
     },
     "execution_count": 2,
     "metadata": {},
     "output_type": "execute_result"
    }
   ],
   "source": [
    "def euclidean_distance(a, b):\n",
    "    return torch.sqrt(torch.sum((a - b)**2, dim=-1) + 1e-12)\n",
    "'''\n",
    "def loss_fn(pr_acc, gt_acc, num_neighbors):\n",
    "    gamma = 0.5\n",
    "    neighbor_scale = 1/100\n",
    "    importance = torch.exp(neighbor_scale * num_neighbors) # removed minus sign to give more importance to particles with more neighbors\n",
    "    importance = importance / torch.max(importance)\n",
    "    euclidean_distances = euclidean_distance(pr_acc, gt_acc)\n",
    "    if importance.size()[0] == 0:\n",
    "        importance = 1.0\n",
    "    return torch.mean(importance *\n",
    "                        euclidean_distances**gamma), torch.mean(euclidean_distances)\n",
    "'''"
   ]
  },
  {
   "cell_type": "code",
   "execution_count": 3,
   "metadata": {},
   "outputs": [],
   "source": [
    "def loss_fn(pr_acc, gt_acc, num_neighbors, gt_pos, pr_pos, pos_importance=1.0):\n",
    "    gamma = 0.5\n",
    "    neighbor_scale = 1/100\n",
    "    importance = torch.exp(neighbor_scale * num_neighbors) # removed minus sign to give more importance to particles with more neighbors\n",
    "    importance = importance / torch.max(importance)\n",
    "    euclidean_distances = euclidean_distance(pr_acc, gt_acc)\n",
    "    if importance.size()[0] == 0:\n",
    "        importance = 1.0\n",
    "    return torch.mean(importance *\n",
    "                        euclidean_distances**gamma) + pos_importance * torch.mean(importance * euclidean_distance(pr_pos, gt_pos)**gamma), torch.mean(euclidean_distances)"
   ]
  },
  {
   "cell_type": "code",
   "execution_count": 4,
   "metadata": {},
   "outputs": [],
   "source": [
    "def get_new_pos_vel(acc, pos, vel, dt=0.01):\n",
    "    new_vel = vel + acc * dt\n",
    "    new_pos = pos + new_vel * dt\n",
    "    return new_pos, new_vel"
   ]
  },
  {
   "cell_type": "code",
   "execution_count": 5,
   "metadata": {},
   "outputs": [],
   "source": [
    "def train_epoch(model, file, batch_size, loss_fn, optimizer, device):\n",
    "\n",
    "    model.train()\n",
    "    with open(file) as f:\n",
    "        data = json.load(f)\n",
    "\n",
    "    num_batches = len(data) // batch_size\n",
    "    all_losses = []\n",
    "    all_dists = []\n",
    "    for i in tqdm.tqdm(range(num_batches)):\n",
    "        batch = data[i*batch_size:(i+1)*batch_size]\n",
    "        m = torch.tensor([b['masses'] for b in batch], dtype=torch.float32).to(device)\n",
    "        pos0 = torch.tensor([b['pos'] for b in batch], dtype=torch.float32).to(device)\n",
    "        vel0 = torch.tensor([b['vel'] for b in batch], dtype=torch.float32).to(device)\n",
    "        pos1 = torch.tensor([b['pos_next1'] for b in batch], dtype=torch.float32).to(device)\n",
    "        pos2 = torch.tensor([b['pos_next2'] for b in batch], dtype=torch.float32).to(device)\n",
    "\n",
    "        optimizer.zero_grad()\n",
    "        losses = []\n",
    "        for j in range(len(batch)):\n",
    "            l = 0\n",
    "            sample_masses = m[j].unsqueeze(1)\n",
    "            sample_pos0 = pos0[j]\n",
    "            sample_vel0 = vel0[j]\n",
    "            sample_pos1 = pos1[j]\n",
    "            sample_pos2 = pos2[j]\n",
    "\n",
    "            pr_pos1, pr_vel1 = model(sample_pos0, sample_vel0, sample_masses)\n",
    "\n",
    "            loss1, dists1 = loss_fn(pr_pos1, sample_pos1, model.num_neighbors)\n",
    "\n",
    "            all_dists.append(dists1.item()*0.5)\n",
    "\n",
    "            l += 0.5*loss1\n",
    "\n",
    "            pr_pos2, pr_vel2 = model(pr_pos1, pr_vel1, sample_masses)\n",
    "\n",
    "            loss2, dists2 = loss_fn(pr_pos2, sample_pos2, model.num_neighbors)\n",
    "\n",
    "            all_dists.append(dists2.item()*0.5)\n",
    "\n",
    "            l += 0.5*loss2\n",
    "\n",
    "\n",
    "            losses.append(l)\n",
    "\n",
    "        total_loss = sum(losses) / len(batch)\n",
    "        all_losses.append(total_loss.item())\n",
    "        total_loss.backward()\n",
    "\n",
    "        optimizer.step()\n",
    "\n",
    "    print(f'Train Loss: {sum(all_losses)/len(all_losses)}, Train L2: {sum(all_dists)/len(all_dists)}')\n",
    "\n",
    "def train_epoch_memory(model, data, batch_size, loss_fn, optimizer, device, use_custom_loss=False):\n",
    "\n",
    "    model.train()\n",
    "\n",
    "    num_batches = len(data) // batch_size\n",
    "    all_losses = []\n",
    "    all_dists = []\n",
    "    for i in tqdm.tqdm(range(num_batches)):\n",
    "        batch = data[i*batch_size:(i+1)*batch_size]\n",
    "        m = torch.tensor([b['masses'] for b in batch], dtype=torch.float32).to(device)\n",
    "        pos0 = torch.tensor([b['pos'] for b in batch], dtype=torch.float32).to(device)\n",
    "        vel0 = torch.tensor([b['vel'] for b in batch], dtype=torch.float32).to(device)\n",
    "        acc0 = torch.tensor([b['acc'] for b in batch], dtype=torch.float32).to(device)\n",
    "        acc1 = torch.tensor([b['acc_next1'] for b in batch], dtype=torch.float32).to(device)\n",
    "        if use_custom_loss:\n",
    "            pos1 = torch.tensor([b['pos_next1'] for b in batch], dtype=torch.float32).to(device)\n",
    "            pos2 = torch.tensor([b['pos_next2'] for b in batch], dtype=torch.float32).to(device)\n",
    "        #acc2 = torch.tensor([b['acc_next2'] for b in batch], dtype=torch.float32).to(device)\n",
    "\n",
    "        optimizer.zero_grad()\n",
    "        losses = []\n",
    "        for j in range(len(batch)):\n",
    "            l = 0\n",
    "            sample_masses = m[j].unsqueeze(1)\n",
    "            sample_pos0 = pos0[j]\n",
    "            sample_vel0 = vel0[j]\n",
    "            sample_acc0 = acc0[j]\n",
    "            sample_acc1 = acc1[j]\n",
    "            if use_custom_loss:\n",
    "                sample_pos1 = pos1[j]\n",
    "                sample_pos2 = pos2[j]\n",
    "\n",
    "           \n",
    "\n",
    "            pr_acc0 = model(sample_pos0, sample_vel0, sample_masses)\n",
    "            pr_pos1, pr_vel1 = get_new_pos_vel(pr_acc0, sample_pos0, sample_vel0)\n",
    "\n",
    "            if use_custom_loss:\n",
    "                loss0, dists0 = loss_fn(pr_acc0, sample_acc0, model.num_neighbors, pr_pos1, sample_pos1)\n",
    "            else:\n",
    "                loss0 = torch.mean(euclidean_distance(pr_acc0, sample_acc0))\n",
    "                dists0 = loss0\n",
    "\n",
    "            all_dists.append(dists0)\n",
    "\n",
    "            l += loss0 * 0.5\n",
    "\n",
    "            \n",
    "\n",
    "            pr_acc1 = model(pr_pos1, pr_vel1, sample_masses)\n",
    "            pr_pos2, pr_vel2 = get_new_pos_vel(pr_acc1, pr_pos1, pr_vel1)\n",
    "\n",
    "            if use_custom_loss:\n",
    "                loss1, dists1 = loss_fn(pr_acc1, sample_acc1, model.num_neighbors, pr_pos2, sample_pos2)\n",
    "            else:\n",
    "                loss1 = torch.mean(euclidean_distance(pr_acc1, sample_acc1))\n",
    "                dists1 = loss1\n",
    "\n",
    "            all_dists.append(dists1.item())\n",
    "\n",
    "            l += loss1 * 0.5\n",
    "\n",
    "            #pr_pos2, pr_vel2 = get_new_pos_vel(pr_acc1, pr_pos1, pr_vel1)\n",
    "\n",
    "            #pr_acc2 = model(pr_pos2, pr_vel2, sample_masses)\n",
    "\n",
    "            #loss2, dists2 = loss_fn(pr_acc2, sample_acc2, model.num_neighbors)\n",
    "\n",
    "            #all_dists.append(dists2.item())\n",
    "\n",
    "            #l += loss2 * 0.2\n",
    "\n",
    "            losses.append(l)\n",
    "\n",
    "        total_loss = 64 * sum(losses) / len(batch)\n",
    "        all_losses.append(total_loss.item())\n",
    "        total_loss.backward()\n",
    "\n",
    "        optimizer.step()\n",
    "\n",
    "    print(f'Train Loss: {sum(all_losses)/len(all_losses)}, Train L2: {sum(all_dists)/len(all_dists)}')\n",
    "\n",
    "def train_epoch_memory_black_hole_info(model, data, batch_size, loss_fn, optimizer, device,use_custom_loss=False):\n",
    "    \n",
    "        model.train()\n",
    "    \n",
    "        num_batches = len(data) // batch_size\n",
    "        all_losses = []\n",
    "        all_dists = []\n",
    "        for i in tqdm.tqdm(range(num_batches)):\n",
    "            batch = data[i*batch_size:(i+1)*batch_size]\n",
    "            m = torch.tensor([b['masses'] for b in batch], dtype=torch.float32).to(device)\n",
    "            pos0 = torch.tensor([b['pos'] for b in batch], dtype=torch.float32).to(device)\n",
    "            vel0 = torch.tensor([b['vel'] for b in batch], dtype=torch.float32).to(device)\n",
    "            acc0 = torch.tensor([b['acc'] for b in batch], dtype=torch.float32).to(device)\n",
    "            acc1 = torch.tensor([b['acc_next1'] for b in batch], dtype=torch.float32).to(device)\n",
    "            #acc2 = torch.tensor([b['acc_next2'] for b in batch], dtype=torch.float32).to(device)\n",
    "            black_hole_indexes = torch.tensor(np.array([b['bh_index'] for b in batch]), dtype=torch.long)\n",
    "    \n",
    "            optimizer.zero_grad()\n",
    "            losses = []\n",
    "            for j in range(len(batch)):\n",
    "                l = 0\n",
    "                sample_masses = m[j].unsqueeze(1)\n",
    "                sample_pos0 = pos0[j]\n",
    "                sample_vel0 = vel0[j]\n",
    "                sample_acc0 = acc0[j]\n",
    "                sample_acc1 = acc1[j]\n",
    "                sample_pos0_bh = sample_pos0[black_hole_indexes[j]]\n",
    "                sample_vel0_bh = sample_vel0[black_hole_indexes[j]]\n",
    "                sample_masses_bh = sample_masses[black_hole_indexes[j]]\n",
    "    \n",
    "                pr_acc0 = model(sample_pos0, sample_vel0, sample_masses, sample_pos0_bh, sample_vel0_bh, sample_masses_bh)\n",
    "\n",
    "                if use_custom_loss:\n",
    "    \n",
    "                    loss0, dists0 = loss_fn(pr_acc0, sample_acc0, model.num_neighbors)\n",
    "\n",
    "                else:\n",
    "                    loss0 = torch.mean(euclidean_distance(pr_acc0, sample_acc0))\n",
    "                    dists0 = loss0\n",
    "    \n",
    "                all_dists.append(dists0.item())\n",
    "    \n",
    "                l += loss0 * 0.5\n",
    "    \n",
    "                pr_pos1, pr_vel1 = get_new_pos_vel(pr_acc0, sample_pos0, sample_vel0)\n",
    "    \n",
    "                pr_acc1 = model(pr_pos1, pr_vel1, sample_masses, pr_pos1[black_hole_indexes[j]], pr_vel1[black_hole_indexes[j]], sample_masses[black_hole_indexes[j]])\n",
    "\n",
    "                if use_custom_loss:\n",
    "                    loss1, dists1 = loss_fn(pr_acc1, sample_acc1, model.num_neighbors)\n",
    "\n",
    "                else:\n",
    "                    loss1 = torch.mean(euclidean_distance(pr_acc1, sample_acc1))\n",
    "                    dists1 = loss1\n",
    "    \n",
    "                all_dists.append(dists1.item())\n",
    "    \n",
    "                l += loss1 * 0.5\n",
    "    \n",
    "                #pr_pos2, pr_vel2 = get_new_pos_vel(pr_acc1,\n",
    "\n",
    "                #pr_acc2 = model(pr_pos2, pr_vel2, sample_masses)\n",
    "\n",
    "                #loss2, dists2 = loss_fn(pr_acc2, sample_acc2, model.num_neighbors)\n",
    "\n",
    "                #all_dists.append(dists2.item())\n",
    "\n",
    "                #l += loss2 * 0.2\n",
    "\n",
    "                losses.append(l)\n",
    "\n",
    "            total_loss = sum(losses) / len(batch)\n",
    "            all_losses.append(total_loss.item())\n",
    "            total_loss.backward()\n",
    "\n",
    "            optimizer.step()\n",
    "\n",
    "        print(f'Train Loss: {sum(all_losses)/len(all_losses)}, Train L2: {sum(all_dists)/len(all_dists)}')\n",
    "\n",
    "        \n",
    "\n",
    "def val(model, val_dir, batch_size, loss_fn, device):\n",
    "    files = os.listdir(val_dir)\n",
    "\n",
    "    model.eval()\n",
    "    with torch.no_grad():\n",
    "        all_losses = []\n",
    "        all_dists = []\n",
    "        for file in files:\n",
    "            with open(os.path.join(val_dir, file)) as f:\n",
    "                data = json.load(f)\n",
    "            m = [b['masses'] for b in data]\n",
    "            pos0 = [b['pos'] for b in data]\n",
    "            vel0 = [b['vel'] for b in data]\n",
    "            pos1 = [b['pos_next1'] for b in data]\n",
    "            pos2 = [b['pos_next2'] for b in data]\n",
    "\n",
    "            loss = 0\n",
    "            for j in range(len(data)):\n",
    "                sample_masses = torch.tensor(m[j], dtype=torch.float32).unsqueeze(1).to(device)\n",
    "                sample_pos0 = torch.tensor(pos0[j], dtype=torch.float32).to(device)\n",
    "                sample_vel0 = torch.tensor(vel0[j], dtype=torch.float32).to(device)\n",
    "                sample_pos1 = torch.tensor(pos1[j], dtype=torch.float32).to(device)\n",
    "                sample_pos2 = torch.tensor(pos2[j], dtype=torch.float32).to(device)\n",
    "\n",
    "\n",
    "                pr_pos1, pr_vel1 = model(sample_pos0, sample_vel0, sample_masses)\n",
    "\n",
    "                loss1, dist1 = loss_fn(pr_pos1, sample_pos1, model.num_neighbors)\n",
    "                loss += 0.5*loss1\n",
    "\n",
    "                all_dists.append(dist1.item())\n",
    "\n",
    "\n",
    "                pr_pos2, _ = model(pr_pos1, pr_vel1, sample_masses)\n",
    "                loss2, dist2 = loss_fn(pr_pos2, sample_pos2, model.num_neighbors)\n",
    "                loss += 0.5*loss2\n",
    "\n",
    "                all_dists.append(dist2.item())\n",
    "\n",
    "\n",
    "            loss = loss / len(data)\n",
    "            all_losses.append(loss.item())\n",
    "\n",
    "            # clear memory\n",
    "            del sample_masses\n",
    "            del sample_pos0\n",
    "            del sample_vel0\n",
    "            del sample_pos1\n",
    "            del sample_pos2\n",
    "            del pr_pos1\n",
    "            del pr_vel1\n",
    "            del pr_pos2\n",
    "            torch.cuda.empty_cache()\n",
    "            \n",
    "\n",
    "\n",
    "        print(f'Val Loss: {sum(all_losses)/len(all_losses)}, Val L2: {sum(all_dists)/len(all_dists)}')\n",
    "\n",
    "\n",
    "            "
   ]
  },
  {
   "cell_type": "code",
   "execution_count": 6,
   "metadata": {},
   "outputs": [],
   "source": [
    "def train(model, train_dir, val_dir, batch_size, loss_fn, optimizer, num_epochs, weights_dir=None, device='cuda', eval=True):\n",
    "\n",
    "    model.to(device)\n",
    "\n",
    "    if weights_dir is not None:\n",
    "        weight_paths = os.listdir(weights_dir)\n",
    "        weight_paths.sort()\n",
    "        try:\n",
    "            model.load_state_dict(torch.load(os.path.join(weights_dir, weight_paths[-1])))\n",
    "            last_model = int(weight_paths[-1].split('_')[1].split('.')[0])\n",
    "            last_model += 1\n",
    "        except:\n",
    "            last_model = 0\n",
    "    \n",
    "    train_files = os.listdir(train_dir)\n",
    "    for epoch in range(num_epochs):\n",
    "        print(f'Epoch {epoch}')\n",
    "        for t_file in train_files:\n",
    "            full_path = os.path.join(train_dir, t_file)\n",
    "            train_epoch(model, full_path, batch_size, loss_fn, optimizer, device)\n",
    "\n",
    "        if eval:\n",
    "            val(model, val_dir, batch_size, loss_fn, device)\n",
    "\n",
    "    torch.save(model.state_dict(), f'./models/model_{last_model}.pt')\n",
    "\n",
    "    return model\n",
    "\n",
    "def train_memory(model, train_data, val_dir, batch_size, loss_fn, optimizer, num_epochs, weights_dir=None, device='cuda', eval=True, use_custom_loss=False):\n",
    "    \n",
    "        model.to(device)\n",
    "    \n",
    "        if weights_dir is not None:\n",
    "            weight_paths = os.listdir(weights_dir)\n",
    "            weight_paths.sort(key=lambda x: int(x.split('_')[1].split('.')[0]))\n",
    "            try:\n",
    "                model.load_state_dict(torch.load(os.path.join(weights_dir, weight_paths[-1])))\n",
    "                print(f'Loaded weights from {weight_paths[-1]}')\n",
    "                last_model = int(weight_paths[-1].split('_')[1].split('.')[0])\n",
    "                last_model += 1\n",
    "            except:\n",
    "                last_model = 0\n",
    "        \n",
    "        for epoch in range(num_epochs):\n",
    "            print(f'Epoch {epoch}')\n",
    "            train_epoch_memory(model, train_data, batch_size, loss_fn, optimizer, device, use_custom_loss)\n",
    "    \n",
    "            if eval:\n",
    "                val(model, val_dir, batch_size, loss_fn, device)\n",
    "    \n",
    "        torch.save(model.state_dict(), f'./models/model_{last_model}.pt')\n",
    "    \n",
    "        return model\n",
    "\n",
    "def train_memory_black_hole_info(model, train_data, val_dir, batch_size, loss_fn, optimizer, num_epochs, weights_dir=None, device='cuda', eval=True, use_custom_loss=False):\n",
    "        \n",
    "            model.to(device)\n",
    "        \n",
    "            if weights_dir is not None:\n",
    "                weight_paths = os.listdir(weights_dir)\n",
    "                weight_paths.sort(key=lambda x: int(x.split('_')[1].split('.')[0]))\n",
    "                try:\n",
    "                    model.load_state_dict(torch.load(os.path.join(weights_dir, weight_paths[-1])))\n",
    "                    print(f'Loaded weights from {weight_paths[-1]}')\n",
    "                    last_model = int(weight_paths[-1].split('_')[1].split('.')[0])\n",
    "                    last_model += 1\n",
    "                except:\n",
    "                    last_model = 0\n",
    "            \n",
    "            for epoch in range(num_epochs):\n",
    "                print(f'Epoch {epoch}')\n",
    "                train_epoch_memory_black_hole_info(model, train_data, batch_size, loss_fn, optimizer, device, use_custom_loss)\n",
    "        \n",
    "                if eval:\n",
    "                    val(model, val_dir, batch_size, loss_fn, device)\n",
    "        \n",
    "            torch.save(model.state_dict(), f'./modelsbh/model_{last_model}.pt')\n",
    "        \n",
    "            return model"
   ]
  },
  {
   "cell_type": "code",
   "execution_count": 7,
   "metadata": {},
   "outputs": [],
   "source": [
    "# clear cuda cache\n",
    "\n",
    "torch.cuda.empty_cache()"
   ]
  },
  {
   "cell_type": "code",
   "execution_count": 8,
   "metadata": {},
   "outputs": [
    {
     "name": "stdout",
     "output_type": "stream",
     "text": [
      "Adjusting learning rate of group 0 to 1.0000e-03.\n",
      "Generating dataset with 25 scenes...\n"
     ]
    },
    {
     "name": "stderr",
     "output_type": "stream",
     "text": [
      "  0%|          | 0/25 [00:00<?, ?it/s]"
     ]
    },
    {
     "name": "stderr",
     "output_type": "stream",
     "text": [
      "100%|██████████| 25/25 [06:22<00:00, 15.29s/it]\n"
     ]
    },
    {
     "name": "stdout",
     "output_type": "stream",
     "text": [
      "Loaded weights from model_6.pt\n",
      "Epoch 0\n"
     ]
    },
    {
     "name": "stderr",
     "output_type": "stream",
     "text": [
      "100%|██████████| 389/389 [06:54<00:00,  1.07s/it]\n"
     ]
    },
    {
     "name": "stdout",
     "output_type": "stream",
     "text": [
      "Train Loss: 26.175111755920252, Train L2: 1.2557165622711182\n",
      "Adjusting learning rate of group 0 to 7.0000e-04.\n",
      "Generating dataset with 25 scenes...\n"
     ]
    },
    {
     "name": "stderr",
     "output_type": "stream",
     "text": [
      "100%|██████████| 25/25 [06:00<00:00, 14.41s/it]\n"
     ]
    },
    {
     "name": "stdout",
     "output_type": "stream",
     "text": [
      "Loaded weights from model_7.pt\n",
      "Epoch 0\n"
     ]
    },
    {
     "name": "stderr",
     "output_type": "stream",
     "text": [
      "100%|██████████| 389/389 [06:38<00:00,  1.02s/it]\n"
     ]
    },
    {
     "name": "stdout",
     "output_type": "stream",
     "text": [
      "Train Loss: 23.87988822564368, Train L2: 1.1771546602249146\n",
      "Generating dataset with 25 scenes...\n"
     ]
    },
    {
     "name": "stderr",
     "output_type": "stream",
     "text": [
      "100%|██████████| 25/25 [06:06<00:00, 14.65s/it]\n"
     ]
    },
    {
     "name": "stdout",
     "output_type": "stream",
     "text": [
      "Loaded weights from model_8.pt\n",
      "Epoch 0\n"
     ]
    },
    {
     "name": "stderr",
     "output_type": "stream",
     "text": [
      "100%|██████████| 389/389 [06:57<00:00,  1.07s/it]\n"
     ]
    },
    {
     "name": "stdout",
     "output_type": "stream",
     "text": [
      "Train Loss: 27.791678195747433, Train L2: 1.3150672912597656\n",
      "Generating dataset with 25 scenes...\n"
     ]
    },
    {
     "name": "stderr",
     "output_type": "stream",
     "text": [
      "100%|██████████| 25/25 [05:57<00:00, 14.31s/it]\n"
     ]
    },
    {
     "name": "stdout",
     "output_type": "stream",
     "text": [
      "Loaded weights from model_9.pt\n",
      "Epoch 0\n"
     ]
    },
    {
     "name": "stderr",
     "output_type": "stream",
     "text": [
      "100%|██████████| 389/389 [06:44<00:00,  1.04s/it]\n"
     ]
    },
    {
     "name": "stdout",
     "output_type": "stream",
     "text": [
      "Train Loss: 23.65862972387005, Train L2: 1.1502450704574585\n",
      "Generating dataset with 25 scenes...\n"
     ]
    },
    {
     "name": "stderr",
     "output_type": "stream",
     "text": [
      "100%|██████████| 25/25 [06:01<00:00, 14.45s/it]\n"
     ]
    },
    {
     "name": "stdout",
     "output_type": "stream",
     "text": [
      "Loaded weights from model_10.pt\n",
      "Epoch 0\n"
     ]
    },
    {
     "name": "stderr",
     "output_type": "stream",
     "text": [
      "100%|██████████| 389/389 [06:59<00:00,  1.08s/it]\n"
     ]
    },
    {
     "name": "stdout",
     "output_type": "stream",
     "text": [
      "Train Loss: 25.859502238295686, Train L2: 1.2504315376281738\n",
      "Generating dataset with 25 scenes...\n"
     ]
    },
    {
     "name": "stderr",
     "output_type": "stream",
     "text": [
      "100%|██████████| 25/25 [06:02<00:00, 14.51s/it]\n"
     ]
    },
    {
     "name": "stdout",
     "output_type": "stream",
     "text": [
      "Loaded weights from model_11.pt\n",
      "Epoch 0\n"
     ]
    },
    {
     "name": "stderr",
     "output_type": "stream",
     "text": [
      "100%|██████████| 389/389 [06:56<00:00,  1.07s/it]\n"
     ]
    },
    {
     "name": "stdout",
     "output_type": "stream",
     "text": [
      "Train Loss: 25.47246709397029, Train L2: 1.1412330865859985\n",
      "Adjusting learning rate of group 0 to 4.9000e-04.\n",
      "Generating dataset with 25 scenes...\n"
     ]
    },
    {
     "name": "stderr",
     "output_type": "stream",
     "text": [
      "100%|██████████| 25/25 [05:59<00:00, 14.37s/it]\n"
     ]
    },
    {
     "name": "stdout",
     "output_type": "stream",
     "text": [
      "Loaded weights from model_12.pt\n",
      "Epoch 0\n"
     ]
    },
    {
     "name": "stderr",
     "output_type": "stream",
     "text": [
      "100%|██████████| 389/389 [06:45<00:00,  1.04s/it]\n"
     ]
    },
    {
     "name": "stdout",
     "output_type": "stream",
     "text": [
      "Train Loss: 23.735741720714422, Train L2: 1.1494419574737549\n",
      "Generating dataset with 25 scenes...\n"
     ]
    },
    {
     "name": "stderr",
     "output_type": "stream",
     "text": [
      "100%|██████████| 25/25 [06:02<00:00, 14.50s/it]\n"
     ]
    },
    {
     "name": "stdout",
     "output_type": "stream",
     "text": [
      "Loaded weights from model_13.pt\n",
      "Epoch 0\n"
     ]
    },
    {
     "name": "stderr",
     "output_type": "stream",
     "text": [
      "100%|██████████| 389/389 [06:51<00:00,  1.06s/it]\n"
     ]
    },
    {
     "name": "stdout",
     "output_type": "stream",
     "text": [
      "Train Loss: 23.699333681238954, Train L2: 1.1125510931015015\n",
      "Generating dataset with 25 scenes...\n"
     ]
    },
    {
     "name": "stderr",
     "output_type": "stream",
     "text": [
      "100%|██████████| 25/25 [07:10<00:00, 17.23s/it]\n"
     ]
    },
    {
     "name": "stdout",
     "output_type": "stream",
     "text": [
      "Loaded weights from model_14.pt\n",
      "Epoch 0\n"
     ]
    },
    {
     "name": "stderr",
     "output_type": "stream",
     "text": [
      "100%|██████████| 389/389 [06:47<00:00,  1.05s/it]\n"
     ]
    },
    {
     "name": "stdout",
     "output_type": "stream",
     "text": [
      "Train Loss: 23.317258648516894, Train L2: 1.0810562372207642\n",
      "Generating dataset with 25 scenes...\n"
     ]
    },
    {
     "name": "stderr",
     "output_type": "stream",
     "text": [
      "100%|██████████| 25/25 [07:13<00:00, 17.33s/it]\n"
     ]
    },
    {
     "name": "stdout",
     "output_type": "stream",
     "text": [
      "Loaded weights from model_15.pt\n",
      "Epoch 0\n"
     ]
    },
    {
     "name": "stderr",
     "output_type": "stream",
     "text": [
      "100%|██████████| 389/389 [06:52<00:00,  1.06s/it]\n"
     ]
    },
    {
     "name": "stdout",
     "output_type": "stream",
     "text": [
      "Train Loss: 23.59692185703464, Train L2: 1.043887972831726\n",
      "Generating dataset with 25 scenes...\n"
     ]
    },
    {
     "name": "stderr",
     "output_type": "stream",
     "text": [
      "100%|██████████| 25/25 [07:13<00:00, 17.33s/it]\n"
     ]
    },
    {
     "name": "stdout",
     "output_type": "stream",
     "text": [
      "Loaded weights from model_16.pt\n",
      "Epoch 0\n"
     ]
    },
    {
     "name": "stderr",
     "output_type": "stream",
     "text": [
      "100%|██████████| 389/389 [06:49<00:00,  1.05s/it]\n"
     ]
    },
    {
     "name": "stdout",
     "output_type": "stream",
     "text": [
      "Train Loss: 22.92708967645248, Train L2: 1.054594874382019\n",
      "Adjusting learning rate of group 0 to 3.4300e-04.\n",
      "Generating dataset with 25 scenes...\n"
     ]
    },
    {
     "name": "stderr",
     "output_type": "stream",
     "text": [
      "100%|██████████| 25/25 [07:06<00:00, 17.07s/it]\n"
     ]
    },
    {
     "name": "stdout",
     "output_type": "stream",
     "text": [
      "Loaded weights from model_17.pt\n",
      "Epoch 0\n"
     ]
    },
    {
     "name": "stderr",
     "output_type": "stream",
     "text": [
      "100%|██████████| 389/389 [06:52<00:00,  1.06s/it]\n"
     ]
    },
    {
     "name": "stdout",
     "output_type": "stream",
     "text": [
      "Train Loss: 24.68969833452475, Train L2: 1.1208006143569946\n",
      "Generating dataset with 25 scenes...\n"
     ]
    },
    {
     "name": "stderr",
     "output_type": "stream",
     "text": [
      "100%|██████████| 25/25 [07:11<00:00, 17.28s/it]\n"
     ]
    },
    {
     "name": "stdout",
     "output_type": "stream",
     "text": [
      "Loaded weights from model_18.pt\n",
      "Epoch 0\n"
     ]
    },
    {
     "name": "stderr",
     "output_type": "stream",
     "text": [
      "100%|██████████| 389/389 [06:53<00:00,  1.06s/it]\n"
     ]
    },
    {
     "name": "stdout",
     "output_type": "stream",
     "text": [
      "Train Loss: 24.26265456192291, Train L2: 1.1171727180480957\n",
      "Generating dataset with 25 scenes...\n"
     ]
    },
    {
     "name": "stderr",
     "output_type": "stream",
     "text": [
      "100%|██████████| 25/25 [05:59<00:00, 14.37s/it]\n"
     ]
    },
    {
     "name": "stdout",
     "output_type": "stream",
     "text": [
      "Loaded weights from model_19.pt\n",
      "Epoch 0\n"
     ]
    },
    {
     "name": "stderr",
     "output_type": "stream",
     "text": [
      "100%|██████████| 389/389 [06:45<00:00,  1.04s/it]\n"
     ]
    },
    {
     "name": "stdout",
     "output_type": "stream",
     "text": [
      "Train Loss: 23.439054332233027, Train L2: 1.0519728660583496\n",
      "Generating dataset with 25 scenes...\n"
     ]
    },
    {
     "name": "stderr",
     "output_type": "stream",
     "text": [
      "100%|██████████| 25/25 [05:59<00:00, 14.38s/it]\n"
     ]
    },
    {
     "name": "stdout",
     "output_type": "stream",
     "text": [
      "Loaded weights from model_20.pt\n",
      "Epoch 0\n"
     ]
    },
    {
     "name": "stderr",
     "output_type": "stream",
     "text": [
      "100%|██████████| 389/389 [06:37<00:00,  1.02s/it]\n"
     ]
    },
    {
     "name": "stdout",
     "output_type": "stream",
     "text": [
      "Train Loss: 21.767386301624132, Train L2: 0.9704540967941284\n",
      "Generating dataset with 25 scenes...\n"
     ]
    },
    {
     "name": "stderr",
     "output_type": "stream",
     "text": [
      "100%|██████████| 25/25 [06:05<00:00, 14.60s/it]\n"
     ]
    },
    {
     "name": "stdout",
     "output_type": "stream",
     "text": [
      "Loaded weights from model_21.pt\n",
      "Epoch 0\n"
     ]
    },
    {
     "name": "stderr",
     "output_type": "stream",
     "text": [
      "100%|██████████| 389/389 [06:51<00:00,  1.06s/it]\n"
     ]
    },
    {
     "name": "stdout",
     "output_type": "stream",
     "text": [
      "Train Loss: 23.38499410477273, Train L2: 1.0275403261184692\n",
      "Adjusting learning rate of group 0 to 2.4010e-04.\n",
      "Generating dataset with 25 scenes...\n"
     ]
    },
    {
     "name": "stderr",
     "output_type": "stream",
     "text": [
      "100%|██████████| 25/25 [07:08<00:00, 17.16s/it]\n"
     ]
    },
    {
     "name": "stdout",
     "output_type": "stream",
     "text": [
      "Loaded weights from model_22.pt\n",
      "Epoch 0\n"
     ]
    },
    {
     "name": "stderr",
     "output_type": "stream",
     "text": [
      "100%|██████████| 389/389 [06:53<00:00,  1.06s/it]\n"
     ]
    },
    {
     "name": "stdout",
     "output_type": "stream",
     "text": [
      "Train Loss: 22.97784591027581, Train L2: 1.056542992591858\n",
      "Generating dataset with 25 scenes...\n"
     ]
    },
    {
     "name": "stderr",
     "output_type": "stream",
     "text": [
      "100%|██████████| 25/25 [07:05<00:00, 17.03s/it]\n"
     ]
    },
    {
     "name": "stdout",
     "output_type": "stream",
     "text": [
      "Loaded weights from model_23.pt\n",
      "Epoch 0\n"
     ]
    },
    {
     "name": "stderr",
     "output_type": "stream",
     "text": [
      "100%|██████████| 389/389 [06:46<00:00,  1.04s/it]\n"
     ]
    },
    {
     "name": "stdout",
     "output_type": "stream",
     "text": [
      "Train Loss: 20.41898385908426, Train L2: 0.9251740574836731\n",
      "Generating dataset with 25 scenes...\n"
     ]
    },
    {
     "name": "stderr",
     "output_type": "stream",
     "text": [
      "100%|██████████| 25/25 [06:00<00:00, 14.43s/it]\n"
     ]
    },
    {
     "name": "stdout",
     "output_type": "stream",
     "text": [
      "Loaded weights from model_24.pt\n",
      "Epoch 0\n"
     ]
    },
    {
     "name": "stderr",
     "output_type": "stream",
     "text": [
      "100%|██████████| 389/389 [06:57<00:00,  1.07s/it]\n"
     ]
    },
    {
     "name": "stdout",
     "output_type": "stream",
     "text": [
      "Train Loss: 23.825658352025677, Train L2: 1.0740584135055542\n",
      "Generating dataset with 25 scenes...\n"
     ]
    },
    {
     "name": "stderr",
     "output_type": "stream",
     "text": [
      "100%|██████████| 25/25 [06:00<00:00, 14.42s/it]\n"
     ]
    },
    {
     "name": "stdout",
     "output_type": "stream",
     "text": [
      "Loaded weights from model_25.pt\n",
      "Epoch 0\n"
     ]
    },
    {
     "name": "stderr",
     "output_type": "stream",
     "text": [
      "100%|██████████| 389/389 [06:46<00:00,  1.04s/it]\n"
     ]
    },
    {
     "name": "stdout",
     "output_type": "stream",
     "text": [
      "Train Loss: 22.642220416228383, Train L2: 0.9703188538551331\n",
      "Generating dataset with 25 scenes...\n"
     ]
    },
    {
     "name": "stderr",
     "output_type": "stream",
     "text": [
      "100%|██████████| 25/25 [06:02<00:00, 14.49s/it]\n"
     ]
    },
    {
     "name": "stdout",
     "output_type": "stream",
     "text": [
      "Loaded weights from model_26.pt\n",
      "Epoch 0\n"
     ]
    },
    {
     "name": "stderr",
     "output_type": "stream",
     "text": [
      "100%|██████████| 389/389 [06:56<00:00,  1.07s/it]\n"
     ]
    },
    {
     "name": "stdout",
     "output_type": "stream",
     "text": [
      "Train Loss: 22.397291006956124, Train L2: 0.9734132289886475\n",
      "Adjusting learning rate of group 0 to 1.6807e-04.\n",
      "Generating dataset with 25 scenes...\n"
     ]
    },
    {
     "name": "stderr",
     "output_type": "stream",
     "text": [
      "100%|██████████| 25/25 [06:06<00:00, 14.66s/it]\n"
     ]
    },
    {
     "name": "stdout",
     "output_type": "stream",
     "text": [
      "Loaded weights from model_27.pt\n",
      "Epoch 0\n"
     ]
    },
    {
     "name": "stderr",
     "output_type": "stream",
     "text": [
      "100%|██████████| 389/389 [06:53<00:00,  1.06s/it]\n"
     ]
    },
    {
     "name": "stdout",
     "output_type": "stream",
     "text": [
      "Train Loss: 24.645934985045603, Train L2: 1.1168736219406128\n",
      "Generating dataset with 25 scenes...\n"
     ]
    },
    {
     "name": "stderr",
     "output_type": "stream",
     "text": [
      "100%|██████████| 25/25 [05:56<00:00, 14.27s/it]\n"
     ]
    },
    {
     "name": "stdout",
     "output_type": "stream",
     "text": [
      "Loaded weights from model_28.pt\n",
      "Epoch 0\n"
     ]
    },
    {
     "name": "stderr",
     "output_type": "stream",
     "text": [
      "100%|██████████| 389/389 [06:43<00:00,  1.04s/it]\n"
     ]
    },
    {
     "name": "stdout",
     "output_type": "stream",
     "text": [
      "Train Loss: 22.025538584260524, Train L2: 0.9367703199386597\n",
      "Generating dataset with 25 scenes...\n"
     ]
    },
    {
     "name": "stderr",
     "output_type": "stream",
     "text": [
      "100%|██████████| 25/25 [06:02<00:00, 14.49s/it]\n"
     ]
    },
    {
     "name": "stdout",
     "output_type": "stream",
     "text": [
      "Loaded weights from model_29.pt\n",
      "Epoch 0\n"
     ]
    },
    {
     "name": "stderr",
     "output_type": "stream",
     "text": [
      "100%|██████████| 389/389 [06:51<00:00,  1.06s/it]\n"
     ]
    },
    {
     "name": "stdout",
     "output_type": "stream",
     "text": [
      "Train Loss: 21.168042151051498, Train L2: 0.8852216005325317\n",
      "Generating dataset with 25 scenes...\n"
     ]
    },
    {
     "name": "stderr",
     "output_type": "stream",
     "text": [
      "100%|██████████| 25/25 [05:54<00:00, 14.18s/it]\n"
     ]
    },
    {
     "name": "stdout",
     "output_type": "stream",
     "text": [
      "Loaded weights from model_30.pt\n",
      "Epoch 0\n"
     ]
    },
    {
     "name": "stderr",
     "output_type": "stream",
     "text": [
      "100%|██████████| 389/389 [06:49<00:00,  1.05s/it]\n"
     ]
    },
    {
     "name": "stdout",
     "output_type": "stream",
     "text": [
      "Train Loss: 21.615131689527654, Train L2: 0.9396917819976807\n",
      "Generating dataset with 25 scenes...\n"
     ]
    },
    {
     "name": "stderr",
     "output_type": "stream",
     "text": [
      "100%|██████████| 25/25 [05:56<00:00, 14.26s/it]\n"
     ]
    },
    {
     "name": "stdout",
     "output_type": "stream",
     "text": [
      "Loaded weights from model_31.pt\n",
      "Epoch 0\n"
     ]
    },
    {
     "name": "stderr",
     "output_type": "stream",
     "text": [
      "100%|██████████| 389/389 [06:58<00:00,  1.07s/it]\n"
     ]
    },
    {
     "name": "stdout",
     "output_type": "stream",
     "text": [
      "Train Loss: 25.080363045621347, Train L2: 1.1189464330673218\n",
      "Adjusting learning rate of group 0 to 1.1765e-04.\n",
      "Generating dataset with 25 scenes...\n"
     ]
    },
    {
     "name": "stderr",
     "output_type": "stream",
     "text": [
      "100%|██████████| 25/25 [05:56<00:00, 14.28s/it]\n"
     ]
    },
    {
     "name": "stdout",
     "output_type": "stream",
     "text": [
      "Loaded weights from model_32.pt\n",
      "Epoch 0\n"
     ]
    },
    {
     "name": "stderr",
     "output_type": "stream",
     "text": [
      "100%|██████████| 389/389 [06:48<00:00,  1.05s/it]\n"
     ]
    },
    {
     "name": "stdout",
     "output_type": "stream",
     "text": [
      "Train Loss: 24.169333730074925, Train L2: 1.003359317779541\n",
      "Generating dataset with 25 scenes...\n"
     ]
    },
    {
     "name": "stderr",
     "output_type": "stream",
     "text": [
      "100%|██████████| 25/25 [05:56<00:00, 14.27s/it]\n"
     ]
    },
    {
     "name": "stdout",
     "output_type": "stream",
     "text": [
      "Loaded weights from model_33.pt\n",
      "Epoch 0\n"
     ]
    },
    {
     "name": "stderr",
     "output_type": "stream",
     "text": [
      "100%|██████████| 389/389 [06:44<00:00,  1.04s/it]\n"
     ]
    },
    {
     "name": "stdout",
     "output_type": "stream",
     "text": [
      "Train Loss: 21.809192667277124, Train L2: 0.926364541053772\n",
      "Generating dataset with 25 scenes...\n"
     ]
    },
    {
     "name": "stderr",
     "output_type": "stream",
     "text": [
      "100%|██████████| 25/25 [05:58<00:00, 14.33s/it]\n"
     ]
    },
    {
     "name": "stdout",
     "output_type": "stream",
     "text": [
      "Loaded weights from model_34.pt\n",
      "Epoch 0\n"
     ]
    },
    {
     "name": "stderr",
     "output_type": "stream",
     "text": [
      "100%|██████████| 389/389 [06:57<00:00,  1.07s/it]\n"
     ]
    },
    {
     "name": "stdout",
     "output_type": "stream",
     "text": [
      "Train Loss: 22.94473246008081, Train L2: 0.9450706839561462\n",
      "Generating dataset with 25 scenes...\n"
     ]
    },
    {
     "name": "stderr",
     "output_type": "stream",
     "text": [
      "100%|██████████| 25/25 [05:58<00:00, 14.32s/it]\n"
     ]
    },
    {
     "name": "stdout",
     "output_type": "stream",
     "text": [
      "Loaded weights from model_35.pt\n",
      "Epoch 0\n"
     ]
    },
    {
     "name": "stderr",
     "output_type": "stream",
     "text": [
      "100%|██████████| 389/389 [06:50<00:00,  1.06s/it]\n"
     ]
    },
    {
     "name": "stdout",
     "output_type": "stream",
     "text": [
      "Train Loss: 22.35299638488299, Train L2: 0.9176115393638611\n",
      "Generating dataset with 25 scenes...\n"
     ]
    },
    {
     "name": "stderr",
     "output_type": "stream",
     "text": [
      "100%|██████████| 25/25 [05:59<00:00, 14.40s/it]\n"
     ]
    },
    {
     "name": "stdout",
     "output_type": "stream",
     "text": [
      "Loaded weights from model_36.pt\n",
      "Epoch 0\n"
     ]
    },
    {
     "name": "stderr",
     "output_type": "stream",
     "text": [
      "100%|██████████| 389/389 [06:54<00:00,  1.06s/it]\n"
     ]
    },
    {
     "name": "stdout",
     "output_type": "stream",
     "text": [
      "Train Loss: 21.514200313538694, Train L2: 0.8935184478759766\n",
      "Adjusting learning rate of group 0 to 8.2354e-05.\n",
      "Generating dataset with 25 scenes...\n"
     ]
    },
    {
     "name": "stderr",
     "output_type": "stream",
     "text": [
      "100%|██████████| 25/25 [05:59<00:00, 14.37s/it]\n"
     ]
    },
    {
     "name": "stdout",
     "output_type": "stream",
     "text": [
      "Loaded weights from model_37.pt\n",
      "Epoch 0\n"
     ]
    },
    {
     "name": "stderr",
     "output_type": "stream",
     "text": [
      "100%|██████████| 389/389 [06:56<00:00,  1.07s/it]\n"
     ]
    },
    {
     "name": "stdout",
     "output_type": "stream",
     "text": [
      "Train Loss: 23.88959942991752, Train L2: 1.0756733417510986\n",
      "Generating dataset with 25 scenes...\n"
     ]
    },
    {
     "name": "stderr",
     "output_type": "stream",
     "text": [
      "100%|██████████| 25/25 [05:54<00:00, 14.19s/it]\n"
     ]
    },
    {
     "name": "stdout",
     "output_type": "stream",
     "text": [
      "Loaded weights from model_38.pt\n",
      "Epoch 0\n"
     ]
    },
    {
     "name": "stderr",
     "output_type": "stream",
     "text": [
      "100%|██████████| 389/389 [07:01<00:00,  1.08s/it]\n"
     ]
    },
    {
     "name": "stdout",
     "output_type": "stream",
     "text": [
      "Train Loss: 24.21579461968037, Train L2: 1.032889485359192\n",
      "Generating dataset with 25 scenes...\n"
     ]
    },
    {
     "name": "stderr",
     "output_type": "stream",
     "text": [
      "100%|██████████| 25/25 [05:56<00:00, 14.25s/it]\n"
     ]
    },
    {
     "name": "stdout",
     "output_type": "stream",
     "text": [
      "Loaded weights from model_39.pt\n",
      "Epoch 0\n"
     ]
    },
    {
     "name": "stderr",
     "output_type": "stream",
     "text": [
      "100%|██████████| 389/389 [06:53<00:00,  1.06s/it]\n"
     ]
    },
    {
     "name": "stdout",
     "output_type": "stream",
     "text": [
      "Train Loss: 22.806940696539794, Train L2: 0.9270835518836975\n",
      "Generating dataset with 25 scenes...\n"
     ]
    },
    {
     "name": "stderr",
     "output_type": "stream",
     "text": [
      "100%|██████████| 25/25 [06:01<00:00, 14.47s/it]\n"
     ]
    },
    {
     "name": "stdout",
     "output_type": "stream",
     "text": [
      "Loaded weights from model_40.pt\n",
      "Epoch 0\n"
     ]
    },
    {
     "name": "stderr",
     "output_type": "stream",
     "text": [
      "100%|██████████| 389/389 [07:00<00:00,  1.08s/it]\n"
     ]
    },
    {
     "name": "stdout",
     "output_type": "stream",
     "text": [
      "Train Loss: 23.440120299861487, Train L2: 1.0079116821289062\n",
      "Generating dataset with 25 scenes...\n"
     ]
    },
    {
     "name": "stderr",
     "output_type": "stream",
     "text": [
      "100%|██████████| 25/25 [06:01<00:00, 14.44s/it]\n"
     ]
    },
    {
     "name": "stdout",
     "output_type": "stream",
     "text": [
      "Loaded weights from model_41.pt\n",
      "Epoch 0\n"
     ]
    },
    {
     "name": "stderr",
     "output_type": "stream",
     "text": [
      "100%|██████████| 389/389 [06:50<00:00,  1.06s/it]\n"
     ]
    },
    {
     "name": "stdout",
     "output_type": "stream",
     "text": [
      "Train Loss: 21.769327202921968, Train L2: 0.9063311815261841\n",
      "Adjusting learning rate of group 0 to 5.7648e-05.\n",
      "Generating dataset with 25 scenes...\n"
     ]
    },
    {
     "name": "stderr",
     "output_type": "stream",
     "text": [
      "100%|██████████| 25/25 [05:59<00:00, 14.37s/it]\n"
     ]
    },
    {
     "name": "stdout",
     "output_type": "stream",
     "text": [
      "Loaded weights from model_42.pt\n",
      "Epoch 0\n"
     ]
    },
    {
     "name": "stderr",
     "output_type": "stream",
     "text": [
      "100%|██████████| 389/389 [06:43<00:00,  1.04s/it]\n"
     ]
    },
    {
     "name": "stdout",
     "output_type": "stream",
     "text": [
      "Train Loss: 19.98553610460924, Train L2: 0.8556334972381592\n",
      "Generating dataset with 25 scenes...\n"
     ]
    },
    {
     "name": "stderr",
     "output_type": "stream",
     "text": [
      "100%|██████████| 25/25 [05:55<00:00, 14.23s/it]\n"
     ]
    },
    {
     "name": "stdout",
     "output_type": "stream",
     "text": [
      "Loaded weights from model_43.pt\n",
      "Epoch 0\n"
     ]
    },
    {
     "name": "stderr",
     "output_type": "stream",
     "text": [
      "100%|██████████| 389/389 [06:45<00:00,  1.04s/it]\n"
     ]
    },
    {
     "name": "stdout",
     "output_type": "stream",
     "text": [
      "Train Loss: 21.520572020033025, Train L2: 0.904503345489502\n",
      "Generating dataset with 25 scenes...\n"
     ]
    },
    {
     "name": "stderr",
     "output_type": "stream",
     "text": [
      "100%|██████████| 25/25 [05:57<00:00, 14.31s/it]\n"
     ]
    },
    {
     "name": "stdout",
     "output_type": "stream",
     "text": [
      "Loaded weights from model_44.pt\n",
      "Epoch 0\n"
     ]
    },
    {
     "name": "stderr",
     "output_type": "stream",
     "text": [
      "100%|██████████| 389/389 [06:57<00:00,  1.07s/it]\n"
     ]
    },
    {
     "name": "stdout",
     "output_type": "stream",
     "text": [
      "Train Loss: 24.8705400795434, Train L2: 1.0444378852844238\n",
      "Generating dataset with 25 scenes...\n"
     ]
    },
    {
     "name": "stderr",
     "output_type": "stream",
     "text": [
      "100%|██████████| 25/25 [05:55<00:00, 14.21s/it]\n"
     ]
    },
    {
     "name": "stdout",
     "output_type": "stream",
     "text": [
      "Loaded weights from model_45.pt\n",
      "Epoch 0\n"
     ]
    },
    {
     "name": "stderr",
     "output_type": "stream",
     "text": [
      "100%|██████████| 389/389 [06:45<00:00,  1.04s/it]\n"
     ]
    },
    {
     "name": "stdout",
     "output_type": "stream",
     "text": [
      "Train Loss: 19.359581989003942, Train L2: 0.742699146270752\n"
     ]
    }
   ],
   "source": [
    "\n",
    "model_files = os.listdir('./models/')\n",
    "model_files.sort(key=lambda x: int(x.split('_')[1].split('.')[0]))\n",
    "try:\n",
    "    last_model_id = model_files[-1].split('_')[1].split('.')[0]\n",
    "except IndexError:\n",
    "    last_model_id = -1\n",
    "last_model_id = int(last_model_id)\n",
    "\n",
    "model = KwisatzHaderach(activation=True, layer_channels=[64, 64, 64, 3], calc_neighbors=True)\n",
    "\n",
    "\n",
    "\n",
    "optimizer = torch.optim.Adam(model.parameters(), lr=1e-3)\n",
    "scheduler = torch.optim.lr_scheduler.ExponentialLR(optimizer, 0.7, verbose=True)\n",
    "\n",
    "for i in range(40):\n",
    "    # remove all files from train directory\n",
    "    '''\n",
    "    files = os.listdir('./train')\n",
    "    for file in files:\n",
    "        os.remove(os.path.join('./train', file))\n",
    "    '''\n",
    "    dataset = generate_dataset_memory(25, window_size=3)\n",
    "\n",
    "    \n",
    "    model = train_memory(model, dataset, './val', 64, loss_fn, optimizer, 1, './models', device='cuda', eval=False, use_custom_loss=True)\n",
    "    del dataset\n",
    "    torch.cuda.empty_cache()\n",
    "    last_model_id += 1\n",
    "    torch.save(model.state_dict(), f'./models/model_{last_model_id}.pt')\n",
    "\n",
    "    if i % 5 == 0:\n",
    "        scheduler.step()\n",
    "\n"
   ]
  },
  {
   "cell_type": "code",
   "execution_count": 9,
   "metadata": {},
   "outputs": [],
   "source": [
    "from kwisatzHaderach_bh import KwisatzHaderachBH"
   ]
  },
  {
   "cell_type": "code",
   "execution_count": 10,
   "metadata": {},
   "outputs": [
    {
     "data": {
      "text/plain": [
       "\"\\nmodel_files = os.listdir('./modelsbh/')\\nmodel_files.sort(key=lambda x: int(x.split('_')[1].split('.')[0]))\\ntry:\\n    last_model_id = model_files[-1].split('_')[1].split('.')[0]\\nexcept IndexError:\\n    last_model_id = -1\\nlast_model_id = int(last_model_id)\\n\\nmodel = KwisatzHaderachBH(activation=True, layer_channels=[64, 64, 32, 3], calc_neighbors=False)\\n\\n\\n\\noptimizer = torch.optim.Adam(model.parameters(), lr=1e-2)\\nscheduler = torch.optim.lr_scheduler.ExponentialLR(optimizer, 0.7, verbose=True)\\n\\nfor i in range(40):\\n    # remove all files from train directory\\n    files = os.listdir('./train')\\n    for file in files:\\n        os.remove(os.path.join('./train', file))\\n    \\n    dataset = generate_dataset_memory_bh(2, window_size=2)\\n\\n    \\n    model = train_memory_black_hole_info(model, dataset, './val', 16, loss_fn, optimizer, 1, './modelsbh', device='cpu', eval=False, use_custom_loss=False)\\n    del dataset\\n    last_model_id += 1\\n    torch.save(model.state_dict(), f'./modelsbh/model_{last_model_id}.pt')\\n\\n    if i % 5 == 0:\\n        scheduler.step()\\n       \""
      ]
     },
     "execution_count": 10,
     "metadata": {},
     "output_type": "execute_result"
    }
   ],
   "source": [
    "'''\n",
    "model_files = os.listdir('./modelsbh/')\n",
    "model_files.sort(key=lambda x: int(x.split('_')[1].split('.')[0]))\n",
    "try:\n",
    "    last_model_id = model_files[-1].split('_')[1].split('.')[0]\n",
    "except IndexError:\n",
    "    last_model_id = -1\n",
    "last_model_id = int(last_model_id)\n",
    "\n",
    "model = KwisatzHaderachBH(activation=True, layer_channels=[64, 64, 32, 3], calc_neighbors=False)\n",
    "\n",
    "\n",
    "\n",
    "optimizer = torch.optim.Adam(model.parameters(), lr=1e-2)\n",
    "scheduler = torch.optim.lr_scheduler.ExponentialLR(optimizer, 0.7, verbose=True)\n",
    "\n",
    "for i in range(40):\n",
    "    # remove all files from train directory\n",
    "    files = os.listdir('./train')\n",
    "    for file in files:\n",
    "        os.remove(os.path.join('./train', file))\n",
    "    \n",
    "    dataset = generate_dataset_memory_bh(2, window_size=2)\n",
    "\n",
    "    \n",
    "    model = train_memory_black_hole_info(model, dataset, './val', 16, loss_fn, optimizer, 1, './modelsbh', device='cpu', eval=False, use_custom_loss=False)\n",
    "    del dataset\n",
    "    last_model_id += 1\n",
    "    torch.save(model.state_dict(), f'./modelsbh/model_{last_model_id}.pt')\n",
    "\n",
    "    if i % 5 == 0:\n",
    "        scheduler.step()\n",
    "       ''' "
   ]
  },
  {
   "cell_type": "code",
   "execution_count": null,
   "metadata": {},
   "outputs": [],
   "source": []
  }
 ],
 "metadata": {
  "kernelspec": {
   "display_name": "Python 3",
   "language": "python",
   "name": "python3"
  },
  "language_info": {
   "codemirror_mode": {
    "name": "ipython",
    "version": 3
   },
   "file_extension": ".py",
   "mimetype": "text/x-python",
   "name": "python",
   "nbconvert_exporter": "python",
   "pygments_lexer": "ipython3",
   "version": "3.10.15"
  }
 },
 "nbformat": 4,
 "nbformat_minor": 2
}
