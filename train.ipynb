{
 "cells": [
  {
   "cell_type": "code",
   "execution_count": 1,
   "metadata": {},
   "outputs": [
    {
     "name": "stderr",
     "output_type": "stream",
     "text": [
      "/opt/miniconda3/envs/open3d/lib/python3.10/site-packages/tqdm/auto.py:21: TqdmWarning: IProgress not found. Please update jupyter and ipywidgets. See https://ipywidgets.readthedocs.io/en/stable/user_install.html\n",
      "  from .autonotebook import tqdm as notebook_tqdm\n"
     ]
    }
   ],
   "source": [
    "import torch\n",
    "from kwisatzHaderach import KwisatzHaderach\n",
    "from Kaisarion import Kaisarion\n",
    "import json\n",
    "import os\n",
    "import tqdm\n",
    "import numpy as np\n",
    "from datagen import *\n",
    "from trainer import Trainer"
   ]
  },
  {
   "cell_type": "code",
   "execution_count": 2,
   "metadata": {},
   "outputs": [
    {
     "data": {
      "text/plain": [
       "'\\ndef loss_fn(pr_acc, gt_acc, num_neighbors):\\n    gamma = 0.5\\n    neighbor_scale = 1/100\\n    importance = torch.exp(neighbor_scale * num_neighbors) # removed minus sign to give more importance to particles with more neighbors\\n    importance = importance / torch.max(importance)\\n    euclidean_distances = euclidean_distance(pr_acc, gt_acc)\\n    if importance.size()[0] == 0:\\n        importance = 1.0\\n    return torch.mean(importance *\\n                        euclidean_distances**gamma), torch.mean(euclidean_distances)\\n'"
      ]
     },
     "execution_count": 2,
     "metadata": {},
     "output_type": "execute_result"
    }
   ],
   "source": [
    "def euclidean_distance(a, b):\n",
    "    return torch.sqrt(torch.sum((a - b)**2, dim=-1) + 1e-12)\n",
    "\n",
    "def mean_distance(a, b):\n",
    "    return torch.mean(euclidean_distance(a, b))\n",
    "'''\n",
    "def loss_fn(pr_acc, gt_acc, num_neighbors):\n",
    "    gamma = 0.5\n",
    "    neighbor_scale = 1/100\n",
    "    importance = torch.exp(neighbor_scale * num_neighbors) # removed minus sign to give more importance to particles with more neighbors\n",
    "    importance = importance / torch.max(importance)\n",
    "    euclidean_distances = euclidean_distance(pr_acc, gt_acc)\n",
    "    if importance.size()[0] == 0:\n",
    "        importance = 1.0\n",
    "    return torch.mean(importance *\n",
    "                        euclidean_distances**gamma), torch.mean(euclidean_distances)\n",
    "'''"
   ]
  },
  {
   "cell_type": "code",
   "execution_count": 3,
   "metadata": {},
   "outputs": [],
   "source": [
    "def loss_fn(pr_acc, gt_acc, num_neighbors, gt_pos, pr_pos, pos_importance=1.0, gamma=1.0):\n",
    "    neighbor_scale = 1/100\n",
    "    importance = torch.exp(neighbor_scale * num_neighbors) # removed minus sign to give more importance to particles with more neighbors\n",
    "    importance = importance / torch.max(importance)\n",
    "    euclidean_distances = euclidean_distance(pr_acc, gt_acc)\n",
    "    if importance.size()[0] == 0:\n",
    "        importance = 1.0\n",
    "    if gamma != 1.0:\n",
    "        return torch.mean(importance *\n",
    "                        euclidean_distances**gamma) + pos_importance * torch.mean(importance * euclidean_distance(pr_pos, gt_pos)**gamma), torch.mean(euclidean_distances)\n",
    "    return torch.mean(importance *\n",
    "                        euclidean_distances) + pos_importance * torch.mean(importance * euclidean_distance(pr_pos, gt_pos)), torch.mean(euclidean_distances)"
   ]
  },
  {
   "cell_type": "code",
   "execution_count": 4,
   "metadata": {},
   "outputs": [],
   "source": [
    "def get_new_pos_vel(acc, pos, vel, dt=0.01):\n",
    "    new_vel = vel + acc * dt \n",
    "    new_pos = pos + new_vel * dt\n",
    "    return new_pos, new_vel"
   ]
  },
  {
   "cell_type": "code",
   "execution_count": 7,
   "metadata": {},
   "outputs": [],
   "source": [
    "\n",
    "\n",
    "def train_epoch(model, data, batch_size, loss_fn, optimizer, device, use_custom_loss=False):\n",
    "\n",
    "    model.train()\n",
    "\n",
    "    num_batches = len(data) // batch_size\n",
    "    all_losses = []\n",
    "    all_dists = []\n",
    "    for i in tqdm.tqdm(range(num_batches)):\n",
    "        batch = data[i*batch_size:(i+1)*batch_size]\n",
    "        m = torch.tensor([b['masses'] for b in batch], dtype=torch.float32).to(device)\n",
    "        pos0 = torch.tensor([b['pos'] for b in batch], dtype=torch.float32).to(device)\n",
    "        vel0 = torch.tensor([b['vel'] for b in batch], dtype=torch.float32).to(device)\n",
    "        acc0 = torch.tensor([b['acc'] for b in batch], dtype=torch.float32).to(device)\n",
    "        acc1 = torch.tensor([b['acc_next1'] for b in batch], dtype=torch.float32).to(device)\n",
    "        if use_custom_loss:\n",
    "            pos1 = torch.tensor([b['pos_next1'] for b in batch], dtype=torch.float32).to(device)\n",
    "            pos2 = torch.tensor([b['pos_next2'] for b in batch], dtype=torch.float32).to(device)\n",
    "        #acc2 = torch.tensor([b['acc_next2'] for b in batch], dtype=torch.float32).to(device)\n",
    "\n",
    "        optimizer.zero_grad()\n",
    "        losses = []\n",
    "        for j in range(len(batch)):\n",
    "            l = 0\n",
    "            sample_masses = m[j].unsqueeze(1)\n",
    "            sample_pos0 = pos0[j]\n",
    "            sample_vel0 = vel0[j]\n",
    "            sample_acc0 = acc0[j]\n",
    "            sample_acc1 = acc1[j]\n",
    "            if use_custom_loss:\n",
    "                sample_pos1 = pos1[j]\n",
    "                sample_pos2 = pos2[j]\n",
    "\n",
    "           \n",
    "\n",
    "            pr_acc0 = model(sample_pos0, sample_vel0, sample_masses)\n",
    "            pr_pos1, pr_vel1 = get_new_pos_vel(pr_acc0, sample_pos0, sample_vel0)\n",
    "\n",
    "            if use_custom_loss:\n",
    "                loss0, dists0 = loss_fn(pr_acc0, sample_acc0, model.num_neighbors, pr_pos1, sample_pos1)\n",
    "            else:\n",
    "                loss0 = torch.mean(euclidean_distance(pr_acc0, sample_acc0))\n",
    "                dists0 = loss0\n",
    "\n",
    "            all_dists.append(dists0)\n",
    "\n",
    "            l += loss0 * 0.5\n",
    "\n",
    "            \n",
    "\n",
    "            pr_acc1 = model(pr_pos1, pr_vel1, sample_masses)\n",
    "            pr_pos2, pr_vel2 = get_new_pos_vel(pr_acc1, pr_pos1, pr_vel1)\n",
    "\n",
    "            if use_custom_loss:\n",
    "                loss1, dists1 = loss_fn(pr_acc1, sample_acc1, model.num_neighbors, pr_pos2, sample_pos2)\n",
    "            else:\n",
    "                loss1 = torch.mean(euclidean_distance(pr_acc1, sample_acc1))\n",
    "                dists1 = loss1\n",
    "\n",
    "            all_dists.append(dists1.item())\n",
    "\n",
    "            l += loss1 * 0.5\n",
    "\n",
    "            #pr_pos2, pr_vel2 = get_new_pos_vel(pr_acc1, pr_pos1, pr_vel1)\n",
    "\n",
    "            #pr_acc2 = model(pr_pos2, pr_vel2, sample_masses)\n",
    "\n",
    "            #loss2, dists2 = loss_fn(pr_acc2, sample_acc2, model.num_neighbors)\n",
    "\n",
    "            #all_dists.append(dists2.item())\n",
    "\n",
    "            #l += loss2 * 0.2\n",
    "\n",
    "            losses.append(l)\n",
    "\n",
    "        total_loss = 64 * sum(losses) / len(batch)\n",
    "        all_losses.append(total_loss.item())\n",
    "        total_loss.backward()\n",
    "\n",
    "        optimizer.step()\n",
    "\n",
    "    print(f'Train Loss: {sum(all_losses)/len(all_losses)}, Train L2: {sum(all_dists)/len(all_dists)}')\n",
    "\n",
    "        \n",
    "\n",
    "\n",
    "            "
   ]
  },
  {
   "cell_type": "code",
   "execution_count": 8,
   "metadata": {},
   "outputs": [],
   "source": [
    "\n",
    "def train(model, train_data, val_dir, batch_size, loss_fn, optimizer, num_epochs, weights_dir=None, device='cuda', eval=True, use_custom_loss=False):\n",
    "    \n",
    "        model.to(device)\n",
    "    \n",
    "        if weights_dir is not None:\n",
    "            weight_paths = os.listdir(weights_dir)\n",
    "            weight_paths.sort(key=lambda x: int(x.split('_')[1].split('.')[0]))\n",
    "            try:\n",
    "                model.load_state_dict(torch.load(os.path.join(weights_dir, weight_paths[-1])))\n",
    "                print(f'Loaded weights from {weight_paths[-1]}')\n",
    "                last_model = int(weight_paths[-1].split('_')[1].split('.')[0])\n",
    "                last_model += 1\n",
    "            except:\n",
    "                last_model = 0\n",
    "        \n",
    "        for epoch in range(num_epochs):\n",
    "            print(f'Epoch {epoch}')\n",
    "            train_epoch(model, train_data, batch_size, loss_fn, optimizer, device, use_custom_loss)\n",
    "    \n",
    "            #if eval:\n",
    "            #   val(model, val_dir, batch_size, loss_fn, device)\n",
    "    \n",
    "        torch.save(model.state_dict(), f'./models/model_{last_model}.pt')\n",
    "    \n",
    "        return model"
   ]
  },
  {
   "cell_type": "code",
   "execution_count": 9,
   "metadata": {},
   "outputs": [],
   "source": [
    "# clear cuda cache\n",
    "\n",
    "torch.cuda.empty_cache()"
   ]
  },
  {
   "cell_type": "code",
   "execution_count": null,
   "metadata": {},
   "outputs": [],
   "source": [
    "\n",
    "model_files = os.listdir('./models/')\n",
    "model_files.sort(key=lambda x: int(x.split('_')[1].split('.')[0]))\n",
    "try:\n",
    "    last_model_id = model_files[-1].split('_')[1].split('.')[0]\n",
    "except IndexError:\n",
    "    last_model_id = -1\n",
    "last_model_id = int(last_model_id)\n",
    "\n",
    "model = KwisatzHaderach(activation=True, layer_channels=[64, 64, 64, 3], calc_neighbors=True)\n",
    "\n",
    "\n",
    "\n",
    "optimizer = torch.optim.Adam(model.parameters(), lr=1e-3)\n",
    "scheduler = torch.optim.lr_scheduler.ExponentialLR(optimizer, 0.7, verbose=True)\n",
    "\n",
    "for i in range(40):\n",
    "    # remove all files from train directory\n",
    "    '''\n",
    "    files = os.listdir('./train')\n",
    "    for file in files:\n",
    "        os.remove(os.path.join('./train', file))\n",
    "    '''\n",
    "    dataset = generate_dataset_memory(25, window_size=3)\n",
    "\n",
    "    \n",
    "    model = train(model, dataset, './val', 64, loss_fn, optimizer, 1, './models', device='cuda', eval=False, use_custom_loss=True)\n",
    "    del dataset\n",
    "    torch.cuda.empty_cache()\n",
    "    last_model_id += 1\n",
    "    torch.save(model.state_dict(), f'./models/model_{last_model_id}.pt')\n",
    "\n",
    "    if i % 5 == 0:\n",
    "        scheduler.step()\n",
    "\n"
   ]
  },
  {
   "cell_type": "code",
   "execution_count": 4,
   "metadata": {},
   "outputs": [
    {
     "name": "stdout",
     "output_type": "stream",
     "text": [
      "Adjusting learning rate of group 0 to 1.0000e-03.\n",
      "Round 0\n",
      "Generating dataset with 5 scenes...\n"
     ]
    },
    {
     "name": "stderr",
     "output_type": "stream",
     "text": [
      "100%|██████████| 5/5 [01:00<00:00, 12.09s/it]\n"
     ]
    },
    {
     "name": "stdout",
     "output_type": "stream",
     "text": [
      "Epoch 0\n"
     ]
    },
    {
     "name": "stderr",
     "output_type": "stream",
     "text": [
      "100%|██████████| 78/78 [04:31<00:00,  3.48s/it]\n"
     ]
    },
    {
     "name": "stdout",
     "output_type": "stream",
     "text": [
      "Train Loss: 1797.9547455616487\n",
      "Adjusting learning rate of group 0 to 7.0000e-04.\n",
      "Saved weights to ./models/model_0.pt\n",
      "Round 1\n",
      "Generating dataset with 5 scenes...\n"
     ]
    },
    {
     "name": "stderr",
     "output_type": "stream",
     "text": [
      "  0%|          | 0/5 [00:12<?, ?it/s]\n"
     ]
    },
    {
     "ename": "KeyboardInterrupt",
     "evalue": "",
     "output_type": "error",
     "traceback": [
      "\u001b[0;31m---------------------------------------------------------------------------\u001b[0m",
      "\u001b[0;31mKeyboardInterrupt\u001b[0m                         Traceback (most recent call last)",
      "Cell \u001b[0;32mIn[4], line 9\u001b[0m\n\u001b[1;32m      5\u001b[0m scheduler \u001b[38;5;241m=\u001b[39m torch\u001b[38;5;241m.\u001b[39moptim\u001b[38;5;241m.\u001b[39mlr_scheduler\u001b[38;5;241m.\u001b[39mExponentialLR(optimizer, \u001b[38;5;241m0.7\u001b[39m, verbose\u001b[38;5;241m=\u001b[39m\u001b[38;5;28;01mTrue\u001b[39;00m)\n\u001b[1;32m      7\u001b[0m trainer \u001b[38;5;241m=\u001b[39m Trainer(loss_fn\u001b[38;5;241m=\u001b[39mmean_distance, batch_size\u001b[38;5;241m=\u001b[39m\u001b[38;5;241m64\u001b[39m, device\u001b[38;5;241m=\u001b[39m\u001b[38;5;124m'\u001b[39m\u001b[38;5;124mcpu\u001b[39m\u001b[38;5;124m'\u001b[39m, mode\u001b[38;5;241m=\u001b[39m\u001b[38;5;124m'\u001b[39m\u001b[38;5;124mpresent\u001b[39m\u001b[38;5;124m'\u001b[39m)\n\u001b[0;32m----> 9\u001b[0m \u001b[43mtrainer\u001b[49m\u001b[38;5;241;43m.\u001b[39;49m\u001b[43mtrain\u001b[49m\u001b[43m(\u001b[49m\u001b[43mmodel\u001b[49m\u001b[38;5;241;43m=\u001b[39;49m\u001b[43mmodel\u001b[49m\u001b[43m,\u001b[49m\u001b[43m \u001b[49m\u001b[43moptimizer\u001b[49m\u001b[38;5;241;43m=\u001b[39;49m\u001b[43moptimizer\u001b[49m\u001b[43m,\u001b[49m\u001b[43m \u001b[49m\u001b[43mscheduler\u001b[49m\u001b[38;5;241;43m=\u001b[39;49m\u001b[43mscheduler\u001b[49m\u001b[43m,\u001b[49m\u001b[43m \u001b[49m\u001b[43mrounds\u001b[49m\u001b[38;5;241;43m=\u001b[39;49m\u001b[38;5;241;43m40\u001b[39;49m\u001b[43m,\u001b[49m\u001b[43m \u001b[49m\u001b[43mepochs_per_dataset\u001b[49m\u001b[38;5;241;43m=\u001b[39;49m\u001b[38;5;241;43m1\u001b[39;49m\u001b[43m,\u001b[49m\u001b[43m \u001b[49m\u001b[43mscenes_per_dataset\u001b[49m\u001b[38;5;241;43m=\u001b[39;49m\u001b[38;5;241;43m5\u001b[39;49m\u001b[43m)\u001b[49m\n",
      "File \u001b[0;32m~/python_projects/nbody/nbody-deep-sim/trainer.py:105\u001b[0m, in \u001b[0;36mTrainer.train\u001b[0;34m(self, model, optimizer, scheduler, rounds, epochs_per_dataset, scenes_per_dataset, weights_dir)\u001b[0m\n\u001b[1;32m    103\u001b[0m     data \u001b[38;5;241m=\u001b[39m generate_dataset_past(scenes_per_dataset)\n\u001b[1;32m    104\u001b[0m \u001b[38;5;28;01melse\u001b[39;00m:\n\u001b[0;32m--> 105\u001b[0m     data \u001b[38;5;241m=\u001b[39m \u001b[43mgenerate_dataset\u001b[49m\u001b[43m(\u001b[49m\u001b[43mscenes_per_dataset\u001b[49m\u001b[43m)\u001b[49m\n\u001b[1;32m    106\u001b[0m \u001b[38;5;28;01mfor\u001b[39;00m j \u001b[38;5;129;01min\u001b[39;00m \u001b[38;5;28mrange\u001b[39m(epochs_per_dataset):\n\u001b[1;32m    107\u001b[0m     \u001b[38;5;28mprint\u001b[39m(\u001b[38;5;124mf\u001b[39m\u001b[38;5;124m'\u001b[39m\u001b[38;5;124mEpoch \u001b[39m\u001b[38;5;132;01m{\u001b[39;00mj\u001b[38;5;132;01m}\u001b[39;00m\u001b[38;5;124m'\u001b[39m)\n",
      "File \u001b[0;32m~/python_projects/nbody/nbody-deep-sim/datagen.py:80\u001b[0m, in \u001b[0;36mgenerate_dataset\u001b[0;34m(n_scenes, window_size, shuffle)\u001b[0m\n\u001b[1;32m     78\u001b[0m \u001b[38;5;28mprint\u001b[39m(\u001b[38;5;124mf\u001b[39m\u001b[38;5;124m'\u001b[39m\u001b[38;5;124mGenerating dataset with \u001b[39m\u001b[38;5;132;01m{\u001b[39;00mn_scenes\u001b[38;5;132;01m}\u001b[39;00m\u001b[38;5;124m scenes...\u001b[39m\u001b[38;5;124m'\u001b[39m)\n\u001b[1;32m     79\u001b[0m \u001b[38;5;28;01mfor\u001b[39;00m _ \u001b[38;5;129;01min\u001b[39;00m tqdm\u001b[38;5;241m.\u001b[39mtqdm(\u001b[38;5;28mrange\u001b[39m(n_scenes)):\n\u001b[0;32m---> 80\u001b[0m     scene \u001b[38;5;241m=\u001b[39m \u001b[43mgenerate_scene_2gals\u001b[49m\u001b[43m(\u001b[49m\u001b[43m)\u001b[49m\n\u001b[1;32m     81\u001b[0m     types\u001b[38;5;241m=\u001b[39m np\u001b[38;5;241m.\u001b[39marray(scene[\u001b[38;5;124m'\u001b[39m\u001b[38;5;124mtypes\u001b[39m\u001b[38;5;124m'\u001b[39m])\n\u001b[1;32m     82\u001b[0m     bh_index \u001b[38;5;241m=\u001b[39m np\u001b[38;5;241m.\u001b[39mwhere(types \u001b[38;5;241m==\u001b[39m \u001b[38;5;124m\"\u001b[39m\u001b[38;5;124mblack hole\u001b[39m\u001b[38;5;124m\"\u001b[39m)[\u001b[38;5;241m0\u001b[39m]\n",
      "File \u001b[0;32m~/python_projects/nbody/nbody-deep-sim/datagen.py:35\u001b[0m, in \u001b[0;36mgenerate_scene_2gals\u001b[0;34m()\u001b[0m\n\u001b[1;32m     32\u001b[0m particles \u001b[38;5;241m=\u001b[39m particles1 \u001b[38;5;241m+\u001b[39m particles2\n\u001b[1;32m     33\u001b[0m sim \u001b[38;5;241m=\u001b[39m NBodySimulation(particles, G, softening, dt)\n\u001b[0;32m---> 35\u001b[0m pos, vel, acc, KE, PE, _, masses, types \u001b[38;5;241m=\u001b[39m \u001b[43msim\u001b[49m\u001b[38;5;241;43m.\u001b[39;49m\u001b[43mrun\u001b[49m\u001b[43m(\u001b[49m\u001b[43mt_end\u001b[49m\u001b[38;5;241;43m=\u001b[39;49m\u001b[43mt_end\u001b[49m\u001b[43m,\u001b[49m\u001b[43m \u001b[49m\u001b[43msave_states\u001b[49m\u001b[38;5;241;43m=\u001b[39;49m\u001b[38;5;28;43;01mTrue\u001b[39;49;00m\u001b[43m)\u001b[49m\n\u001b[1;32m     37\u001b[0m \u001b[38;5;66;03m# Convert all arrays to lists\u001b[39;00m\n\u001b[1;32m     38\u001b[0m pos \u001b[38;5;241m=\u001b[39m np\u001b[38;5;241m.\u001b[39marray(pos)\u001b[38;5;241m.\u001b[39mtranspose(\u001b[38;5;241m2\u001b[39m, \u001b[38;5;241m0\u001b[39m, \u001b[38;5;241m1\u001b[39m)\n",
      "File \u001b[0;32m~/python_projects/nbody/nbody-deep-sim/sim.py:100\u001b[0m, in \u001b[0;36mNBodySimulation.run\u001b[0;34m(self, t_end, save_states)\u001b[0m\n\u001b[1;32m     97\u001b[0m     p\u001b[38;5;241m.\u001b[39mvelocity \u001b[38;5;241m+\u001b[39m\u001b[38;5;241m=\u001b[39m p\u001b[38;5;241m.\u001b[39macceleration \u001b[38;5;241m*\u001b[39m \u001b[38;5;28mself\u001b[39m\u001b[38;5;241m.\u001b[39mdt \u001b[38;5;241m/\u001b[39m \u001b[38;5;241m2.0\u001b[39m\n\u001b[1;32m     98\u001b[0m     p\u001b[38;5;241m.\u001b[39mposition \u001b[38;5;241m+\u001b[39m\u001b[38;5;241m=\u001b[39m p\u001b[38;5;241m.\u001b[39mvelocity \u001b[38;5;241m*\u001b[39m \u001b[38;5;28mself\u001b[39m\u001b[38;5;241m.\u001b[39mdt\n\u001b[0;32m--> 100\u001b[0m \u001b[38;5;28;43mself\u001b[39;49m\u001b[38;5;241;43m.\u001b[39;49m\u001b[43mget_accelerations\u001b[49m\u001b[43m(\u001b[49m\u001b[43m)\u001b[49m\n\u001b[1;32m    102\u001b[0m \u001b[38;5;28;01mfor\u001b[39;00m p \u001b[38;5;129;01min\u001b[39;00m \u001b[38;5;28mself\u001b[39m\u001b[38;5;241m.\u001b[39mparticles:\n\u001b[1;32m    103\u001b[0m     p\u001b[38;5;241m.\u001b[39mvelocity \u001b[38;5;241m+\u001b[39m\u001b[38;5;241m=\u001b[39m p\u001b[38;5;241m.\u001b[39macceleration \u001b[38;5;241m*\u001b[39m \u001b[38;5;28mself\u001b[39m\u001b[38;5;241m.\u001b[39mdt \u001b[38;5;241m/\u001b[39m \u001b[38;5;241m2.0\u001b[39m\n",
      "File \u001b[0;32m~/python_projects/nbody/nbody-deep-sim/sim.py:47\u001b[0m, in \u001b[0;36mNBodySimulation.get_accelerations\u001b[0;34m(self)\u001b[0m\n\u001b[1;32m     44\u001b[0m ay \u001b[38;5;241m=\u001b[39m \u001b[38;5;28mself\u001b[39m\u001b[38;5;241m.\u001b[39mG \u001b[38;5;241m*\u001b[39m (dy \u001b[38;5;241m*\u001b[39m inv_r3) \u001b[38;5;241m@\u001b[39m masses\n\u001b[1;32m     45\u001b[0m az \u001b[38;5;241m=\u001b[39m \u001b[38;5;28mself\u001b[39m\u001b[38;5;241m.\u001b[39mG \u001b[38;5;241m*\u001b[39m (dz \u001b[38;5;241m*\u001b[39m inv_r3) \u001b[38;5;241m@\u001b[39m masses\n\u001b[0;32m---> 47\u001b[0m accelerations \u001b[38;5;241m=\u001b[39m \u001b[43mnp\u001b[49m\u001b[38;5;241;43m.\u001b[39;49m\u001b[43mhstack\u001b[49m\u001b[43m(\u001b[49m\u001b[43m(\u001b[49m\u001b[43max\u001b[49m\u001b[43m,\u001b[49m\u001b[43m \u001b[49m\u001b[43may\u001b[49m\u001b[43m,\u001b[49m\u001b[43m \u001b[49m\u001b[43maz\u001b[49m\u001b[43m)\u001b[49m\u001b[43m)\u001b[49m\n\u001b[1;32m     48\u001b[0m \u001b[38;5;28;01mfor\u001b[39;00m i, p \u001b[38;5;129;01min\u001b[39;00m \u001b[38;5;28menumerate\u001b[39m(\u001b[38;5;28mself\u001b[39m\u001b[38;5;241m.\u001b[39mparticles):\n\u001b[1;32m     49\u001b[0m     p\u001b[38;5;241m.\u001b[39macceleration \u001b[38;5;241m=\u001b[39m accelerations[i]\n",
      "File \u001b[0;32m/opt/miniconda3/envs/open3d/lib/python3.10/site-packages/numpy/core/shape_base.py:215\u001b[0m, in \u001b[0;36m_vhstack_dispatcher\u001b[0;34m(tup, dtype, casting)\u001b[0m\n\u001b[1;32m    209\u001b[0m         \u001b[38;5;28;01mraise\u001b[39;00m \u001b[38;5;167;01mTypeError\u001b[39;00m(\u001b[38;5;124m'\u001b[39m\u001b[38;5;124marrays to stack must be passed as a \u001b[39m\u001b[38;5;124m\"\u001b[39m\u001b[38;5;124msequence\u001b[39m\u001b[38;5;124m\"\u001b[39m\u001b[38;5;124m type \u001b[39m\u001b[38;5;124m'\u001b[39m\n\u001b[1;32m    210\u001b[0m                         \u001b[38;5;124m'\u001b[39m\u001b[38;5;124msuch as list or tuple.\u001b[39m\u001b[38;5;124m'\u001b[39m)\n\u001b[1;32m    212\u001b[0m     \u001b[38;5;28;01mreturn\u001b[39;00m \u001b[38;5;28mtuple\u001b[39m(arrays)\n\u001b[0;32m--> 215\u001b[0m \u001b[38;5;28;01mdef\u001b[39;00m \u001b[38;5;21m_vhstack_dispatcher\u001b[39m(tup, \u001b[38;5;241m*\u001b[39m, dtype\u001b[38;5;241m=\u001b[39m\u001b[38;5;28;01mNone\u001b[39;00m, casting\u001b[38;5;241m=\u001b[39m\u001b[38;5;28;01mNone\u001b[39;00m):\n\u001b[1;32m    216\u001b[0m     \u001b[38;5;28;01mreturn\u001b[39;00m _arrays_for_stack_dispatcher(tup)\n\u001b[1;32m    219\u001b[0m \u001b[38;5;129m@array_function_dispatch\u001b[39m(_vhstack_dispatcher)\n\u001b[1;32m    220\u001b[0m \u001b[38;5;28;01mdef\u001b[39;00m \u001b[38;5;21mvstack\u001b[39m(tup, \u001b[38;5;241m*\u001b[39m, dtype\u001b[38;5;241m=\u001b[39m\u001b[38;5;28;01mNone\u001b[39;00m, casting\u001b[38;5;241m=\u001b[39m\u001b[38;5;124m\"\u001b[39m\u001b[38;5;124msame_kind\u001b[39m\u001b[38;5;124m\"\u001b[39m):\n",
      "\u001b[0;31mKeyboardInterrupt\u001b[0m: "
     ]
    }
   ],
   "source": [
    "model = KwisatzHaderach()\n",
    "\n",
    "optimizer = torch.optim.Adam(model.parameters(), lr=1e-3)\n",
    "\n",
    "scheduler = torch.optim.lr_scheduler.ExponentialLR(optimizer, 0.7, verbose=True)\n",
    "\n",
    "trainer = Trainer(loss_fn=mean_distance, batch_size=64, device='cpu', mode='present')\n",
    "\n",
    "trainer.train(model=model, optimizer=optimizer, scheduler=scheduler, rounds=40, epochs_per_dataset=1, scenes_per_dataset=5)\n"
   ]
  },
  {
   "cell_type": "code",
   "execution_count": null,
   "metadata": {},
   "outputs": [],
   "source": []
  }
 ],
 "metadata": {
  "kernelspec": {
   "display_name": "open3d",
   "language": "python",
   "name": "python3"
  },
  "language_info": {
   "codemirror_mode": {
    "name": "ipython",
    "version": 3
   },
   "file_extension": ".py",
   "mimetype": "text/x-python",
   "name": "python",
   "nbconvert_exporter": "python",
   "pygments_lexer": "ipython3",
   "version": "3.10.15"
  }
 },
 "nbformat": 4,
 "nbformat_minor": 2
}
