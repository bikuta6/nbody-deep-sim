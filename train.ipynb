{
 "cells": [
  {
   "cell_type": "code",
   "execution_count": 14,
   "metadata": {},
   "outputs": [],
   "source": [
    "import torch\n",
    "from kwisatzHaderach import KwisatzHaderach\n",
    "import json\n",
    "import os\n",
    "import tqdm\n",
    "from datagen import generate_dataset, generate_dataset_memory"
   ]
  },
  {
   "cell_type": "code",
   "execution_count": 15,
   "metadata": {},
   "outputs": [],
   "source": [
    "def euclidean_distance(a, b):\n",
    "    return torch.linalg.norm(a - b, axis=-1) + 1e-12\n",
    "\n",
    "def loss_fn(pr_acc, gt_acc, num_neighbors):\n",
    "    gamma = 0.5\n",
    "    neighbor_scale = 1/50\n",
    "    importance = torch.exp(-neighbor_scale * num_neighbors)\n",
    "    euclidean_distances = euclidean_distance(pr_acc, gt_acc)\n",
    "    if importance.size()[0] == 0:\n",
    "        return torch.mean(euclidean_distances), torch.mean(euclidean_distances)\n",
    "    return torch.mean(importance *\n",
    "                        euclidean_distances**gamma), torch.mean(euclidean_distances)"
   ]
  },
  {
   "cell_type": "code",
   "execution_count": 16,
   "metadata": {},
   "outputs": [],
   "source": [
    "def get_new_pos_vel(acc, pos, vel, dt=0.01):\n",
    "    new_vel = vel + acc * dt\n",
    "    new_pos = pos + new_vel * dt\n",
    "    return new_pos, new_vel"
   ]
  },
  {
   "cell_type": "code",
   "execution_count": 17,
   "metadata": {},
   "outputs": [],
   "source": [
    "def train_epoch(model, file, batch_size, loss_fn, optimizer, device):\n",
    "\n",
    "    model.train()\n",
    "    with open(file) as f:\n",
    "        data = json.load(f)\n",
    "\n",
    "    num_batches = len(data) // batch_size\n",
    "    all_losses = []\n",
    "    all_dists = []\n",
    "    for i in tqdm.tqdm(range(num_batches)):\n",
    "        batch = data[i*batch_size:(i+1)*batch_size]\n",
    "        m = torch.tensor([b['masses'] for b in batch], dtype=torch.float32).to(device)\n",
    "        pos0 = torch.tensor([b['pos'] for b in batch], dtype=torch.float32).to(device)\n",
    "        vel0 = torch.tensor([b['vel'] for b in batch], dtype=torch.float32).to(device)\n",
    "        pos1 = torch.tensor([b['pos_next1'] for b in batch], dtype=torch.float32).to(device)\n",
    "        pos2 = torch.tensor([b['pos_next2'] for b in batch], dtype=torch.float32).to(device)\n",
    "\n",
    "        optimizer.zero_grad()\n",
    "        losses = []\n",
    "        for j in range(len(batch)):\n",
    "            l = 0\n",
    "            sample_masses = m[j].unsqueeze(1)\n",
    "            sample_pos0 = pos0[j]\n",
    "            sample_vel0 = vel0[j]\n",
    "            sample_pos1 = pos1[j]\n",
    "            sample_pos2 = pos2[j]\n",
    "\n",
    "            pr_pos1, pr_vel1 = model(sample_pos0, sample_vel0, sample_masses)\n",
    "\n",
    "            loss1, dists1 = loss_fn(pr_pos1, sample_pos1, model.num_neighbors)\n",
    "\n",
    "            all_dists.append(dists1.item()*0.5)\n",
    "\n",
    "            l += 0.5*loss1\n",
    "\n",
    "            pr_pos2, pr_vel2 = model(pr_pos1, pr_vel1, sample_masses)\n",
    "\n",
    "            loss2, dists2 = loss_fn(pr_pos2, sample_pos2, model.num_neighbors)\n",
    "\n",
    "            all_dists.append(dists2.item()*0.5)\n",
    "\n",
    "            l += 0.5*loss2\n",
    "\n",
    "\n",
    "            losses.append(l)\n",
    "\n",
    "        total_loss = 128 * sum(losses) / len(batch)\n",
    "        all_losses.append(total_loss.item())\n",
    "        total_loss.backward()\n",
    "\n",
    "        optimizer.step()\n",
    "\n",
    "    print(f'Train Loss: {sum(all_losses)/len(all_losses)}, Train L2: {sum(all_dists)/len(all_dists)}')\n",
    "\n",
    "def train_epoch_memory(model, data, batch_size, loss_fn, optimizer, device):\n",
    "\n",
    "    model.train()\n",
    "\n",
    "    num_batches = len(data) // batch_size\n",
    "    all_losses = []\n",
    "    all_dists = []\n",
    "    for i in tqdm.tqdm(range(num_batches)):\n",
    "        batch = data[i*batch_size:(i+1)*batch_size]\n",
    "        m = torch.tensor([b['masses'] for b in batch], dtype=torch.float32).to(device)\n",
    "        pos0 = torch.tensor([b['pos'] for b in batch], dtype=torch.float32).to(device)\n",
    "        vel0 = torch.tensor([b['vel'] for b in batch], dtype=torch.float32).to(device)\n",
    "        acc0 = torch.tensor([b['acc'] for b in batch], dtype=torch.float32).to(device)\n",
    "        acc1 = torch.tensor([b['acc_next1'] for b in batch], dtype=torch.float32).to(device)\n",
    "        acc2 = torch.tensor([b['acc_next2'] for b in batch], dtype=torch.float32).to(device)\n",
    "\n",
    "        optimizer.zero_grad()\n",
    "        losses = []\n",
    "        for j in range(len(batch)):\n",
    "            l = 0\n",
    "            sample_masses = m[j].unsqueeze(1)\n",
    "            sample_pos0 = pos0[j]\n",
    "            sample_vel0 = vel0[j]\n",
    "            sample_acc0 = acc0[j]\n",
    "            sample_acc1 = acc1[j]\n",
    "            sample_acc2 = acc2[j]\n",
    "\n",
    "            pr_acc0 = model(sample_pos0, sample_vel0, sample_masses)\n",
    "\n",
    "            loss0, dists0 = loss_fn(pr_acc0, sample_acc0, model.num_neighbors)\n",
    "\n",
    "            all_dists.append(dists0.item())\n",
    "\n",
    "            l += loss0\n",
    "\n",
    "            pr_pos1, pr_vel1 = get_new_pos_vel(pr_acc0, sample_pos0, sample_vel0)\n",
    "\n",
    "            pr_acc1 = model(pr_pos1, pr_vel1, sample_masses)\n",
    "\n",
    "            loss1, dists1 = loss_fn(pr_acc1, sample_acc1, model.num_neighbors)\n",
    "\n",
    "            all_dists.append(dists1.item())\n",
    "\n",
    "            l += loss1\n",
    "\n",
    "            pr_pos2, pr_vel2 = get_new_pos_vel(pr_acc1, pr_pos1, pr_vel1)\n",
    "\n",
    "            pr_acc2 = model(pr_pos2, pr_vel2, sample_masses)\n",
    "\n",
    "            loss2, dists2 = loss_fn(pr_acc2, sample_acc2, model.num_neighbors)\n",
    "\n",
    "            all_dists.append(dists2.item())\n",
    "\n",
    "            l += loss2\n",
    "\n",
    "            losses.append(l)\n",
    "\n",
    "        total_loss = 128 * sum(losses) / len(batch)\n",
    "        all_losses.append(total_loss.item())\n",
    "        total_loss.backward()\n",
    "\n",
    "        optimizer.step()\n",
    "\n",
    "    print(f'Train Loss: {sum(all_losses)/len(all_losses)}, Train L2: {sum(all_dists)/len(all_dists)}')\n",
    "\n",
    "\n",
    "\n",
    "def val(model, val_dir, batch_size, loss_fn, device):\n",
    "    files = os.listdir(val_dir)\n",
    "\n",
    "    model.eval()\n",
    "    with torch.no_grad():\n",
    "        all_losses = []\n",
    "        all_dists = []\n",
    "        for file in files:\n",
    "            with open(os.path.join(val_dir, file)) as f:\n",
    "                data = json.load(f)\n",
    "            m = [b['masses'] for b in data]\n",
    "            pos0 = [b['pos'] for b in data]\n",
    "            vel0 = [b['vel'] for b in data]\n",
    "            pos1 = [b['pos_next1'] for b in data]\n",
    "            pos2 = [b['pos_next2'] for b in data]\n",
    "\n",
    "            loss = 0\n",
    "            for j in range(len(data)):\n",
    "                sample_masses = torch.tensor(m[j], dtype=torch.float32).unsqueeze(1).to(device)\n",
    "                sample_pos0 = torch.tensor(pos0[j], dtype=torch.float32).to(device)\n",
    "                sample_vel0 = torch.tensor(vel0[j], dtype=torch.float32).to(device)\n",
    "                sample_pos1 = torch.tensor(pos1[j], dtype=torch.float32).to(device)\n",
    "                sample_pos2 = torch.tensor(pos2[j], dtype=torch.float32).to(device)\n",
    "\n",
    "\n",
    "                pr_pos1, pr_vel1 = model(sample_pos0, sample_vel0, sample_masses)\n",
    "\n",
    "                loss1, dist1 = loss_fn(pr_pos1, sample_pos1, model.num_neighbors)\n",
    "                loss += 0.5*loss1\n",
    "\n",
    "                all_dists.append(dist1.item())\n",
    "\n",
    "\n",
    "                pr_pos2, _ = model(pr_pos1, pr_vel1, sample_masses)\n",
    "                loss2, dist2 = loss_fn(pr_pos2, sample_pos2, model.num_neighbors)\n",
    "                loss += 0.5*loss2\n",
    "\n",
    "                all_dists.append(dist2.item())\n",
    "\n",
    "\n",
    "            loss = loss / len(data)\n",
    "            all_losses.append(loss.item())\n",
    "\n",
    "            # clear memory\n",
    "            del sample_masses\n",
    "            del sample_pos0\n",
    "            del sample_vel0\n",
    "            del sample_pos1\n",
    "            del sample_pos2\n",
    "            del pr_pos1\n",
    "            del pr_vel1\n",
    "            del pr_pos2\n",
    "            torch.cuda.empty_cache()\n",
    "            \n",
    "\n",
    "\n",
    "        print(f'Val Loss: {sum(all_losses)/len(all_losses)}, Val L2: {sum(all_dists)/len(all_dists)}')\n",
    "\n",
    "\n",
    "            "
   ]
  },
  {
   "cell_type": "code",
   "execution_count": 18,
   "metadata": {},
   "outputs": [],
   "source": [
    "def train(model, train_dir, val_dir, batch_size, loss_fn, optimizer, num_epochs, weights_dir=None, device='cuda', eval=True):\n",
    "\n",
    "    model.to(device)\n",
    "\n",
    "    if weights_dir is not None:\n",
    "        weight_paths = os.listdir(weights_dir)\n",
    "        weight_paths.sort()\n",
    "        try:\n",
    "            model.load_state_dict(torch.load(os.path.join(weights_dir, weight_paths[-1])))\n",
    "            last_model = int(weight_paths[-1].split('_')[1].split('.')[0])\n",
    "            last_model += 1\n",
    "        except:\n",
    "            last_model = 0\n",
    "    \n",
    "    train_files = os.listdir(train_dir)\n",
    "    for epoch in range(num_epochs):\n",
    "        print(f'Epoch {epoch}')\n",
    "        for t_file in train_files:\n",
    "            full_path = os.path.join(train_dir, t_file)\n",
    "            train_epoch(model, full_path, batch_size, loss_fn, optimizer, device)\n",
    "\n",
    "        if eval:\n",
    "            val(model, val_dir, batch_size, loss_fn, device)\n",
    "\n",
    "    torch.save(model.state_dict(), f'./models/model_{last_model}.pt')\n",
    "\n",
    "    return model\n",
    "\n",
    "def train_memory(model, train_data, val_dir, batch_size, loss_fn, optimizer, num_epochs, weights_dir=None, device='cuda', eval=True):\n",
    "    \n",
    "        model.to(device)\n",
    "    \n",
    "        if weights_dir is not None:\n",
    "            weight_paths = os.listdir(weights_dir)\n",
    "            weight_paths.sort(key=lambda x: int(x.split('_')[1].split('.')[0]))\n",
    "            try:\n",
    "                model.load_state_dict(torch.load(os.path.join(weights_dir, weight_paths[-1])))\n",
    "                print(f'Loaded weights from {weight_paths[-1]}')\n",
    "                last_model = int(weight_paths[-1].split('_')[1].split('.')[0])\n",
    "                last_model += 1\n",
    "            except:\n",
    "                last_model = 0\n",
    "        \n",
    "        for epoch in range(num_epochs):\n",
    "            print(f'Epoch {epoch}')\n",
    "            train_epoch_memory(model, train_data, batch_size, loss_fn, optimizer, device)\n",
    "    \n",
    "            if eval:\n",
    "                val(model, val_dir, batch_size, loss_fn, device)\n",
    "    \n",
    "        torch.save(model.state_dict(), f'./models/model_{last_model}.pt')\n",
    "    \n",
    "        return model"
   ]
  },
  {
   "cell_type": "code",
   "execution_count": 19,
   "metadata": {},
   "outputs": [
    {
     "name": "stdout",
     "output_type": "stream",
     "text": [
      "Adjusting learning rate of group 0 to 1.0000e-03.\n",
      "Generating dataset with 1 scenes...\n"
     ]
    },
    {
     "name": "stderr",
     "output_type": "stream",
     "text": [
      "  0%|          | 0/1 [00:00<?, ?it/s]"
     ]
    },
    {
     "name": "stderr",
     "output_type": "stream",
     "text": [
      "100%|██████████| 1/1 [00:14<00:00, 14.33s/it]\n"
     ]
    },
    {
     "name": "stdout",
     "output_type": "stream",
     "text": [
      "Epoch 0\n"
     ]
    },
    {
     "name": "stderr",
     "output_type": "stream",
     "text": [
      "100%|██████████| 15/15 [05:05<00:00, 20.35s/it]\n"
     ]
    },
    {
     "name": "stdout",
     "output_type": "stream",
     "text": [
      "Train Loss: 812.6001565933227, Train L2: 232933.3277377099\n",
      "Adjusting learning rate of group 0 to 5.0000e-04.\n",
      "Generating dataset with 1 scenes...\n"
     ]
    },
    {
     "name": "stderr",
     "output_type": "stream",
     "text": [
      "100%|██████████| 1/1 [00:13<00:00, 13.40s/it]\n"
     ]
    },
    {
     "name": "stdout",
     "output_type": "stream",
     "text": [
      "Loaded weights from model_0.pt\n",
      "Epoch 0\n"
     ]
    },
    {
     "name": "stderr",
     "output_type": "stream",
     "text": [
      "100%|██████████| 15/15 [05:11<00:00, 20.75s/it]\n"
     ]
    },
    {
     "name": "stdout",
     "output_type": "stream",
     "text": [
      "Train Loss: 33.890887101491295, Train L2: 14013.148289465573\n",
      "Generating dataset with 1 scenes...\n"
     ]
    },
    {
     "name": "stderr",
     "output_type": "stream",
     "text": [
      "100%|██████████| 1/1 [00:14<00:00, 14.34s/it]\n"
     ]
    },
    {
     "name": "stdout",
     "output_type": "stream",
     "text": [
      "Loaded weights from model_1.pt\n",
      "Epoch 0\n"
     ]
    },
    {
     "name": "stderr",
     "output_type": "stream",
     "text": [
      "100%|██████████| 15/15 [05:25<00:00, 21.72s/it]\n"
     ]
    },
    {
     "name": "stdout",
     "output_type": "stream",
     "text": [
      "Train Loss: 5.7588703791300455, Train L2: 8960.200598102974\n",
      "Adjusting learning rate of group 0 to 2.5000e-04.\n",
      "Generating dataset with 1 scenes...\n"
     ]
    },
    {
     "name": "stderr",
     "output_type": "stream",
     "text": [
      "100%|██████████| 1/1 [00:13<00:00, 13.88s/it]\n"
     ]
    },
    {
     "name": "stdout",
     "output_type": "stream",
     "text": [
      "Loaded weights from model_2.pt\n",
      "Epoch 0\n"
     ]
    },
    {
     "name": "stderr",
     "output_type": "stream",
     "text": [
      "100%|██████████| 15/15 [05:28<00:00, 21.91s/it]\n"
     ]
    },
    {
     "name": "stdout",
     "output_type": "stream",
     "text": [
      "Train Loss: 5.955168374379476, Train L2: 9135.610714666876\n",
      "Generating dataset with 1 scenes...\n"
     ]
    },
    {
     "name": "stderr",
     "output_type": "stream",
     "text": [
      "100%|██████████| 1/1 [00:13<00:00, 13.98s/it]\n"
     ]
    },
    {
     "name": "stdout",
     "output_type": "stream",
     "text": [
      "Loaded weights from model_3.pt\n",
      "Epoch 0\n"
     ]
    },
    {
     "name": "stderr",
     "output_type": "stream",
     "text": [
      "100%|██████████| 15/15 [05:57<00:00, 23.80s/it]\n"
     ]
    },
    {
     "name": "stdout",
     "output_type": "stream",
     "text": [
      "Train Loss: 4.539421908060709, Train L2: 4708.253534289035\n",
      "Adjusting learning rate of group 0 to 1.2500e-04.\n",
      "Generating dataset with 1 scenes...\n"
     ]
    },
    {
     "name": "stderr",
     "output_type": "stream",
     "text": [
      "100%|██████████| 1/1 [00:13<00:00, 13.46s/it]\n"
     ]
    },
    {
     "name": "stdout",
     "output_type": "stream",
     "text": [
      "Loaded weights from model_4.pt\n",
      "Epoch 0\n"
     ]
    },
    {
     "name": "stderr",
     "output_type": "stream",
     "text": [
      "100%|██████████| 15/15 [06:01<00:00, 24.11s/it]\n"
     ]
    },
    {
     "name": "stdout",
     "output_type": "stream",
     "text": [
      "Train Loss: 4.053836870193481, Train L2: 4985.010618630383\n",
      "Generating dataset with 1 scenes...\n"
     ]
    },
    {
     "name": "stderr",
     "output_type": "stream",
     "text": [
      "100%|██████████| 1/1 [00:13<00:00, 13.61s/it]\n"
     ]
    },
    {
     "name": "stdout",
     "output_type": "stream",
     "text": [
      "Loaded weights from model_5.pt\n",
      "Epoch 0\n"
     ]
    },
    {
     "name": "stderr",
     "output_type": "stream",
     "text": [
      "100%|██████████| 15/15 [05:44<00:00, 22.98s/it]\n"
     ]
    },
    {
     "name": "stdout",
     "output_type": "stream",
     "text": [
      "Train Loss: 5.549860159556071, Train L2: 4790.737125312123\n",
      "Adjusting learning rate of group 0 to 6.2500e-05.\n",
      "Generating dataset with 1 scenes...\n"
     ]
    },
    {
     "name": "stderr",
     "output_type": "stream",
     "text": [
      "  0%|          | 0/1 [00:09<?, ?it/s]\n"
     ]
    },
    {
     "ename": "KeyboardInterrupt",
     "evalue": "",
     "output_type": "error",
     "traceback": [
      "\u001b[0;31m---------------------------------------------------------------------------\u001b[0m",
      "\u001b[0;31mKeyboardInterrupt\u001b[0m                         Traceback (most recent call last)",
      "Cell \u001b[0;32mIn[19], line 22\u001b[0m\n\u001b[1;32m     19\u001b[0m \u001b[38;5;28;01mfor\u001b[39;00m file \u001b[38;5;129;01min\u001b[39;00m files:\n\u001b[1;32m     20\u001b[0m     os\u001b[38;5;241m.\u001b[39mremove(os\u001b[38;5;241m.\u001b[39mpath\u001b[38;5;241m.\u001b[39mjoin(\u001b[38;5;124m'\u001b[39m\u001b[38;5;124m./train\u001b[39m\u001b[38;5;124m'\u001b[39m, file))\n\u001b[0;32m---> 22\u001b[0m dataset \u001b[38;5;241m=\u001b[39m \u001b[43mgenerate_dataset_memory\u001b[49m\u001b[43m(\u001b[49m\u001b[38;5;241;43m1\u001b[39;49m\u001b[43m)\u001b[49m\n\u001b[1;32m     25\u001b[0m model \u001b[38;5;241m=\u001b[39m train_memory(model, dataset, \u001b[38;5;124m'\u001b[39m\u001b[38;5;124m./val\u001b[39m\u001b[38;5;124m'\u001b[39m, \u001b[38;5;241m64\u001b[39m, loss_fn, optimizer, \u001b[38;5;241m1\u001b[39m, \u001b[38;5;124m'\u001b[39m\u001b[38;5;124m./models\u001b[39m\u001b[38;5;124m'\u001b[39m, device\u001b[38;5;241m=\u001b[39m\u001b[38;5;124m'\u001b[39m\u001b[38;5;124mcpu\u001b[39m\u001b[38;5;124m'\u001b[39m, \u001b[38;5;28meval\u001b[39m\u001b[38;5;241m=\u001b[39m\u001b[38;5;28;01mFalse\u001b[39;00m)\n\u001b[1;32m     26\u001b[0m \u001b[38;5;28;01mdel\u001b[39;00m dataset\n",
      "File \u001b[0;32m~/python_projects/nbody/nbody-deep-sim/datagen.py:171\u001b[0m, in \u001b[0;36mgenerate_dataset_memory\u001b[0;34m(n_scenes, window_size, shuffle)\u001b[0m\n\u001b[1;32m    169\u001b[0m \u001b[38;5;28mprint\u001b[39m(\u001b[38;5;124mf\u001b[39m\u001b[38;5;124m'\u001b[39m\u001b[38;5;124mGenerating dataset with \u001b[39m\u001b[38;5;132;01m{\u001b[39;00mn_scenes\u001b[38;5;132;01m}\u001b[39;00m\u001b[38;5;124m scenes...\u001b[39m\u001b[38;5;124m'\u001b[39m)\n\u001b[1;32m    170\u001b[0m \u001b[38;5;28;01mfor\u001b[39;00m _ \u001b[38;5;129;01min\u001b[39;00m tqdm\u001b[38;5;241m.\u001b[39mtqdm(\u001b[38;5;28mrange\u001b[39m(n_scenes)):\n\u001b[0;32m--> 171\u001b[0m     scene \u001b[38;5;241m=\u001b[39m \u001b[43mgenerate_scene_2gals_memory\u001b[49m\u001b[43m(\u001b[49m\u001b[43m)\u001b[49m\n\u001b[1;32m    172\u001b[0m     frames \u001b[38;5;241m=\u001b[39m scene[\u001b[38;5;124m'\u001b[39m\u001b[38;5;124mframes\u001b[39m\u001b[38;5;124m'\u001b[39m]\n\u001b[1;32m    173\u001b[0m     masses \u001b[38;5;241m=\u001b[39m scene[\u001b[38;5;124m'\u001b[39m\u001b[38;5;124mmasses\u001b[39m\u001b[38;5;124m'\u001b[39m]\n",
      "File \u001b[0;32m~/python_projects/nbody/nbody-deep-sim/datagen.py:88\u001b[0m, in \u001b[0;36mgenerate_scene_2gals_memory\u001b[0;34m()\u001b[0m\n\u001b[1;32m     85\u001b[0m particles \u001b[38;5;241m=\u001b[39m particles1 \u001b[38;5;241m+\u001b[39m particles2\n\u001b[1;32m     86\u001b[0m sim \u001b[38;5;241m=\u001b[39m NBodySimulation(particles, G, softening, dt)\n\u001b[0;32m---> 88\u001b[0m pos, vel, acc, KE, PE, _, masses, types \u001b[38;5;241m=\u001b[39m \u001b[43msim\u001b[49m\u001b[38;5;241;43m.\u001b[39;49m\u001b[43mrun\u001b[49m\u001b[43m(\u001b[49m\u001b[43mt_end\u001b[49m\u001b[38;5;241;43m=\u001b[39;49m\u001b[43mt_end\u001b[49m\u001b[43m,\u001b[49m\u001b[43m \u001b[49m\u001b[43msave_states\u001b[49m\u001b[38;5;241;43m=\u001b[39;49m\u001b[38;5;28;43;01mTrue\u001b[39;49;00m\u001b[43m)\u001b[49m\n\u001b[1;32m     90\u001b[0m \u001b[38;5;66;03m# Convert all arrays to lists\u001b[39;00m\n\u001b[1;32m     91\u001b[0m pos \u001b[38;5;241m=\u001b[39m np\u001b[38;5;241m.\u001b[39marray(pos)\u001b[38;5;241m.\u001b[39mtranspose(\u001b[38;5;241m2\u001b[39m, \u001b[38;5;241m0\u001b[39m, \u001b[38;5;241m1\u001b[39m)\n",
      "File \u001b[0;32m~/python_projects/nbody/nbody-deep-sim/sim.py:98\u001b[0m, in \u001b[0;36mNBodySimulation.run\u001b[0;34m(self, t_end, save_states)\u001b[0m\n\u001b[1;32m     95\u001b[0m     p\u001b[38;5;241m.\u001b[39mvelocity \u001b[38;5;241m+\u001b[39m\u001b[38;5;241m=\u001b[39m p\u001b[38;5;241m.\u001b[39macceleration \u001b[38;5;241m*\u001b[39m \u001b[38;5;28mself\u001b[39m\u001b[38;5;241m.\u001b[39mdt \u001b[38;5;241m/\u001b[39m \u001b[38;5;241m2.0\u001b[39m\n\u001b[1;32m     96\u001b[0m     p\u001b[38;5;241m.\u001b[39mposition \u001b[38;5;241m+\u001b[39m\u001b[38;5;241m=\u001b[39m p\u001b[38;5;241m.\u001b[39mvelocity \u001b[38;5;241m*\u001b[39m \u001b[38;5;28mself\u001b[39m\u001b[38;5;241m.\u001b[39mdt\n\u001b[0;32m---> 98\u001b[0m \u001b[38;5;28;43mself\u001b[39;49m\u001b[38;5;241;43m.\u001b[39;49m\u001b[43mget_accelerations\u001b[49m\u001b[43m(\u001b[49m\u001b[43m)\u001b[49m\n\u001b[1;32m    100\u001b[0m \u001b[38;5;28;01mfor\u001b[39;00m p \u001b[38;5;129;01min\u001b[39;00m \u001b[38;5;28mself\u001b[39m\u001b[38;5;241m.\u001b[39mparticles:\n\u001b[1;32m    101\u001b[0m     p\u001b[38;5;241m.\u001b[39mvelocity \u001b[38;5;241m+\u001b[39m\u001b[38;5;241m=\u001b[39m p\u001b[38;5;241m.\u001b[39macceleration \u001b[38;5;241m*\u001b[39m \u001b[38;5;28mself\u001b[39m\u001b[38;5;241m.\u001b[39mdt \u001b[38;5;241m/\u001b[39m \u001b[38;5;241m2.0\u001b[39m\n",
      "File \u001b[0;32m~/python_projects/nbody/nbody-deep-sim/sim.py:45\u001b[0m, in \u001b[0;36mNBodySimulation.get_accelerations\u001b[0;34m(self)\u001b[0m\n\u001b[1;32m     42\u001b[0m ay \u001b[38;5;241m=\u001b[39m \u001b[38;5;28mself\u001b[39m\u001b[38;5;241m.\u001b[39mG \u001b[38;5;241m*\u001b[39m (dy \u001b[38;5;241m*\u001b[39m inv_r3) \u001b[38;5;241m@\u001b[39m masses\n\u001b[1;32m     43\u001b[0m az \u001b[38;5;241m=\u001b[39m \u001b[38;5;28mself\u001b[39m\u001b[38;5;241m.\u001b[39mG \u001b[38;5;241m*\u001b[39m (dz \u001b[38;5;241m*\u001b[39m inv_r3) \u001b[38;5;241m@\u001b[39m masses\n\u001b[0;32m---> 45\u001b[0m accelerations \u001b[38;5;241m=\u001b[39m \u001b[43mnp\u001b[49m\u001b[38;5;241;43m.\u001b[39;49m\u001b[43mhstack\u001b[49m\u001b[43m(\u001b[49m\u001b[43m(\u001b[49m\u001b[43max\u001b[49m\u001b[43m,\u001b[49m\u001b[43m \u001b[49m\u001b[43may\u001b[49m\u001b[43m,\u001b[49m\u001b[43m \u001b[49m\u001b[43maz\u001b[49m\u001b[43m)\u001b[49m\u001b[43m)\u001b[49m\n\u001b[1;32m     46\u001b[0m \u001b[38;5;28;01mfor\u001b[39;00m i, p \u001b[38;5;129;01min\u001b[39;00m \u001b[38;5;28menumerate\u001b[39m(\u001b[38;5;28mself\u001b[39m\u001b[38;5;241m.\u001b[39mparticles):\n\u001b[1;32m     47\u001b[0m     p\u001b[38;5;241m.\u001b[39macceleration \u001b[38;5;241m=\u001b[39m accelerations[i]\n",
      "File \u001b[0;32m/opt/miniconda3/envs/open3d/lib/python3.10/site-packages/numpy/core/shape_base.py:215\u001b[0m, in \u001b[0;36m_vhstack_dispatcher\u001b[0;34m(tup, dtype, casting)\u001b[0m\n\u001b[1;32m    209\u001b[0m         \u001b[38;5;28;01mraise\u001b[39;00m \u001b[38;5;167;01mTypeError\u001b[39;00m(\u001b[38;5;124m'\u001b[39m\u001b[38;5;124marrays to stack must be passed as a \u001b[39m\u001b[38;5;124m\"\u001b[39m\u001b[38;5;124msequence\u001b[39m\u001b[38;5;124m\"\u001b[39m\u001b[38;5;124m type \u001b[39m\u001b[38;5;124m'\u001b[39m\n\u001b[1;32m    210\u001b[0m                         \u001b[38;5;124m'\u001b[39m\u001b[38;5;124msuch as list or tuple.\u001b[39m\u001b[38;5;124m'\u001b[39m)\n\u001b[1;32m    212\u001b[0m     \u001b[38;5;28;01mreturn\u001b[39;00m \u001b[38;5;28mtuple\u001b[39m(arrays)\n\u001b[0;32m--> 215\u001b[0m \u001b[38;5;28;01mdef\u001b[39;00m \u001b[38;5;21m_vhstack_dispatcher\u001b[39m(tup, \u001b[38;5;241m*\u001b[39m, dtype\u001b[38;5;241m=\u001b[39m\u001b[38;5;28;01mNone\u001b[39;00m, casting\u001b[38;5;241m=\u001b[39m\u001b[38;5;28;01mNone\u001b[39;00m):\n\u001b[1;32m    216\u001b[0m     \u001b[38;5;28;01mreturn\u001b[39;00m _arrays_for_stack_dispatcher(tup)\n\u001b[1;32m    219\u001b[0m \u001b[38;5;129m@array_function_dispatch\u001b[39m(_vhstack_dispatcher)\n\u001b[1;32m    220\u001b[0m \u001b[38;5;28;01mdef\u001b[39;00m \u001b[38;5;21mvstack\u001b[39m(tup, \u001b[38;5;241m*\u001b[39m, dtype\u001b[38;5;241m=\u001b[39m\u001b[38;5;28;01mNone\u001b[39;00m, casting\u001b[38;5;241m=\u001b[39m\u001b[38;5;124m\"\u001b[39m\u001b[38;5;124msame_kind\u001b[39m\u001b[38;5;124m\"\u001b[39m):\n",
      "\u001b[0;31mKeyboardInterrupt\u001b[0m: "
     ]
    }
   ],
   "source": [
    "model_files = os.listdir('./models/')\n",
    "model_files.sort(key=lambda x: int(x.split('_')[1].split('.')[0]))\n",
    "try:\n",
    "    last_model_id = model_files[-1].split('_')[1].split('.')[0]\n",
    "except IndexError:\n",
    "    last_model_id = -1\n",
    "last_model_id = int(last_model_id)\n",
    "\n",
    "model = KwisatzHaderach(activation=True, layer_channels=[64, 64, 32, 3])\n",
    "\n",
    "\n",
    "\n",
    "optimizer = torch.optim.Adam(model.parameters(), lr=1e-3)\n",
    "scheduler = torch.optim.lr_scheduler.ExponentialLR(optimizer, 0.5, verbose=True)\n",
    "\n",
    "for i in range(10):\n",
    "    # remove all files from train directory\n",
    "    files = os.listdir('./train')\n",
    "    for file in files:\n",
    "        os.remove(os.path.join('./train', file))\n",
    "    \n",
    "    dataset = generate_dataset_memory(1)\n",
    "\n",
    "    \n",
    "    model = train_memory(model, dataset, './val', 64, loss_fn, optimizer, 1, './models', device='cpu', eval=False)\n",
    "    del dataset\n",
    "    last_model_id += 1\n",
    "    torch.save(model.state_dict(), f'./models/model_{last_model_id}.pt')\n",
    "\n",
    "    if i % 2 == 0:\n",
    "        scheduler.step()\n"
   ]
  },
  {
   "cell_type": "code",
   "execution_count": null,
   "metadata": {},
   "outputs": [],
   "source": []
  }
 ],
 "metadata": {
  "kernelspec": {
   "display_name": "open3d",
   "language": "python",
   "name": "python3"
  },
  "language_info": {
   "codemirror_mode": {
    "name": "ipython",
    "version": 3
   },
   "file_extension": ".py",
   "mimetype": "text/x-python",
   "name": "python",
   "nbconvert_exporter": "python",
   "pygments_lexer": "ipython3",
   "version": "3.10.15"
  }
 },
 "nbformat": 4,
 "nbformat_minor": 2
}
