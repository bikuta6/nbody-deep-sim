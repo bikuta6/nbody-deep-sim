{
 "cells": [
  {
   "cell_type": "code",
   "execution_count": 21,
   "metadata": {},
   "outputs": [],
   "source": [
    "import torch\n",
    "from kwisatzHaderach import KwisatzHaderach\n",
    "import json\n",
    "import os\n",
    "import tqdm\n",
    "from datagen import generate_dataset, generate_dataset_memory"
   ]
  },
  {
   "cell_type": "code",
   "execution_count": 22,
   "metadata": {},
   "outputs": [],
   "source": [
    "def euclidean_distance(a, b):\n",
    "    return torch.linalg.norm(a - b, axis=-1) + 1e-12\n",
    "\n",
    "def loss_fn(pr_pos, gt_pos, num_fluid_neighbors):\n",
    "    gamma = 0.5\n",
    "    neighbor_scale = 1 / 50\n",
    "    importance = torch.exp(-neighbor_scale * num_fluid_neighbors)\n",
    "    euclidean_distances = euclidean_distance(pr_pos, gt_pos)\n",
    "    if importance.size()[0] == 0:\n",
    "        return torch.mean(euclidean_distances), torch.mean(euclidean_distances)\n",
    "    return torch.mean(importance *\n",
    "                        euclidean_distances**gamma), torch.mean(euclidean_distances)"
   ]
  },
  {
   "cell_type": "code",
   "execution_count": 23,
   "metadata": {},
   "outputs": [],
   "source": [
    "def train_epoch(model, file, batch_size, loss_fn, optimizer, device):\n",
    "\n",
    "    model.train()\n",
    "    with open(file) as f:\n",
    "        data = json.load(f)\n",
    "\n",
    "    num_batches = len(data) // batch_size\n",
    "    all_losses = []\n",
    "    all_dists = []\n",
    "    for i in tqdm.tqdm(range(num_batches)):\n",
    "        batch = data[i*batch_size:(i+1)*batch_size]\n",
    "        m = torch.tensor([b['masses'] for b in batch], dtype=torch.float32).to(device)\n",
    "        pos0 = torch.tensor([b['pos'] for b in batch], dtype=torch.float32).to(device)\n",
    "        vel0 = torch.tensor([b['vel'] for b in batch], dtype=torch.float32).to(device)\n",
    "        pos1 = torch.tensor([b['pos_next1'] for b in batch], dtype=torch.float32).to(device)\n",
    "        pos2 = torch.tensor([b['pos_next2'] for b in batch], dtype=torch.float32).to(device)\n",
    "\n",
    "        optimizer.zero_grad()\n",
    "        losses = []\n",
    "        for j in range(len(batch)):\n",
    "            l = 0\n",
    "            sample_masses = m[j].unsqueeze(1)\n",
    "            sample_pos0 = pos0[j]\n",
    "            sample_vel0 = vel0[j]\n",
    "            sample_pos1 = pos1[j]\n",
    "            sample_pos2 = pos2[j]\n",
    "\n",
    "            pr_pos1, pr_vel1 = model(sample_pos0, sample_vel0, sample_masses)\n",
    "\n",
    "            loss1, dists1 = loss_fn(pr_pos1, sample_pos1, model.num_neighbors)\n",
    "\n",
    "            all_dists.append(dists1.item()*0.5)\n",
    "\n",
    "            l += 0.5*loss1\n",
    "\n",
    "            pr_pos2, pr_vel2 = model(pr_pos1, pr_vel1, sample_masses)\n",
    "\n",
    "            loss2, dists2 = loss_fn(pr_pos2, sample_pos2, model.num_neighbors)\n",
    "\n",
    "            all_dists.append(dists2.item()*0.5)\n",
    "\n",
    "            l += 0.5*loss2\n",
    "\n",
    "\n",
    "            losses.append(l)\n",
    "\n",
    "        total_loss = 128 * sum(losses) / len(batch)\n",
    "        all_losses.append(total_loss.item())\n",
    "        total_loss.backward()\n",
    "\n",
    "        optimizer.step()\n",
    "\n",
    "    print(f'Train Loss: {sum(all_losses)/len(all_losses)}, Train L2: {sum(all_dists)/len(all_dists)}')\n",
    "\n",
    "def train_epoch_memory(model, data, batch_size, loss_fn, optimizer, device):\n",
    "\n",
    "    model.train()\n",
    "\n",
    "    num_batches = len(data) // batch_size\n",
    "    all_losses = []\n",
    "    all_dists = []\n",
    "    for i in tqdm.tqdm(range(num_batches)):\n",
    "        batch = data[i*batch_size:(i+1)*batch_size]\n",
    "        m = torch.tensor([b['masses'] for b in batch], dtype=torch.float32).to(device)\n",
    "        pos0 = torch.tensor([b['pos'] for b in batch], dtype=torch.float32).to(device)\n",
    "        vel0 = torch.tensor([b['vel'] for b in batch], dtype=torch.float32).to(device)\n",
    "        pos1 = torch.tensor([b['pos_next1'] for b in batch], dtype=torch.float32).to(device)\n",
    "        pos2 = torch.tensor([b['pos_next2'] for b in batch], dtype=torch.float32).to(device)\n",
    "        pos3 = torch.tensor([b['pos_next3'] for b in batch], dtype=torch.float32).to(device)\n",
    "        pos4 = torch.tensor([b['pos_next4'] for b in batch], dtype=torch.float32).to(device)\n",
    "\n",
    "\n",
    "        optimizer.zero_grad()\n",
    "        losses = []\n",
    "        for j in range(len(batch)):\n",
    "            l = 0\n",
    "            sample_masses = m[j].unsqueeze(1)\n",
    "            sample_pos0 = pos0[j]\n",
    "            sample_vel0 = vel0[j]\n",
    "            sample_pos1 = pos1[j]\n",
    "            sample_pos2 = pos2[j]\n",
    "\n",
    "\n",
    "            pr_pos1, pr_vel1 = model(sample_pos0, sample_vel0, sample_masses)\n",
    "\n",
    "            loss1, dists1 = loss_fn(pr_pos1, sample_pos1, model.num_neighbors)\n",
    "\n",
    "            all_dists.append(dists1.item())\n",
    "\n",
    "            l += 0.1*loss1\n",
    "\n",
    "            pr_pos2, pr_vel2 = model(pr_pos1, pr_vel1, sample_masses)\n",
    "\n",
    "            loss2, dists2 = loss_fn(pr_pos2, sample_pos2, model.num_neighbors)\n",
    "\n",
    "            all_dists.append(dists2.item())\n",
    "\n",
    "            l += 0.2*loss2\n",
    "\n",
    "            pr_pos3, pr_vel3 = model(pr_pos2, pr_vel2, sample_masses)\n",
    "\n",
    "            loss3, dists3 = loss_fn(pr_pos3, pos3[j], model.num_neighbors)\n",
    "\n",
    "            all_dists.append(dists3.item())\n",
    "\n",
    "            l += 0.3*loss3\n",
    "\n",
    "            pr_pos4, pr_vel4 = model(pr_pos3, pr_vel3, sample_masses)\n",
    "\n",
    "            loss4, dists4 = loss_fn(pr_pos4, pos4[j], model.num_neighbors)\n",
    "\n",
    "            all_dists.append(dists4.item())\n",
    "\n",
    "            l += 0.4*loss4\n",
    "\n",
    "\n",
    "\n",
    "\n",
    "            losses.append(l)\n",
    "\n",
    "        total_loss = 128 * sum(losses) / len(batch)\n",
    "        all_losses.append(total_loss.item())\n",
    "        total_loss.backward()\n",
    "\n",
    "        optimizer.step()\n",
    "\n",
    "    print(f'Train Loss: {sum(all_losses)/len(all_losses)}, Train L2: {sum(all_dists)/len(all_dists)}')\n",
    "\n",
    "\n",
    "\n",
    "def val(model, val_dir, batch_size, loss_fn, device):\n",
    "    files = os.listdir(val_dir)\n",
    "\n",
    "    model.eval()\n",
    "    with torch.no_grad():\n",
    "        all_losses = []\n",
    "        all_dists = []\n",
    "        for file in files:\n",
    "            with open(os.path.join(val_dir, file)) as f:\n",
    "                data = json.load(f)\n",
    "            m = [b['masses'] for b in data]\n",
    "            pos0 = [b['pos'] for b in data]\n",
    "            vel0 = [b['vel'] for b in data]\n",
    "            pos1 = [b['pos_next1'] for b in data]\n",
    "            pos2 = [b['pos_next2'] for b in data]\n",
    "\n",
    "            loss = 0\n",
    "            for j in range(len(data)):\n",
    "                sample_masses = torch.tensor(m[j], dtype=torch.float32).unsqueeze(1).to(device)\n",
    "                sample_pos0 = torch.tensor(pos0[j], dtype=torch.float32).to(device)\n",
    "                sample_vel0 = torch.tensor(vel0[j], dtype=torch.float32).to(device)\n",
    "                sample_pos1 = torch.tensor(pos1[j], dtype=torch.float32).to(device)\n",
    "                sample_pos2 = torch.tensor(pos2[j], dtype=torch.float32).to(device)\n",
    "\n",
    "\n",
    "                pr_pos1, pr_vel1 = model(sample_pos0, sample_vel0, sample_masses)\n",
    "\n",
    "                loss1, dist1 = loss_fn(pr_pos1, sample_pos1, model.num_neighbors)\n",
    "                loss += 0.5*loss1\n",
    "\n",
    "                all_dists.append(dist1.item())\n",
    "\n",
    "\n",
    "                pr_pos2, _ = model(pr_pos1, pr_vel1, sample_masses)\n",
    "                loss2, dist2 = loss_fn(pr_pos2, sample_pos2, model.num_neighbors)\n",
    "                loss += 0.5*loss2\n",
    "\n",
    "                all_dists.append(dist2.item())\n",
    "\n",
    "\n",
    "            loss = loss / len(data)\n",
    "            all_losses.append(loss.item())\n",
    "\n",
    "            # clear memory\n",
    "            del sample_masses\n",
    "            del sample_pos0\n",
    "            del sample_vel0\n",
    "            del sample_pos1\n",
    "            del sample_pos2\n",
    "            del pr_pos1\n",
    "            del pr_vel1\n",
    "            del pr_pos2\n",
    "            torch.cuda.empty_cache()\n",
    "            \n",
    "\n",
    "\n",
    "        print(f'Val Loss: {sum(all_losses)/len(all_losses)}, Val L2: {sum(all_dists)/len(all_dists)}')\n",
    "\n",
    "\n",
    "            "
   ]
  },
  {
   "cell_type": "code",
   "execution_count": 24,
   "metadata": {},
   "outputs": [],
   "source": [
    "def train(model, train_dir, val_dir, batch_size, loss_fn, optimizer, num_epochs, weights_dir=None, device='cuda', eval=True):\n",
    "\n",
    "    model.to(device)\n",
    "\n",
    "    if weights_dir is not None:\n",
    "        weight_paths = os.listdir(weights_dir)\n",
    "        weight_paths.sort()\n",
    "        try:\n",
    "            model.load_state_dict(torch.load(os.path.join(weights_dir, weight_paths[-1])))\n",
    "            last_model = int(weight_paths[-1].split('_')[1].split('.')[0])\n",
    "            last_model += 1\n",
    "        except:\n",
    "            last_model = 0\n",
    "    \n",
    "    train_files = os.listdir(train_dir)\n",
    "    for epoch in range(num_epochs):\n",
    "        print(f'Epoch {epoch}')\n",
    "        for t_file in train_files:\n",
    "            full_path = os.path.join(train_dir, t_file)\n",
    "            train_epoch(model, full_path, batch_size, loss_fn, optimizer, device)\n",
    "\n",
    "        if eval:\n",
    "            val(model, val_dir, batch_size, loss_fn, device)\n",
    "\n",
    "    torch.save(model.state_dict(), f'./models/model_{last_model}.pt')\n",
    "\n",
    "    return model\n",
    "\n",
    "def train_memory(model, train_data, val_dir, batch_size, loss_fn, optimizer, num_epochs, weights_dir=None, device='cuda', eval=True):\n",
    "    \n",
    "        model.to(device)\n",
    "    \n",
    "        if weights_dir is not None:\n",
    "            weight_paths = os.listdir(weights_dir)\n",
    "            weight_paths.sort(key=lambda x: int(x.split('_')[1].split('.')[0]))\n",
    "            try:\n",
    "                model.load_state_dict(torch.load(os.path.join(weights_dir, weight_paths[-1])))\n",
    "                print(f'Loaded weights from {weight_paths[-1]}')\n",
    "                last_model = int(weight_paths[-1].split('_')[1].split('.')[0])\n",
    "                last_model += 1\n",
    "            except:\n",
    "                last_model = 0\n",
    "        \n",
    "        for epoch in range(num_epochs):\n",
    "            print(f'Epoch {epoch}')\n",
    "            train_epoch_memory(model, train_data, batch_size, loss_fn, optimizer, device)\n",
    "    \n",
    "            if eval:\n",
    "                val(model, val_dir, batch_size, loss_fn, device)\n",
    "    \n",
    "        torch.save(model.state_dict(), f'./models/model_{last_model}.pt')\n",
    "    \n",
    "        return model"
   ]
  },
  {
   "cell_type": "code",
   "execution_count": 25,
   "metadata": {},
   "outputs": [
    {
     "name": "stdout",
     "output_type": "stream",
     "text": [
      "Adjusting learning rate of group 0 to 1.0000e-03.\n",
      "Generating dataset with 25 scenes...\n"
     ]
    },
    {
     "name": "stderr",
     "output_type": "stream",
     "text": [
      "100%|██████████| 25/25 [06:57<00:00, 16.71s/it]\n"
     ]
    },
    {
     "name": "stdout",
     "output_type": "stream",
     "text": [
      "Loaded weights from model_10.pt\n",
      "Epoch 0\n"
     ]
    },
    {
     "name": "stderr",
     "output_type": "stream",
     "text": [
      "100%|██████████| 1548/1548 [16:42<00:00,  1.54it/s]\n"
     ]
    },
    {
     "name": "stdout",
     "output_type": "stream",
     "text": [
      "Train Loss: 0.00705320183103495, Train L2: 0.0009586746525507151\n",
      "Adjusting learning rate of group 0 to 5.0000e-04.\n",
      "Generating dataset with 25 scenes...\n"
     ]
    },
    {
     "name": "stderr",
     "output_type": "stream",
     "text": [
      "100%|██████████| 25/25 [06:08<00:00, 14.74s/it]\n"
     ]
    },
    {
     "name": "stdout",
     "output_type": "stream",
     "text": [
      "Loaded weights from model_11.pt\n",
      "Epoch 0\n"
     ]
    },
    {
     "name": "stderr",
     "output_type": "stream",
     "text": [
      "100%|██████████| 1548/1548 [16:41<00:00,  1.55it/s]\n"
     ]
    },
    {
     "name": "stdout",
     "output_type": "stream",
     "text": [
      "Train Loss: 0.006597265546334647, Train L2: 0.0009881174070850065\n",
      "Generating dataset with 25 scenes...\n"
     ]
    },
    {
     "name": "stderr",
     "output_type": "stream",
     "text": [
      "100%|██████████| 25/25 [06:13<00:00, 14.93s/it]\n"
     ]
    },
    {
     "name": "stdout",
     "output_type": "stream",
     "text": [
      "Loaded weights from model_12.pt\n",
      "Epoch 0\n"
     ]
    },
    {
     "name": "stderr",
     "output_type": "stream",
     "text": [
      "100%|██████████| 1548/1548 [16:45<00:00,  1.54it/s]\n"
     ]
    },
    {
     "name": "stdout",
     "output_type": "stream",
     "text": [
      "Train Loss: 0.006672489968367951, Train L2: 0.0009955053426794471\n",
      "Adjusting learning rate of group 0 to 2.5000e-04.\n",
      "Generating dataset with 25 scenes...\n"
     ]
    },
    {
     "name": "stderr",
     "output_type": "stream",
     "text": [
      "  0%|          | 0/25 [00:06<?, ?it/s]\n"
     ]
    },
    {
     "ename": "KeyboardInterrupt",
     "evalue": "",
     "output_type": "error",
     "traceback": [
      "\u001b[0;31m---------------------------------------------------------------------------\u001b[0m",
      "\u001b[0;31mKeyboardInterrupt\u001b[0m                         Traceback (most recent call last)",
      "Cell \u001b[0;32mIn[25], line 22\u001b[0m\n\u001b[1;32m     19\u001b[0m \u001b[38;5;28;01mfor\u001b[39;00m file \u001b[38;5;129;01min\u001b[39;00m files:\n\u001b[1;32m     20\u001b[0m     os\u001b[38;5;241m.\u001b[39mremove(os\u001b[38;5;241m.\u001b[39mpath\u001b[38;5;241m.\u001b[39mjoin(\u001b[38;5;124m'\u001b[39m\u001b[38;5;124m./train\u001b[39m\u001b[38;5;124m'\u001b[39m, file))\n\u001b[0;32m---> 22\u001b[0m dataset \u001b[38;5;241m=\u001b[39m \u001b[43mgenerate_dataset_memory\u001b[49m\u001b[43m(\u001b[49m\u001b[38;5;241;43m25\u001b[39;49m\u001b[43m)\u001b[49m\n\u001b[1;32m     25\u001b[0m model \u001b[38;5;241m=\u001b[39m train_memory(model, dataset, \u001b[38;5;124m'\u001b[39m\u001b[38;5;124m./val\u001b[39m\u001b[38;5;124m'\u001b[39m, \u001b[38;5;241m16\u001b[39m, loss_fn, optimizer, \u001b[38;5;241m1\u001b[39m, \u001b[38;5;124m'\u001b[39m\u001b[38;5;124m./models\u001b[39m\u001b[38;5;124m'\u001b[39m, device\u001b[38;5;241m=\u001b[39m\u001b[38;5;124m'\u001b[39m\u001b[38;5;124mcuda\u001b[39m\u001b[38;5;124m'\u001b[39m, \u001b[38;5;28meval\u001b[39m\u001b[38;5;241m=\u001b[39m\u001b[38;5;28;01mFalse\u001b[39;00m)\n\u001b[1;32m     26\u001b[0m \u001b[38;5;28;01mdel\u001b[39;00m dataset\n",
      "File \u001b[0;32m~/projects/nbody-deep-sim-main/nbody-deep-sim-main/datagen.py:170\u001b[0m, in \u001b[0;36mgenerate_dataset_memory\u001b[0;34m(n_scenes, window_size, shuffle)\u001b[0m\n\u001b[1;32m    168\u001b[0m \u001b[38;5;28mprint\u001b[39m(\u001b[38;5;124mf\u001b[39m\u001b[38;5;124m'\u001b[39m\u001b[38;5;124mGenerating dataset with \u001b[39m\u001b[38;5;132;01m{\u001b[39;00mn_scenes\u001b[38;5;132;01m}\u001b[39;00m\u001b[38;5;124m scenes...\u001b[39m\u001b[38;5;124m'\u001b[39m)\n\u001b[1;32m    169\u001b[0m \u001b[38;5;28;01mfor\u001b[39;00m _ \u001b[38;5;129;01min\u001b[39;00m tqdm\u001b[38;5;241m.\u001b[39mtqdm(\u001b[38;5;28mrange\u001b[39m(n_scenes)):\n\u001b[0;32m--> 170\u001b[0m     scene \u001b[38;5;241m=\u001b[39m \u001b[43mgenerate_scene_2gals_memory\u001b[49m\u001b[43m(\u001b[49m\u001b[43m)\u001b[49m\n\u001b[1;32m    171\u001b[0m     frames \u001b[38;5;241m=\u001b[39m scene[\u001b[38;5;124m'\u001b[39m\u001b[38;5;124mframes\u001b[39m\u001b[38;5;124m'\u001b[39m]\n\u001b[1;32m    172\u001b[0m     masses \u001b[38;5;241m=\u001b[39m scene[\u001b[38;5;124m'\u001b[39m\u001b[38;5;124mmasses\u001b[39m\u001b[38;5;124m'\u001b[39m]\n",
      "File \u001b[0;32m~/projects/nbody-deep-sim-main/nbody-deep-sim-main/datagen.py:88\u001b[0m, in \u001b[0;36mgenerate_scene_2gals_memory\u001b[0;34m()\u001b[0m\n\u001b[1;32m     85\u001b[0m particles \u001b[38;5;241m=\u001b[39m particles1 \u001b[38;5;241m+\u001b[39m particles2\n\u001b[1;32m     86\u001b[0m sim \u001b[38;5;241m=\u001b[39m NBodySimulation(particles, G, softening, dt)\n\u001b[0;32m---> 88\u001b[0m pos, vel, acc, KE, PE, _, masses, types \u001b[38;5;241m=\u001b[39m \u001b[43msim\u001b[49m\u001b[38;5;241;43m.\u001b[39;49m\u001b[43mrun\u001b[49m\u001b[43m(\u001b[49m\u001b[43mt_end\u001b[49m\u001b[38;5;241;43m=\u001b[39;49m\u001b[43mt_end\u001b[49m\u001b[43m,\u001b[49m\u001b[43m \u001b[49m\u001b[43msave_states\u001b[49m\u001b[38;5;241;43m=\u001b[39;49m\u001b[38;5;28;43;01mTrue\u001b[39;49;00m\u001b[43m)\u001b[49m\n\u001b[1;32m     90\u001b[0m \u001b[38;5;66;03m# Convert all arrays to lists\u001b[39;00m\n\u001b[1;32m     91\u001b[0m pos \u001b[38;5;241m=\u001b[39m np\u001b[38;5;241m.\u001b[39marray(pos)\u001b[38;5;241m.\u001b[39mtranspose(\u001b[38;5;241m2\u001b[39m, \u001b[38;5;241m0\u001b[39m, \u001b[38;5;241m1\u001b[39m)\n",
      "File \u001b[0;32m~/projects/nbody-deep-sim-main/nbody-deep-sim-main/sim.py:113\u001b[0m, in \u001b[0;36mNBodySimulation.run\u001b[0;34m(self, t_end, save_states)\u001b[0m\n\u001b[1;32m    111\u001b[0m         pos_save[j, :, i \u001b[38;5;241m+\u001b[39m \u001b[38;5;241m1\u001b[39m] \u001b[38;5;241m=\u001b[39m p\u001b[38;5;241m.\u001b[39mposition\n\u001b[1;32m    112\u001b[0m         vel_save[j, :, i \u001b[38;5;241m+\u001b[39m \u001b[38;5;241m1\u001b[39m] \u001b[38;5;241m=\u001b[39m p\u001b[38;5;241m.\u001b[39mvelocity\n\u001b[0;32m--> 113\u001b[0m         accel_save[j, :, i \u001b[38;5;241m+\u001b[39m \u001b[38;5;241m1\u001b[39m] \u001b[38;5;241m=\u001b[39m p\u001b[38;5;241m.\u001b[39macceleration\n\u001b[1;32m    115\u001b[0m types \u001b[38;5;241m=\u001b[39m [p\u001b[38;5;241m.\u001b[39mtype \u001b[38;5;28;01mfor\u001b[39;00m p \u001b[38;5;129;01min\u001b[39;00m \u001b[38;5;28mself\u001b[39m\u001b[38;5;241m.\u001b[39mparticles]\n\u001b[1;32m    117\u001b[0m \u001b[38;5;28;01mif\u001b[39;00m save_states:\n",
      "\u001b[0;31mKeyboardInterrupt\u001b[0m: "
     ]
    }
   ],
   "source": [
    "model_files = os.listdir('./models/')\n",
    "model_files.sort(key=lambda x: int(x.split('_')[1].split('.')[0]))\n",
    "try:\n",
    "    last_model_id = model_files[-1].split('_')[1].split('.')[0]\n",
    "except IndexError:\n",
    "    last_model_id = -1\n",
    "last_model_id = int(last_model_id)\n",
    "\n",
    "model = KwisatzHaderach(activation=True, layer_channels=[64, 64, 32, 3])\n",
    "\n",
    "\n",
    "\n",
    "optimizer = torch.optim.Adam(model.parameters(), lr=1e-3)\n",
    "scheduler = torch.optim.lr_scheduler.ExponentialLR(optimizer, 0.5, verbose=True)\n",
    "\n",
    "for i in range(10):\n",
    "    # remove all files from train directory\n",
    "    files = os.listdir('./train')\n",
    "    for file in files:\n",
    "        os.remove(os.path.join('./train', file))\n",
    "    \n",
    "    dataset = generate_dataset_memory(25)\n",
    "\n",
    "    \n",
    "    model = train_memory(model, dataset, './val', 16, loss_fn, optimizer, 1, './models', device='cuda', eval=False)\n",
    "    del dataset\n",
    "    last_model_id += 1\n",
    "    torch.save(model.state_dict(), f'./models/model_{last_model_id}.pt')\n",
    "\n",
    "    if i % 2 == 0:\n",
    "        scheduler.step()\n"
   ]
  }
 ],
 "metadata": {
  "kernelspec": {
   "display_name": "Python 3",
   "language": "python",
   "name": "python3"
  },
  "language_info": {
   "codemirror_mode": {
    "name": "ipython",
    "version": 3
   },
   "file_extension": ".py",
   "mimetype": "text/x-python",
   "name": "python",
   "nbconvert_exporter": "python",
   "pygments_lexer": "ipython3",
   "version": "3.10.15"
  }
 },
 "nbformat": 4,
 "nbformat_minor": 2
}
