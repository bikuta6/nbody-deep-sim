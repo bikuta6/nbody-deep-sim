{
 "cells": [
  {
   "cell_type": "code",
   "execution_count": 35,
   "metadata": {},
   "outputs": [],
   "source": [
    "from sim import NBodySimulation, animate3d, generateDisk3Dv3\n",
    "import numpy as np\n",
    "import json"
   ]
  },
  {
   "cell_type": "code",
   "execution_count": 47,
   "metadata": {},
   "outputs": [],
   "source": [
    "\n",
    "\n",
    "def gen_params():\n",
    "    return {\n",
    "        'nbStars': np.random.randint(100, 1000),\n",
    "        'radius': np.random.uniform(0.5, 2.5),\n",
    "        'Mass': np.random.uniform(1.0, 3.0),\n",
    "        'zOffsetMax': np.random.uniform(0, 0.5),\n",
    "        'gravityCst': 1.0,\n",
    "        'distribution': 'hernquist',\n",
    "        'offset': [np.random.uniform(-1, 1), np.random.uniform(-1, 1), np.random.uniform(-1, 1)],\n",
    "        'initial_vel': [np.random.uniform(-0.1, 0.1), np.random.uniform(-0.1, 0.1), np.random.uniform(-0.1, 0.1)],\n",
    "        'clockwise': np.random.choice([1, 0]),\n",
    "        'angle': [np.random.uniform(-1, 1)*2*np.pi, np.random.uniform(-1, 1)*2*np.pi, np.random.uniform(-1, 1)*2*np.pi]\n",
    "    }\n",
    "\n",
    "def generate_scene_2gals():\n",
    "    params1 = gen_params()\n",
    "    params2 = gen_params()\n",
    "    print(params1)\n",
    "    print(params2)\n",
    "\n",
    "    particles1 = generateDisk3Dv3(**params1)\n",
    "    particles2 = generateDisk3Dv3(**params2)\n",
    "\n",
    "    t_end = 10.0\n",
    "    dt = 0.01\n",
    "    softening = 0.1\n",
    "    G = 1.0\n",
    "\n",
    "    particles = particles1 + particles2\n",
    "    sim = NBodySimulation(particles, G, softening, dt)\n",
    "\n",
    "    pos, vel, acc, KE, PE, t_all, masses = sim.run(t_end=t_end, plot_real_time=False, save_states=True)\n",
    "\n",
    "    frames = []\n",
    "    for i in range(len(pos)):\n",
    "        frames.append({\n",
    "            'frame': i,\n",
    "            'pos': pos[i],\n",
    "            'vel': vel[i],\n",
    "            'acc': acc[i]\n",
    "        })\n",
    "\n",
    "    final_json = {\n",
    "        'galaxy1_params': params1,\n",
    "        'galaxy2_params': params2,\n",
    "        'dt' : dt,\n",
    "        'softening' : softening,\n",
    "        'G' : G,\n",
    "        't_end' : t_end,\n",
    "        'masses' : masses,\n",
    "        'frames': frames\n",
    "    }\n",
    "\n",
    "    return final_json\n"
   ]
  },
  {
   "cell_type": "code",
   "execution_count": 48,
   "metadata": {},
   "outputs": [
    {
     "name": "stdout",
     "output_type": "stream",
     "text": [
      "{'nbStars': 706, 'radius': 0.7386780411191578, 'Mass': 2.6776410070855037, 'zOffsetMax': 0.2562402292968483, 'gravityCst': 1.0, 'distribution': 'hernquist', 'offset': [0.9292163498656545, 0.786145495921933, -0.8203354948537347], 'initial_vel': [-0.04835851303085255, 0.07372970426092315, -0.010102343150972984], 'clockwise': 0, 'angle': [5.218288418639533, 0.11874579463687168, -2.2705435294061505]}\n",
      "{'nbStars': 971, 'radius': 1.6728951357472, 'Mass': 2.3419080633022027, 'zOffsetMax': 0.192480423861686, 'gravityCst': 1.0, 'distribution': 'hernquist', 'offset': [-0.22252414830821032, -0.3989387585214399, -0.8786233850113603], 'initial_vel': [-0.07367466116301435, 0.08673275778394252, 0.020355692126402716], 'clockwise': 1, 'angle': [1.0887892124493455, 5.415642531539282, -1.50228113020012]}\n"
     ]
    },
    {
     "name": "stderr",
     "output_type": "stream",
     "text": [
      "100%|██████████| 1000/1000 [02:31<00:00,  6.59it/s]\n"
     ]
    },
    {
     "ename": "IndexError",
     "evalue": "index 1001 is out of bounds for axis 0 with size 1001",
     "output_type": "error",
     "traceback": [
      "\u001b[0;31m---------------------------------------------------------------------------\u001b[0m",
      "\u001b[0;31mIndexError\u001b[0m                                Traceback (most recent call last)",
      "Cell \u001b[0;32mIn[48], line 1\u001b[0m\n\u001b[0;32m----> 1\u001b[0m json_test \u001b[38;5;241m=\u001b[39m \u001b[43mgenerate_scene_2gals\u001b[49m\u001b[43m(\u001b[49m\u001b[43m)\u001b[49m\n",
      "Cell \u001b[0;32mIn[47], line 41\u001b[0m, in \u001b[0;36mgenerate_scene_2gals\u001b[0;34m()\u001b[0m\n\u001b[1;32m     34\u001b[0m frames \u001b[38;5;241m=\u001b[39m []\n\u001b[1;32m     35\u001b[0m \u001b[38;5;28;01mfor\u001b[39;00m i \u001b[38;5;129;01min\u001b[39;00m \u001b[38;5;28mrange\u001b[39m(\u001b[38;5;28mlen\u001b[39m(pos)):\n\u001b[1;32m     36\u001b[0m     frames\u001b[38;5;241m.\u001b[39mappend({\n\u001b[1;32m     37\u001b[0m         \u001b[38;5;124m'\u001b[39m\u001b[38;5;124mframe\u001b[39m\u001b[38;5;124m'\u001b[39m: i,\n\u001b[1;32m     38\u001b[0m         \u001b[38;5;124m'\u001b[39m\u001b[38;5;124mpos\u001b[39m\u001b[38;5;124m'\u001b[39m: pos[i],\n\u001b[1;32m     39\u001b[0m         \u001b[38;5;124m'\u001b[39m\u001b[38;5;124mvel\u001b[39m\u001b[38;5;124m'\u001b[39m: vel[i],\n\u001b[1;32m     40\u001b[0m         \u001b[38;5;124m'\u001b[39m\u001b[38;5;124macc\u001b[39m\u001b[38;5;124m'\u001b[39m: acc[i],\n\u001b[0;32m---> 41\u001b[0m         \u001b[38;5;124m'\u001b[39m\u001b[38;5;124mKE\u001b[39m\u001b[38;5;124m'\u001b[39m: \u001b[43mKE\u001b[49m\u001b[43m[\u001b[49m\u001b[43mi\u001b[49m\u001b[43m]\u001b[49m,\n\u001b[1;32m     42\u001b[0m         \u001b[38;5;124m'\u001b[39m\u001b[38;5;124mPE\u001b[39m\u001b[38;5;124m'\u001b[39m: PE[i]\n\u001b[1;32m     43\u001b[0m     })\n\u001b[1;32m     45\u001b[0m final_json \u001b[38;5;241m=\u001b[39m {\n\u001b[1;32m     46\u001b[0m     \u001b[38;5;124m'\u001b[39m\u001b[38;5;124mgalaxy1_params\u001b[39m\u001b[38;5;124m'\u001b[39m: params1,\n\u001b[1;32m     47\u001b[0m     \u001b[38;5;124m'\u001b[39m\u001b[38;5;124mgalaxy2_params\u001b[39m\u001b[38;5;124m'\u001b[39m: params2,\n\u001b[0;32m   (...)\u001b[0m\n\u001b[1;32m     53\u001b[0m     \u001b[38;5;124m'\u001b[39m\u001b[38;5;124mframes\u001b[39m\u001b[38;5;124m'\u001b[39m: frames\n\u001b[1;32m     54\u001b[0m }\n\u001b[1;32m     56\u001b[0m \u001b[38;5;28;01mreturn\u001b[39;00m final_json\n",
      "\u001b[0;31mIndexError\u001b[0m: index 1001 is out of bounds for axis 0 with size 1001"
     ]
    }
   ],
   "source": [
    "json_test = generate_scene_2gals()\n"
   ]
  },
  {
   "cell_type": "code",
   "execution_count": null,
   "metadata": {},
   "outputs": [],
   "source": [
    "print(json.dumps(json_test, indent=4))"
   ]
  },
  {
   "cell_type": "code",
   "execution_count": null,
   "metadata": {},
   "outputs": [],
   "source": []
  }
 ],
 "metadata": {
  "kernelspec": {
   "display_name": "torch_env",
   "language": "python",
   "name": "python3"
  },
  "language_info": {
   "codemirror_mode": {
    "name": "ipython",
    "version": 3
   },
   "file_extension": ".py",
   "mimetype": "text/x-python",
   "name": "python",
   "nbconvert_exporter": "python",
   "pygments_lexer": "ipython3",
   "version": "3.10.14"
  }
 },
 "nbformat": 4,
 "nbformat_minor": 2
}
