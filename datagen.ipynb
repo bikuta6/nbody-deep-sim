{
 "cells": [
  {
   "cell_type": "code",
   "execution_count": 1,
   "metadata": {},
   "outputs": [],
   "source": [
    "from sim import NBodySimulation, animate3d, generateDisk3Dv3\n",
    "import numpy as np\n",
    "import json"
   ]
  },
  {
   "cell_type": "code",
   "execution_count": 38,
   "metadata": {},
   "outputs": [
    {
     "name": "stdout",
     "output_type": "stream",
     "text": [
      "{'nbStars': 100, 'radius': 1.2233319325988472, 'Mass': 1.0471439663931703, 'zOffsetMax': 0.33352644401524323, 'gravityCst': 1.0, 'distribution': 'hernquist', 'offset': [-0.8914588981339868, -0.9489557350159583, -0.8080929146500702], 'initial_vel': [0.011019707113007676, 0.0848561977605157, 0.06506129658101384], 'clockwise': 0, 'angle': [-3.3895535283929252, 5.354523438365304, 0.014740515383350111]}\n",
      "{'nbStars': 100, 'radius': 1.0895231168603616, 'Mass': 2.920978986105149, 'zOffsetMax': 0.35138012554165793, 'gravityCst': 1.0, 'distribution': 'hernquist', 'offset': [0.5692516584377638, 0.4508505935223568, 0.13828059620338884], 'initial_vel': [0.09406618012980336, -0.03160465188233999, 0.07435991916994705], 'clockwise': 1, 'angle': [4.618789919547556, -3.329051985509494, -0.2039424814726258]}\n"
     ]
    },
    {
     "name": "stderr",
     "output_type": "stream",
     "text": [
      "  0%|          | 0/1000 [00:00<?, ?it/s]"
     ]
    },
    {
     "name": "stderr",
     "output_type": "stream",
     "text": [
      "100%|██████████| 1000/1000 [00:03<00:00, 285.25it/s]\n"
     ]
    },
    {
     "name": "stdout",
     "output_type": "stream",
     "text": [
      "(202, 3, 1001)\n",
      "(1001, 202, 3)\n",
      "(1001, 202, 3)\n",
      "(1001, 202, 3)\n"
     ]
    }
   ],
   "source": [
    "\n",
    "\n",
    "def gen_params():\n",
    "    return {\n",
    "        'nbStars': int(np.random.randint(100, 101)),\n",
    "        'radius': float(np.random.uniform(0.5, 2.5)),\n",
    "        'Mass': float(np.random.uniform(1.0, 3.0)),\n",
    "        'zOffsetMax': float(np.random.uniform(0, 0.5)),\n",
    "        'gravityCst': 1.0,\n",
    "        'distribution': 'hernquist',\n",
    "        'offset': [float(np.random.uniform(-1, 1)), float(np.random.uniform(-1, 1)), float(np.random.uniform(-1, 1))],\n",
    "        'initial_vel': [float(np.random.uniform(-0.1, 0.1)), float(np.random.uniform(-0.1, 0.1)), float(np.random.uniform(-0.1, 0.1))],\n",
    "        'clockwise': int(np.random.choice([1, 0])),\n",
    "        'angle': [float(np.random.uniform(-1, 1)*2*np.pi), float(np.random.uniform(-1, 1)*2*np.pi), float(np.random.uniform(-1, 1)*2*np.pi)]\n",
    "    }\n",
    "\n",
    "def generate_scene_2gals():\n",
    "    params1 = gen_params()\n",
    "    params2 = gen_params()\n",
    "    print(params1)\n",
    "    print(params2)\n",
    "\n",
    "    particles1 = generateDisk3Dv3(**params1)\n",
    "    particles2 = generateDisk3Dv3(**params2)\n",
    "\n",
    "    t_end = 10.0\n",
    "    dt = 0.01\n",
    "    softening = 0.1\n",
    "    G = 1.0\n",
    "\n",
    "    particles = particles1 + particles2\n",
    "    sim = NBodySimulation(particles, G, softening, dt)\n",
    "\n",
    "    pos, vel, acc, KE, PE, _, masses, types = sim.run(t_end=t_end, save_states=True)\n",
    "    print(pos.shape)\n",
    "    \n",
    "    # Convert all arrays to lists\n",
    "    pos = np.array(pos).transpose(2, 0, 1)\n",
    "    vel = np.array(vel).transpose(2, 0, 1)\n",
    "    acc = np.array(acc).transpose(2, 0, 1)\n",
    "    KE = KE.flatten().astype(float).tolist()  # Ensure floats\n",
    "    PE = PE.flatten().astype(float).tolist()  # Ensure floats\n",
    "    masses = masses.flatten().astype(float).tolist()  # Ensure floats\n",
    "\n",
    "    print(pos.shape)\n",
    "    print(vel.shape)\n",
    "    print(acc.shape)\n",
    "\n",
    "    frames = []\n",
    "    for i in range(len(pos)):\n",
    "        frames.append({\n",
    "            'frame': int(i),  # Ensure the frame index is an int\n",
    "            'pos': pos[i].tolist(),\n",
    "            'vel': vel[i].tolist(),\n",
    "            'acc': acc[i].tolist()\n",
    "        })\n",
    "\n",
    "    final_json = {\n",
    "        'galaxy1_params': params1,\n",
    "        'galaxy2_params': params2,\n",
    "        'dt': float(dt),\n",
    "        'softening': float(softening),\n",
    "        'G': float(G),\n",
    "        't_end': float(t_end),\n",
    "        'masses': [float(m) for m in masses],\n",
    "        'types': types,\n",
    "        'KE': KE,\n",
    "        'PE': PE,\n",
    "        'frames': frames\n",
    "    }\n",
    "\n",
    "    return json.dumps(final_json, indent=4)\n",
    "\n",
    "\n",
    "def generate_dataset(n_scenes=1, window_size=3):\n",
    "    # the objective is to generate samples from n scenes, of 3 frames each, saving positions, velocities and accelerations, the idea is to predict acceleration from the first frame for the next 2 frames to integrate position and velocity\n",
    "    dataset = []\n",
    "    for i in range(n_scenes):\n",
    "        scene = generate_scene_2gals()\n",
    "        scene = json.loads(scene)\n",
    "        frames = scene['frames']\n",
    "        masses = scene['masses']\n",
    "        for j in range(len(frames)-window_size):\n",
    "            sample = {\n",
    "                'scene': i,\n",
    "                'frame': j,\n",
    "                'masses': masses,\n",
    "                'pos': frames[j]['pos'],\n",
    "                'vel': frames[j]['vel'],\n",
    "                'acc': frames[j]['acc'],\n",
    "            }\n",
    "            for k in range(1, window_size):\n",
    "                sample['pos_next{}'.format(k)] = frames[j+k]['pos']\n",
    "                sample['vel_next{}'.format(k)] = frames[j+k]['vel']\n",
    "                sample['acc_next{}'.format(k)] = frames[j+k]['acc']\n",
    "            dataset.append(sample)\n",
    "\n",
    "    return dataset\n",
    "\n",
    "dataset = generate_dataset(1, 3)\n"
   ]
  },
  {
   "cell_type": "code",
   "execution_count": null,
   "metadata": {},
   "outputs": [],
   "source": []
  }
 ],
 "metadata": {
  "kernelspec": {
   "display_name": "torch_env",
   "language": "python",
   "name": "python3"
  },
  "language_info": {
   "codemirror_mode": {
    "name": "ipython",
    "version": 3
   },
   "file_extension": ".py",
   "mimetype": "text/x-python",
   "name": "python",
   "nbconvert_exporter": "python",
   "pygments_lexer": "ipython3",
   "version": "3.10.15"
  }
 },
 "nbformat": 4,
 "nbformat_minor": 2
}
